{
 "cells": [
  {
   "cell_type": "code",
   "execution_count": 1,
   "metadata": {},
   "outputs": [],
   "source": [
    "import numpy as np\n",
    "import seaborn as sns\n",
    "import pandas as pd\n",
    "\n",
    "import matplotlib.pyplot as plt\n",
    "import matplotlib.colors as colors\n",
    "import datetime as dt\n",
    "import math\n",
    "\n",
    "import warnings\n",
    "warnings.filterwarnings('ignore')\n",
    "\n",
    "\n",
    "ca_categories = pd.read_json('CA_category_id.json')\n",
    "\n",
    "ca_videos = pd.read_csv('CAvideos.csv'\n",
    "                        \n",
    "                        #, encoding='latin1'\n",
    "                       )\n"
   ]
  },
  {
   "cell_type": "code",
   "execution_count": 2,
   "metadata": {},
   "outputs": [
    {
     "name": "stdout",
     "output_type": "stream",
     "text": [
      "Data collection start date:  17.01.12\n",
      "Date collection end date:  18.31.05\n"
     ]
    }
   ],
   "source": [
    "ca_videos['trending_date'].sort_values()\n",
    "print('Data collection start date: ', ca_videos['trending_date'].min())\n",
    "print('Date collection end date: ', ca_videos['trending_date'].max())"
   ]
  },
  {
   "cell_type": "markdown",
   "metadata": {},
   "source": [
    "### Publication Date"
   ]
  },
  {
   "cell_type": "code",
   "execution_count": 3,
   "metadata": {},
   "outputs": [
    {
     "name": "stdout",
     "output_type": "stream",
     "text": [
      "Original publication start date:  2006-07-23\n",
      "Original publication end date:  18.31.05\n"
     ]
    }
   ],
   "source": [
    "ca_videos['publish_time'] = pd.to_datetime(ca_videos['publish_time'], format='%Y-%m-%dT%H:%M:%S.%fZ').dt.date\n",
    "print('Original publication start date: ', ca_videos['publish_time'].min())\n",
    "print('Original publication end date: ', ca_videos['trending_date'].max())"
   ]
  },
  {
   "cell_type": "markdown",
   "metadata": {},
   "source": [
    "## Categories"
   ]
  },
  {
   "cell_type": "code",
   "execution_count": 4,
   "metadata": {},
   "outputs": [
    {
     "data": {
      "text/plain": [
       "{1: 'Film & Animation',\n",
       " 2: 'Autos & Vehicles',\n",
       " 10: 'Music',\n",
       " 15: 'Pets & Animals',\n",
       " 17: 'Sports',\n",
       " 18: 'Short Movies',\n",
       " 19: 'Travel & Events',\n",
       " 20: 'Gaming',\n",
       " 21: 'Videoblogging',\n",
       " 22: 'People & Blogs',\n",
       " 23: 'Comedy',\n",
       " 24: 'Entertainment',\n",
       " 25: 'News & Politics',\n",
       " 26: 'Howto & Style',\n",
       " 27: 'Education',\n",
       " 28: 'Science & Technology',\n",
       " 29: 'Nonprofits & Activism',\n",
       " 30: 'Movies',\n",
       " 31: 'Anime/Animation',\n",
       " 32: 'Action/Adventure',\n",
       " 33: 'Classics',\n",
       " 34: 'Comedy',\n",
       " 35: 'Documentary',\n",
       " 36: 'Drama',\n",
       " 37: 'Family',\n",
       " 38: 'Foreign',\n",
       " 39: 'Horror',\n",
       " 40: 'Sci-Fi/Fantasy',\n",
       " 41: 'Thriller',\n",
       " 42: 'Shorts',\n",
       " 43: 'Shows',\n",
       " 44: 'Trailers'}"
      ]
     },
     "execution_count": 4,
     "metadata": {},
     "output_type": "execute_result"
    }
   ],
   "source": [
    "categories = {int(category['id']): category['snippet']['title'] for category in ca_categories['items']}\n",
    "ca_videos[\"category_name\"] = ca_videos[\"category_id\"].map(categories)\n",
    "categories"
   ]
  },
  {
   "cell_type": "markdown",
   "metadata": {},
   "source": [
    "In the description above, we determined that #24 is the category with the most trending videos. Here we can see that it's entertainment."
   ]
  },
  {
   "cell_type": "markdown",
   "metadata": {},
   "source": [
    "## Boolean Data"
   ]
  },
  {
   "cell_type": "markdown",
   "metadata": {},
   "source": [
    "Now we evaluate the boolean data, before moving on to the numerical data. \n",
    "There are three boolean variables: comment_disabled, ratings_disabled, and video_error_or_removed."
   ]
  },
  {
   "cell_type": "code",
   "execution_count": 5,
   "metadata": {},
   "outputs": [
    {
     "name": "stdout",
     "output_type": "stream",
     "text": [
      "       comments_disabled  ratings_disabled  video_error_or_removed\n",
      "False              40316             40780                   40926\n",
      "True                 633               169                      23\n",
      "\n",
      "Number of videos with comments and ratings disabled that have been removed:  0\n",
      "Number of videos with both comments and ratings disabled:  106\n"
     ]
    }
   ],
   "source": [
    "bool_data = ca_videos.select_dtypes(include = 'bool').apply(pd.Series.value_counts)\n",
    "print(bool_data)\n",
    "print()\n",
    "print('Number of videos with comments and ratings disabled that have been removed: ', \n",
    "      len(ca_videos[(ca_videos[\"comments_disabled\"] == True) & (ca_videos[\"ratings_disabled\"] == True) & (ca_videos['video_error_or_removed'] == True)]))\n",
    "print('Number of videos with both comments and ratings disabled: ',  \n",
    "      len(ca_videos[(ca_videos[\"comments_disabled\"] == True) & (ca_videos[\"ratings_disabled\"] == True)]))"
   ]
  },
  {
   "cell_type": "code",
   "execution_count": 6,
   "metadata": {},
   "outputs": [
    {
     "data": {
      "text/plain": [
       "<matplotlib.legend.Legend at 0x109b2c690>"
      ]
     },
     "execution_count": 6,
     "metadata": {},
     "output_type": "execute_result"
    },
    {
     "data": {
      "image/png": "[encoded data removed]",
      "text/plain": [
       "<Figure size 432x288 with 1 Axes>"
      ]
     },
     "metadata": {
      "needs_background": "light"
     },
     "output_type": "display_data"
    }
   ],
   "source": [
    "bool_data = bool_data.transpose()\n",
    "bool_data.plot.bar(stacked = True)\n",
    "plt.xticks(rotation = 'horizontal')\n",
    "plt.legend(bbox_to_anchor=(1.01, 1), loc='upper left')"
   ]
  },
  {
   "cell_type": "markdown",
   "metadata": {},
   "source": [
    "Clearly a very low percentage of videos have disabled comments, ratings, or have been removed due to error. "
   ]
  },
  {
   "cell_type": "code",
   "execution_count": 7,
   "metadata": {},
   "outputs": [
    {
     "data": {
      "text/html": [
       "<div>\n",
       "<style scoped>\n",
       "    .dataframe tbody tr th:only-of-type {\n",
       "        vertical-align: middle;\n",
       "    }\n",
       "\n",
       "    .dataframe tbody tr th {\n",
       "        vertical-align: top;\n",
       "    }\n",
       "\n",
       "    .dataframe thead th {\n",
       "        text-align: right;\n",
       "    }\n",
       "</style>\n",
       "<table border=\"1\" class=\"dataframe\">\n",
       "  <thead>\n",
       "    <tr style=\"text-align: right;\">\n",
       "      <th></th>\n",
       "      <th>video_id</th>\n",
       "      <th>trending_date</th>\n",
       "      <th>title</th>\n",
       "      <th>channel_title</th>\n",
       "      <th>category_id</th>\n",
       "      <th>publish_time</th>\n",
       "      <th>tags</th>\n",
       "      <th>views</th>\n",
       "      <th>likes</th>\n",
       "      <th>dislikes</th>\n",
       "      <th>comment_count</th>\n",
       "      <th>thumbnail_link</th>\n",
       "      <th>comments_disabled</th>\n",
       "      <th>ratings_disabled</th>\n",
       "      <th>video_error_or_removed</th>\n",
       "      <th>description</th>\n",
       "      <th>category_name</th>\n",
       "    </tr>\n",
       "  </thead>\n",
       "  <tbody>\n",
       "    <tr>\n",
       "      <th>2203</th>\n",
       "      <td>RK_B4Ez4_5Q</td>\n",
       "      <td>17.25.11</td>\n",
       "      <td>Verizon 360 Live: The Macy’s Thanksgiving Day ...</td>\n",
       "      <td>Verizon</td>\n",
       "      <td>24</td>\n",
       "      <td>2017-11-23</td>\n",
       "      <td>live stream|\"360 video\"|\"fun videos for kids\"|...</td>\n",
       "      <td>2618344</td>\n",
       "      <td>45197</td>\n",
       "      <td>2315</td>\n",
       "      <td>3332</td>\n",
       "      <td>https://i.ytimg.com/vi/RK_B4Ez4_5Q/default.jpg</td>\n",
       "      <td>False</td>\n",
       "      <td>False</td>\n",
       "      <td>True</td>\n",
       "      <td>This year, we hid special offers throughout th...</td>\n",
       "      <td>Entertainment</td>\n",
       "    </tr>\n",
       "    <tr>\n",
       "      <th>15499</th>\n",
       "      <td>kZete48ZtsY</td>\n",
       "      <td>18.01.02</td>\n",
       "      <td>Deleted video</td>\n",
       "      <td>Midnight Video</td>\n",
       "      <td>1</td>\n",
       "      <td>2018-01-29</td>\n",
       "      <td>horror|\"horror short\"|\"short\"|\"short film\"|\"my...</td>\n",
       "      <td>60262</td>\n",
       "      <td>4804</td>\n",
       "      <td>122</td>\n",
       "      <td>736</td>\n",
       "      <td>https://i.ytimg.com/vi/-V1Oo7srGf0/default.jpg</td>\n",
       "      <td>False</td>\n",
       "      <td>False</td>\n",
       "      <td>True</td>\n",
       "      <td>After dusting off an old Mystery Date-style bo...</td>\n",
       "      <td>Film &amp; Animation</td>\n",
       "    </tr>\n",
       "    <tr>\n",
       "      <th>15755</th>\n",
       "      <td>kZete48ZtsY</td>\n",
       "      <td>18.02.02</td>\n",
       "      <td>Deleted video</td>\n",
       "      <td>DaHoopSpot Productions</td>\n",
       "      <td>17</td>\n",
       "      <td>2017-12-16</td>\n",
       "      <td>[none]</td>\n",
       "      <td>2611</td>\n",
       "      <td>8</td>\n",
       "      <td>12</td>\n",
       "      <td>5</td>\n",
       "      <td>https://i.ytimg.com/vi/NzCSJrxQyQI/default.jpg</td>\n",
       "      <td>False</td>\n",
       "      <td>False</td>\n",
       "      <td>True</td>\n",
       "      <td>NaN</td>\n",
       "      <td>Sports</td>\n",
       "    </tr>\n",
       "    <tr>\n",
       "      <th>15980</th>\n",
       "      <td>kZete48ZtsY</td>\n",
       "      <td>18.03.02</td>\n",
       "      <td>Deleted video</td>\n",
       "      <td>DaHoopSpot Productions</td>\n",
       "      <td>17</td>\n",
       "      <td>2017-12-16</td>\n",
       "      <td>[none]</td>\n",
       "      <td>2620</td>\n",
       "      <td>8</td>\n",
       "      <td>12</td>\n",
       "      <td>5</td>\n",
       "      <td>https://i.ytimg.com/vi/NzCSJrxQyQI/default.jpg</td>\n",
       "      <td>False</td>\n",
       "      <td>False</td>\n",
       "      <td>True</td>\n",
       "      <td>NaN</td>\n",
       "      <td>Sports</td>\n",
       "    </tr>\n",
       "    <tr>\n",
       "      <th>30354</th>\n",
       "      <td>q8v9MvManKE</td>\n",
       "      <td>18.23.04</td>\n",
       "      <td>Earth Day 2018 Google Doodle</td>\n",
       "      <td>googledoodles</td>\n",
       "      <td>1</td>\n",
       "      <td>2018-04-21</td>\n",
       "      <td>[none]</td>\n",
       "      <td>397920</td>\n",
       "      <td>11932</td>\n",
       "      <td>348</td>\n",
       "      <td>2845</td>\n",
       "      <td>https://i.ytimg.com/vi/q8v9MvManKE/default.jpg</td>\n",
       "      <td>False</td>\n",
       "      <td>False</td>\n",
       "      <td>True</td>\n",
       "      <td>Today’s annual Earth Day Doodle was created in...</td>\n",
       "      <td>Film &amp; Animation</td>\n",
       "    </tr>\n",
       "  </tbody>\n",
       "</table>\n",
       "</div>"
      ],
      "text/plain": [
       "          video_id trending_date  \\\n",
       "2203   RK_B4Ez4_5Q      17.25.11   \n",
       "15499  kZete48ZtsY      18.01.02   \n",
       "15755  kZete48ZtsY      18.02.02   \n",
       "15980  kZete48ZtsY      18.03.02   \n",
       "30354  q8v9MvManKE      18.23.04   \n",
       "\n",
       "                                                   title  \\\n",
       "2203   Verizon 360 Live: The Macy’s Thanksgiving Day ...   \n",
       "15499                                      Deleted video   \n",
       "15755                                      Deleted video   \n",
       "15980                                      Deleted video   \n",
       "30354                       Earth Day 2018 Google Doodle   \n",
       "\n",
       "                channel_title  category_id publish_time  \\\n",
       "2203                  Verizon           24   2017-11-23   \n",
       "15499          Midnight Video            1   2018-01-29   \n",
       "15755  DaHoopSpot Productions           17   2017-12-16   \n",
       "15980  DaHoopSpot Productions           17   2017-12-16   \n",
       "30354           googledoodles            1   2018-04-21   \n",
       "\n",
       "                                                    tags    views  likes  \\\n",
       "2203   live stream|\"360 video\"|\"fun videos for kids\"|...  2618344  45197   \n",
       "15499  horror|\"horror short\"|\"short\"|\"short film\"|\"my...    60262   4804   \n",
       "15755                                             [none]     2611      8   \n",
       "15980                                             [none]     2620      8   \n",
       "30354                                             [none]   397920  11932   \n",
       "\n",
       "       dislikes  comment_count  \\\n",
       "2203       2315           3332   \n",
       "15499       122            736   \n",
       "15755        12              5   \n",
       "15980        12              5   \n",
       "30354       348           2845   \n",
       "\n",
       "                                       thumbnail_link  comments_disabled  \\\n",
       "2203   https://i.ytimg.com/vi/RK_B4Ez4_5Q/default.jpg              False   \n",
       "15499  https://i.ytimg.com/vi/-V1Oo7srGf0/default.jpg              False   \n",
       "15755  https://i.ytimg.com/vi/NzCSJrxQyQI/default.jpg              False   \n",
       "15980  https://i.ytimg.com/vi/NzCSJrxQyQI/default.jpg              False   \n",
       "30354  https://i.ytimg.com/vi/q8v9MvManKE/default.jpg              False   \n",
       "\n",
       "       ratings_disabled  video_error_or_removed  \\\n",
       "2203              False                    True   \n",
       "15499             False                    True   \n",
       "15755             False                    True   \n",
       "15980             False                    True   \n",
       "30354             False                    True   \n",
       "\n",
       "                                             description     category_name  \n",
       "2203   This year, we hid special offers throughout th...     Entertainment  \n",
       "15499  After dusting off an old Mystery Date-style bo...  Film & Animation  \n",
       "15755                                                NaN            Sports  \n",
       "15980                                                NaN            Sports  \n",
       "30354  Today’s annual Earth Day Doodle was created in...  Film & Animation  "
      ]
     },
     "execution_count": 7,
     "metadata": {},
     "output_type": "execute_result"
    }
   ],
   "source": [
    "ca_videos.loc[ca_videos['video_error_or_removed'] == True].head(5)"
   ]
  },
  {
   "cell_type": "markdown",
   "metadata": {},
   "source": [
    "While, videos with comments_disabled and ratings_disabled might give us some insight, videos that were removed and/or had an error can be dropped. We can see that some of them have titles such as 'deleted videos' and or other missing values. Given the small number of deleted videos, the dataset will not be majorily influenced by removing the entries with deleted videos and the variables video_error_or_removed."
   ]
  },
  {
   "cell_type": "code",
   "execution_count": 8,
   "metadata": {},
   "outputs": [],
   "source": [
    "#delete rows and columns\n",
    "ca_videos = ca_videos[~ca_videos.video_error_or_removed]\n",
    "del ca_videos['video_error_or_removed']"
   ]
  },
  {
   "cell_type": "markdown",
   "metadata": {},
   "source": [
    "## Numerical Data Exploration"
   ]
  },
  {
   "cell_type": "code",
   "execution_count": 9,
   "metadata": {},
   "outputs": [
    {
     "data": {
      "text/html": [
       "<div>\n",
       "<style scoped>\n",
       "    .dataframe tbody tr th:only-of-type {\n",
       "        vertical-align: middle;\n",
       "    }\n",
       "\n",
       "    .dataframe tbody tr th {\n",
       "        vertical-align: top;\n",
       "    }\n",
       "\n",
       "    .dataframe thead th {\n",
       "        text-align: right;\n",
       "    }\n",
       "</style>\n",
       "<table border=\"1\" class=\"dataframe\">\n",
       "  <thead>\n",
       "    <tr style=\"text-align: right;\">\n",
       "      <th></th>\n",
       "      <th>category_id</th>\n",
       "      <th>views</th>\n",
       "      <th>likes</th>\n",
       "      <th>dislikes</th>\n",
       "      <th>comment_count</th>\n",
       "    </tr>\n",
       "  </thead>\n",
       "  <tbody>\n",
       "    <tr>\n",
       "      <th>count</th>\n",
       "      <td>40926.000000</td>\n",
       "      <td>4.092600e+04</td>\n",
       "      <td>4.092600e+04</td>\n",
       "      <td>4.092600e+04</td>\n",
       "      <td>4.092600e+04</td>\n",
       "    </tr>\n",
       "    <tr>\n",
       "      <th>mean</th>\n",
       "      <td>19.977814</td>\n",
       "      <td>2.361180e+06</td>\n",
       "      <td>7.428103e+04</td>\n",
       "      <td>3.712676e+03</td>\n",
       "      <td>8.450109e+03</td>\n",
       "    </tr>\n",
       "    <tr>\n",
       "      <th>std</th>\n",
       "      <td>7.562658</td>\n",
       "      <td>7.395925e+06</td>\n",
       "      <td>2.289406e+05</td>\n",
       "      <td>2.903779e+04</td>\n",
       "      <td>3.744065e+04</td>\n",
       "    </tr>\n",
       "    <tr>\n",
       "      <th>min</th>\n",
       "      <td>1.000000</td>\n",
       "      <td>5.490000e+02</td>\n",
       "      <td>0.000000e+00</td>\n",
       "      <td>0.000000e+00</td>\n",
       "      <td>0.000000e+00</td>\n",
       "    </tr>\n",
       "    <tr>\n",
       "      <th>25%</th>\n",
       "      <td>17.000000</td>\n",
       "      <td>2.422892e+05</td>\n",
       "      <td>5.424000e+03</td>\n",
       "      <td>2.020000e+02</td>\n",
       "      <td>6.140000e+02</td>\n",
       "    </tr>\n",
       "    <tr>\n",
       "      <th>50%</th>\n",
       "      <td>24.000000</td>\n",
       "      <td>6.817090e+05</td>\n",
       "      <td>1.808550e+04</td>\n",
       "      <td>6.310000e+02</td>\n",
       "      <td>1.856000e+03</td>\n",
       "    </tr>\n",
       "    <tr>\n",
       "      <th>75%</th>\n",
       "      <td>25.000000</td>\n",
       "      <td>1.823349e+06</td>\n",
       "      <td>5.543025e+04</td>\n",
       "      <td>1.938000e+03</td>\n",
       "      <td>5.758000e+03</td>\n",
       "    </tr>\n",
       "    <tr>\n",
       "      <th>max</th>\n",
       "      <td>43.000000</td>\n",
       "      <td>2.252119e+08</td>\n",
       "      <td>5.613827e+06</td>\n",
       "      <td>1.674420e+06</td>\n",
       "      <td>1.361580e+06</td>\n",
       "    </tr>\n",
       "  </tbody>\n",
       "</table>\n",
       "</div>"
      ],
      "text/plain": [
       "        category_id         views         likes      dislikes  comment_count\n",
       "count  40926.000000  4.092600e+04  4.092600e+04  4.092600e+04   4.092600e+04\n",
       "mean      19.977814  2.361180e+06  7.428103e+04  3.712676e+03   8.450109e+03\n",
       "std        7.562658  7.395925e+06  2.289406e+05  2.903779e+04   3.744065e+04\n",
       "min        1.000000  5.490000e+02  0.000000e+00  0.000000e+00   0.000000e+00\n",
       "25%       17.000000  2.422892e+05  5.424000e+03  2.020000e+02   6.140000e+02\n",
       "50%       24.000000  6.817090e+05  1.808550e+04  6.310000e+02   1.856000e+03\n",
       "75%       25.000000  1.823349e+06  5.543025e+04  1.938000e+03   5.758000e+03\n",
       "max       43.000000  2.252119e+08  5.613827e+06  1.674420e+06   1.361580e+06"
      ]
     },
     "execution_count": 9,
     "metadata": {},
     "output_type": "execute_result"
    }
   ],
   "source": [
    "ca_videos.describe(include = [np.number])"
   ]
  },
  {
   "cell_type": "markdown",
   "metadata": {},
   "source": [
    "We can see that most data points in likes, dislikes, and comment_count are fairly close to the mean. However, the views data points seem to be more spread out. It's possible that there are outliers where videos become trending with fewer/more views, likes, or comment counts. It's also possible for videos with disabled comments and/or ratings to make it to the trending list. \n",
    "\n",
    "We can also see that the number of views can be as low as 733 and as high as 137, 843, 100. \n",
    "\n",
    "Let's visualize their distribution to get a better idea."
   ]
  },
  {
   "cell_type": "markdown",
   "metadata": {},
   "source": [
    "### Views Distribution"
   ]
  },
  {
   "cell_type": "code",
   "execution_count": 10,
   "metadata": {},
   "outputs": [
    {
     "name": "stdout",
     "output_type": "stream",
     "text": [
      "Skewness:  12.237844059513987\n",
      "Kurtosis:  232.27918882944016\n"
     ]
    },
    {
     "data": {
      "text/plain": [
       "count    4.092600e+04\n",
       "mean     2.361180e+06\n",
       "std      7.395925e+06\n",
       "min      5.490000e+02\n",
       "15%      1.240632e+05\n",
       "30%      3.033390e+05\n",
       "50%      6.817090e+05\n",
       "65%      1.192116e+06\n",
       "80%      2.336645e+06\n",
       "95%      9.017748e+06\n",
       "max      2.252119e+08\n",
       "Name: views, dtype: float64"
      ]
     },
     "execution_count": 10,
     "metadata": {},
     "output_type": "execute_result"
    }
   ],
   "source": [
    "print('Skewness: ', ca_videos['views'].skew())\n",
    "print('Kurtosis: ', ca_videos['views'].kurtosis())\n",
    "ca_videos['views'].describe(percentiles=[.15,.30,.5,.65,.80, .95])"
   ]
  },
  {
   "cell_type": "markdown",
   "metadata": {},
   "source": [
    "We can also see that the number of views can be as low as 733 and as high as 137, 843, 100. \n",
    "\n",
    "50% of videos have 176,707 views or less and the majority of videos (95%) have 4,090,188. However, we can see that 80% of videos have around 1 million views or less, which means that only 15% of the 95% have views between 2 and 4 million.\n",
    "\n",
    "We can clearly see that the data are fairly spread out, especially as the skewness and kurtosis are very high,\n",
    "\n",
    "To put these numbers in perspective and to minimize the visibility of outliers, let's visualize the distribution of videos with less than 4,500,000 views."
   ]
  },
  {
   "cell_type": "code",
   "execution_count": 11,
   "metadata": {},
   "outputs": [
    {
     "data": {
      "image/png": "[encoded data removed]",
      "text/plain": [
       "<Figure size 432x288 with 1 Axes>"
      ]
     },
     "metadata": {
      "needs_background": "light"
     },
     "output_type": "display_data"
    }
   ],
   "source": [
    "ax = sns.distplot(ca_videos[ca_videos[\"views\"] < 4.5e6][\"views\"], kde = False, color = 'midnightblue', \n",
    "                  hist_kws = {'alpha': 1})\n",
    "ax.set(xlabel = 'Views', ylabel = '# of Videos')\n",
    "ax.set(title = \"Number of views of 95% of videos\")\n",
    "plt.show()"
   ]
  },
  {
   "cell_type": "markdown",
   "metadata": {},
   "source": [
    "### Likes Distribution"
   ]
  },
  {
   "cell_type": "code",
   "execution_count": 12,
   "metadata": {},
   "outputs": [
    {
     "name": "stdout",
     "output_type": "stream",
     "text": [
      "Skewness:  10.92173355359363\n",
      "Kurtosis:  177.7711442957462\n"
     ]
    },
    {
     "data": {
      "text/plain": [
       "count    4.092600e+04\n",
       "mean     7.428103e+04\n",
       "std      2.289406e+05\n",
       "min      0.000000e+00\n",
       "15%      2.281000e+03\n",
       "30%      7.332000e+03\n",
       "50%      1.808550e+04\n",
       "65%      3.416950e+04\n",
       "80%      7.585200e+04\n",
       "95%      3.074148e+05\n",
       "max      5.613827e+06\n",
       "Name: likes, dtype: float64"
      ]
     },
     "execution_count": 12,
     "metadata": {},
     "output_type": "execute_result"
    }
   ],
   "source": [
    "print('Skewness: ', ca_videos['likes'].skew())\n",
    "print('Kurtosis: ', ca_videos['likes'].kurtosis())\n",
    "ca_videos['likes'].describe(percentiles=[.15,.30,.5,.65,.80, .95])"
   ]
  },
  {
   "cell_type": "markdown",
   "metadata": {},
   "source": [
    "Here we can see that the minimum number of likes is 0 but that is likely because some videos have that feature disables. The max can reach as high as 5,053,338. \n",
    "\n",
    "95% of videos 165,236 likes or less, while 80% have 38,557 likes. This shows us that the majority of videos do not require a huge amount of likes to become trending. \n",
    "\n",
    "We will visualize the spread of videos with 200,000 likes or less. "
   ]
  },
  {
   "cell_type": "code",
   "execution_count": 13,
   "metadata": {},
   "outputs": [
    {
     "data": {
      "image/png": "[encoded data removed]",
      "text/plain": [
       "<Figure size 432x288 with 1 Axes>"
      ]
     },
     "metadata": {
      "needs_background": "light"
     },
     "output_type": "display_data"
    }
   ],
   "source": [
    "ax = sns.distplot(ca_videos[ca_videos[\"likes\"] < 2e5][\"likes\"], kde = False, color = 'midnightblue', \n",
    "                  hist_kws = {'alpha': 1})\n",
    "ax.set(xlabel = 'Likes', ylabel = '# of Videos')\n",
    "ax.set(title = \"Number of likes of 95% of videos\")\n",
    "plt.show()"
   ]
  },
  {
   "cell_type": "markdown",
   "metadata": {},
   "source": [
    "### Dislikes Distribution"
   ]
  },
  {
   "cell_type": "code",
   "execution_count": 14,
   "metadata": {},
   "outputs": [
    {
     "name": "stdout",
     "output_type": "stream",
     "text": [
      "Skewness:  40.17817175958629\n",
      "Kurtosis:  1986.3189851932925\n"
     ]
    },
    {
     "data": {
      "text/plain": [
       "count    4.092600e+04\n",
       "mean     3.712676e+03\n",
       "std      2.903779e+04\n",
       "min      0.000000e+00\n",
       "15%      1.010000e+02\n",
       "30%      2.630000e+02\n",
       "50%      6.310000e+02\n",
       "65%      1.201000e+03\n",
       "80%      2.614000e+03\n",
       "95%      1.181125e+04\n",
       "max      1.674420e+06\n",
       "Name: dislikes, dtype: float64"
      ]
     },
     "execution_count": 14,
     "metadata": {},
     "output_type": "execute_result"
    }
   ],
   "source": [
    "print('Skewness: ', ca_videos['dislikes'].skew())\n",
    "print('Kurtosis: ', ca_videos['dislikes'].kurtosis())\n",
    "ca_videos['dislikes'].describe(percentiles=[.15,.30,.5,.65,.80, .95])"
   ]
  },
  {
   "cell_type": "markdown",
   "metadata": {},
   "source": [
    "The minimum number of dislikes can be as low as 0 and as high as 1,602,383. The majority, however, have fewer than 6,468 dislikes. So only 5% if videos are between 6,000-1,000,000. Again 80% of videos have 1,288 ldislikes or less. So, it's less common to have dislikes on trending videos. \n",
    "\n",
    "Now we will visualize the distribution of videos with less than 6000 dislikes"
   ]
  },
  {
   "cell_type": "code",
   "execution_count": 15,
   "metadata": {},
   "outputs": [
    {
     "data": {
      "image/png": "[encoded data removed]",
      "text/plain": [
       "<Figure size 432x288 with 1 Axes>"
      ]
     },
     "metadata": {
      "needs_background": "light"
     },
     "output_type": "display_data"
    }
   ],
   "source": [
    "ax = sns.distplot(ca_videos[ca_videos[\"dislikes\"] < 6e3][\"dislikes\"], kde = False, color = 'midnightblue', \n",
    "                  hist_kws = {'alpha': 1})\n",
    "ax.set(xlabel = 'Dislikes', ylabel = '# of Videos')\n",
    "ax.set(title = \"Number of dislikes of 95% of videos\")\n",
    "plt.show()"
   ]
  },
  {
   "cell_type": "markdown",
   "metadata": {},
   "source": [
    "### Comment Count Distribution"
   ]
  },
  {
   "cell_type": "code",
   "execution_count": 16,
   "metadata": {},
   "outputs": [
    {
     "name": "stdout",
     "output_type": "stream",
     "text": [
      "Skewness:  19.749322401514767\n",
      "Kurtosis:  531.8571186073491\n"
     ]
    },
    {
     "data": {
      "text/plain": [
       "count    4.092600e+04\n",
       "mean     8.450109e+03\n",
       "std      3.744065e+04\n",
       "min      0.000000e+00\n",
       "15%      2.990000e+02\n",
       "30%      7.880000e+02\n",
       "50%      1.856000e+03\n",
       "65%      3.605250e+03\n",
       "80%      7.750000e+03\n",
       "95%      3.079050e+04\n",
       "max      1.361580e+06\n",
       "Name: comment_count, dtype: float64"
      ]
     },
     "execution_count": 16,
     "metadata": {},
     "output_type": "execute_result"
    }
   ],
   "source": [
    "print('Skewness: ', ca_videos['comment_count'].skew())\n",
    "print('Kurtosis: ', ca_videos['comment_count'].kurtosis())\n",
    "ca_videos['comment_count'].describe(percentiles=[.15,.30,.5,.65,.80, .95])"
   ]
  },
  {
   "cell_type": "markdown",
   "metadata": {},
   "source": [
    "Comment count can go from as low as 0 to as high as 1,114,800. The majority have a count of 19,189 comments or less, while 80% have a comment count of 4,823 or less. "
   ]
  },
  {
   "cell_type": "code",
   "execution_count": 17,
   "metadata": {},
   "outputs": [
    {
     "data": {
      "image/png": "[encoded data removed]",
      "text/plain": [
       "<Figure size 432x288 with 1 Axes>"
      ]
     },
     "metadata": {
      "needs_background": "light"
     },
     "output_type": "display_data"
    }
   ],
   "source": [
    "ax = sns.distplot(ca_videos[ca_videos[\"comment_count\"] < 1.2e4][\"comment_count\"], kde = False, color = 'midnightblue',\n",
    "                  hist_kws = {'alpha': 1})\n",
    "         \n",
    "ax.set(xlabel = 'Comment Count', ylabel = '# of Videos')\n",
    "ax.set(title = \"Number of comments of 95% of videos\")\n",
    "plt.show()"
   ]
  },
  {
   "cell_type": "code",
   "execution_count": 18,
   "metadata": {},
   "outputs": [
    {
     "data": {
      "text/plain": [
       "const            8.756567\n",
       "category_id      1.044111\n",
       "views            4.610683\n",
       "likes            8.722409\n",
       "dislikes         2.609128\n",
       "comment_count    5.940923\n",
       "dtype: float64"
      ]
     },
     "execution_count": 18,
     "metadata": {},
     "output_type": "execute_result"
    }
   ],
   "source": [
    "from statsmodels.stats.outliers_influence import variance_inflation_factor\n",
    "from statsmodels.tools.tools import add_constant\n",
    "\n",
    "X = add_constant(ca_videos.select_dtypes(include = ['number']))\n",
    "pd.Series([variance_inflation_factor(X.values, i) \n",
    "               for i in range(X.shape[1])], \n",
    "              index=X.columns)"
   ]
  },
  {
   "cell_type": "markdown",
   "metadata": {},
   "source": [
    "## Dislikes Ratio"
   ]
  },
  {
   "cell_type": "code",
   "execution_count": 19,
   "metadata": {
    "scrolled": true
   },
   "outputs": [
    {
     "data": {
      "text/html": [
       "<div>\n",
       "<style scoped>\n",
       "    .dataframe tbody tr th:only-of-type {\n",
       "        vertical-align: middle;\n",
       "    }\n",
       "\n",
       "    .dataframe tbody tr th {\n",
       "        vertical-align: top;\n",
       "    }\n",
       "\n",
       "    .dataframe thead th {\n",
       "        text-align: right;\n",
       "    }\n",
       "</style>\n",
       "<table border=\"1\" class=\"dataframe\">\n",
       "  <thead>\n",
       "    <tr style=\"text-align: right;\">\n",
       "      <th></th>\n",
       "      <th>video_id</th>\n",
       "      <th>trending_date</th>\n",
       "      <th>title</th>\n",
       "      <th>channel_title</th>\n",
       "      <th>category_id</th>\n",
       "      <th>publish_time</th>\n",
       "      <th>tags</th>\n",
       "      <th>views</th>\n",
       "      <th>likes</th>\n",
       "      <th>dislikes</th>\n",
       "      <th>comment_count</th>\n",
       "      <th>thumbnail_link</th>\n",
       "      <th>comments_disabled</th>\n",
       "      <th>ratings_disabled</th>\n",
       "      <th>description</th>\n",
       "      <th>category_name</th>\n",
       "      <th>dislikes_ratio</th>\n",
       "    </tr>\n",
       "  </thead>\n",
       "  <tbody>\n",
       "    <tr>\n",
       "      <th>192</th>\n",
       "      <td>wRGldR_SQAA</td>\n",
       "      <td>17.14.11</td>\n",
       "      <td>Apple Clips sample</td>\n",
       "      <td>Steve Kovach</td>\n",
       "      <td>22</td>\n",
       "      <td>2017-11-09</td>\n",
       "      <td>[none]</td>\n",
       "      <td>2259</td>\n",
       "      <td>0</td>\n",
       "      <td>0</td>\n",
       "      <td>0</td>\n",
       "      <td>https://i.ytimg.com/vi/wRGldR_SQAA/default.jpg</td>\n",
       "      <td>False</td>\n",
       "      <td>False</td>\n",
       "      <td>Clips 2.0 lets you use augmented reality and s...</td>\n",
       "      <td>People &amp; Blogs</td>\n",
       "      <td>NaN</td>\n",
       "    </tr>\n",
       "    <tr>\n",
       "      <th>1435</th>\n",
       "      <td>Kn5UgGQukYQ</td>\n",
       "      <td>17.21.11</td>\n",
       "      <td>Breaking Bad's Bryan Cranston on Meeting Charl...</td>\n",
       "      <td>hudsonunionsociety</td>\n",
       "      <td>1</td>\n",
       "      <td>2016-10-14</td>\n",
       "      <td>Breaking Bad|\"Bryan Cranston\"|\"malcom in the m...</td>\n",
       "      <td>15058</td>\n",
       "      <td>0</td>\n",
       "      <td>0</td>\n",
       "      <td>0</td>\n",
       "      <td>https://i.ytimg.com/vi/Kn5UgGQukYQ/default.jpg</td>\n",
       "      <td>True</td>\n",
       "      <td>True</td>\n",
       "      <td>The Hudson Union www.hudsonunionsociety.com is...</td>\n",
       "      <td>Film &amp; Animation</td>\n",
       "      <td>NaN</td>\n",
       "    </tr>\n",
       "    <tr>\n",
       "      <th>1667</th>\n",
       "      <td>Kn5UgGQukYQ</td>\n",
       "      <td>17.22.11</td>\n",
       "      <td>Breaking Bad's Bryan Cranston on Meeting Charl...</td>\n",
       "      <td>hudsonunionsociety</td>\n",
       "      <td>1</td>\n",
       "      <td>2016-10-14</td>\n",
       "      <td>Breaking Bad|\"Bryan Cranston\"|\"malcom in the m...</td>\n",
       "      <td>34207</td>\n",
       "      <td>0</td>\n",
       "      <td>0</td>\n",
       "      <td>0</td>\n",
       "      <td>https://i.ytimg.com/vi/Kn5UgGQukYQ/default.jpg</td>\n",
       "      <td>True</td>\n",
       "      <td>True</td>\n",
       "      <td>The Hudson Union www.hudsonunionsociety.com is...</td>\n",
       "      <td>Film &amp; Animation</td>\n",
       "      <td>NaN</td>\n",
       "    </tr>\n",
       "    <tr>\n",
       "      <th>1868</th>\n",
       "      <td>_akwfRuL4os</td>\n",
       "      <td>17.23.11</td>\n",
       "      <td>Highlights of the EA predatory behavior announ...</td>\n",
       "      <td>chris lee</td>\n",
       "      <td>22</td>\n",
       "      <td>2017-11-21</td>\n",
       "      <td>[none]</td>\n",
       "      <td>160012</td>\n",
       "      <td>0</td>\n",
       "      <td>0</td>\n",
       "      <td>1722</td>\n",
       "      <td>https://i.ytimg.com/vi/_akwfRuL4os/default.jpg</td>\n",
       "      <td>False</td>\n",
       "      <td>True</td>\n",
       "      <td>The State of Hawaii announces action to addres...</td>\n",
       "      <td>People &amp; Blogs</td>\n",
       "      <td>NaN</td>\n",
       "    </tr>\n",
       "    <tr>\n",
       "      <th>1914</th>\n",
       "      <td>Kn5UgGQukYQ</td>\n",
       "      <td>17.23.11</td>\n",
       "      <td>Breaking Bad's Bryan Cranston on Meeting Charl...</td>\n",
       "      <td>hudsonunionsociety</td>\n",
       "      <td>1</td>\n",
       "      <td>2016-10-14</td>\n",
       "      <td>Breaking Bad|\"Bryan Cranston\"|\"malcom in the m...</td>\n",
       "      <td>36137</td>\n",
       "      <td>0</td>\n",
       "      <td>0</td>\n",
       "      <td>0</td>\n",
       "      <td>https://i.ytimg.com/vi/Kn5UgGQukYQ/default.jpg</td>\n",
       "      <td>True</td>\n",
       "      <td>True</td>\n",
       "      <td>The Hudson Union www.hudsonunionsociety.com is...</td>\n",
       "      <td>Film &amp; Animation</td>\n",
       "      <td>NaN</td>\n",
       "    </tr>\n",
       "    <tr>\n",
       "      <th>...</th>\n",
       "      <td>...</td>\n",
       "      <td>...</td>\n",
       "      <td>...</td>\n",
       "      <td>...</td>\n",
       "      <td>...</td>\n",
       "      <td>...</td>\n",
       "      <td>...</td>\n",
       "      <td>...</td>\n",
       "      <td>...</td>\n",
       "      <td>...</td>\n",
       "      <td>...</td>\n",
       "      <td>...</td>\n",
       "      <td>...</td>\n",
       "      <td>...</td>\n",
       "      <td>...</td>\n",
       "      <td>...</td>\n",
       "      <td>...</td>\n",
       "    </tr>\n",
       "    <tr>\n",
       "      <th>28135</th>\n",
       "      <td>UwbO_xb1-Xo</td>\n",
       "      <td>18.05.04</td>\n",
       "      <td>KKW BEAUTY: Conceal, Bake, Brighten with Mario...</td>\n",
       "      <td>Kim Kardashian West</td>\n",
       "      <td>22</td>\n",
       "      <td>2018-03-21</td>\n",
       "      <td>Mario Dedivanovic|\"KKW BEAUTY\"|\"CONCEALER\"|\"CO...</td>\n",
       "      <td>1040664</td>\n",
       "      <td>0</td>\n",
       "      <td>0</td>\n",
       "      <td>0</td>\n",
       "      <td>https://i.ytimg.com/vi/UwbO_xb1-Xo/default.jpg</td>\n",
       "      <td>True</td>\n",
       "      <td>True</td>\n",
       "      <td>Watch me conceal, bake and brighten with Mario...</td>\n",
       "      <td>People &amp; Blogs</td>\n",
       "      <td>NaN</td>\n",
       "    </tr>\n",
       "    <tr>\n",
       "      <th>28346</th>\n",
       "      <td>UwbO_xb1-Xo</td>\n",
       "      <td>18.06.04</td>\n",
       "      <td>KKW BEAUTY: Conceal, Bake, Brighten with Mario...</td>\n",
       "      <td>Kim Kardashian West</td>\n",
       "      <td>22</td>\n",
       "      <td>2018-03-21</td>\n",
       "      <td>Mario Dedivanovic|\"KKW BEAUTY\"|\"CONCEALER\"|\"CO...</td>\n",
       "      <td>1045731</td>\n",
       "      <td>0</td>\n",
       "      <td>0</td>\n",
       "      <td>0</td>\n",
       "      <td>https://i.ytimg.com/vi/UwbO_xb1-Xo/default.jpg</td>\n",
       "      <td>True</td>\n",
       "      <td>True</td>\n",
       "      <td>Watch me conceal, bake and brighten with Mario...</td>\n",
       "      <td>People &amp; Blogs</td>\n",
       "      <td>NaN</td>\n",
       "    </tr>\n",
       "    <tr>\n",
       "      <th>28550</th>\n",
       "      <td>9TUBf6l7FBg</td>\n",
       "      <td>18.14.04</td>\n",
       "      <td>Coachella 2018 LIVE Channel 1</td>\n",
       "      <td>Coachella</td>\n",
       "      <td>10</td>\n",
       "      <td>2018-04-05</td>\n",
       "      <td>[none]</td>\n",
       "      <td>3598220</td>\n",
       "      <td>0</td>\n",
       "      <td>0</td>\n",
       "      <td>0</td>\n",
       "      <td>https://i.ytimg.com/vi/9TUBf6l7FBg/default_liv...</td>\n",
       "      <td>False</td>\n",
       "      <td>True</td>\n",
       "      <td>For more cameras and VR180 immersive experienc...</td>\n",
       "      <td>Music</td>\n",
       "      <td>NaN</td>\n",
       "    </tr>\n",
       "    <tr>\n",
       "      <th>28751</th>\n",
       "      <td>9TUBf6l7FBg</td>\n",
       "      <td>18.15.04</td>\n",
       "      <td>Coachella 2018 LIVE Channel 1</td>\n",
       "      <td>Coachella</td>\n",
       "      <td>10</td>\n",
       "      <td>2018-04-05</td>\n",
       "      <td>[none]</td>\n",
       "      <td>11137071</td>\n",
       "      <td>0</td>\n",
       "      <td>0</td>\n",
       "      <td>2</td>\n",
       "      <td>https://i.ytimg.com/vi/9TUBf6l7FBg/default_liv...</td>\n",
       "      <td>False</td>\n",
       "      <td>True</td>\n",
       "      <td>For more cameras and VR180 immersive experienc...</td>\n",
       "      <td>Music</td>\n",
       "      <td>NaN</td>\n",
       "    </tr>\n",
       "    <tr>\n",
       "      <th>28955</th>\n",
       "      <td>9TUBf6l7FBg</td>\n",
       "      <td>18.16.04</td>\n",
       "      <td>Coachella 2018 LIVE Channel 1</td>\n",
       "      <td>Coachella</td>\n",
       "      <td>10</td>\n",
       "      <td>2018-04-05</td>\n",
       "      <td>[none]</td>\n",
       "      <td>24004779</td>\n",
       "      <td>0</td>\n",
       "      <td>0</td>\n",
       "      <td>3</td>\n",
       "      <td>https://i.ytimg.com/vi/9TUBf6l7FBg/default_liv...</td>\n",
       "      <td>False</td>\n",
       "      <td>True</td>\n",
       "      <td>For more cameras and VR180 immersive experienc...</td>\n",
       "      <td>Music</td>\n",
       "      <td>NaN</td>\n",
       "    </tr>\n",
       "  </tbody>\n",
       "</table>\n",
       "<p>170 rows × 17 columns</p>\n",
       "</div>"
      ],
      "text/plain": [
       "          video_id trending_date  \\\n",
       "192    wRGldR_SQAA      17.14.11   \n",
       "1435   Kn5UgGQukYQ      17.21.11   \n",
       "1667   Kn5UgGQukYQ      17.22.11   \n",
       "1868   _akwfRuL4os      17.23.11   \n",
       "1914   Kn5UgGQukYQ      17.23.11   \n",
       "...            ...           ...   \n",
       "28135  UwbO_xb1-Xo      18.05.04   \n",
       "28346  UwbO_xb1-Xo      18.06.04   \n",
       "28550  9TUBf6l7FBg      18.14.04   \n",
       "28751  9TUBf6l7FBg      18.15.04   \n",
       "28955  9TUBf6l7FBg      18.16.04   \n",
       "\n",
       "                                                   title        channel_title  \\\n",
       "192                                   Apple Clips sample         Steve Kovach   \n",
       "1435   Breaking Bad's Bryan Cranston on Meeting Charl...   hudsonunionsociety   \n",
       "1667   Breaking Bad's Bryan Cranston on Meeting Charl...   hudsonunionsociety   \n",
       "1868   Highlights of the EA predatory behavior announ...            chris lee   \n",
       "1914   Breaking Bad's Bryan Cranston on Meeting Charl...   hudsonunionsociety   \n",
       "...                                                  ...                  ...   \n",
       "28135  KKW BEAUTY: Conceal, Bake, Brighten with Mario...  Kim Kardashian West   \n",
       "28346  KKW BEAUTY: Conceal, Bake, Brighten with Mario...  Kim Kardashian West   \n",
       "28550                      Coachella 2018 LIVE Channel 1            Coachella   \n",
       "28751                      Coachella 2018 LIVE Channel 1            Coachella   \n",
       "28955                      Coachella 2018 LIVE Channel 1            Coachella   \n",
       "\n",
       "       category_id publish_time  \\\n",
       "192             22   2017-11-09   \n",
       "1435             1   2016-10-14   \n",
       "1667             1   2016-10-14   \n",
       "1868            22   2017-11-21   \n",
       "1914             1   2016-10-14   \n",
       "...            ...          ...   \n",
       "28135           22   2018-03-21   \n",
       "28346           22   2018-03-21   \n",
       "28550           10   2018-04-05   \n",
       "28751           10   2018-04-05   \n",
       "28955           10   2018-04-05   \n",
       "\n",
       "                                                    tags     views  likes  \\\n",
       "192                                               [none]      2259      0   \n",
       "1435   Breaking Bad|\"Bryan Cranston\"|\"malcom in the m...     15058      0   \n",
       "1667   Breaking Bad|\"Bryan Cranston\"|\"malcom in the m...     34207      0   \n",
       "1868                                              [none]    160012      0   \n",
       "1914   Breaking Bad|\"Bryan Cranston\"|\"malcom in the m...     36137      0   \n",
       "...                                                  ...       ...    ...   \n",
       "28135  Mario Dedivanovic|\"KKW BEAUTY\"|\"CONCEALER\"|\"CO...   1040664      0   \n",
       "28346  Mario Dedivanovic|\"KKW BEAUTY\"|\"CONCEALER\"|\"CO...   1045731      0   \n",
       "28550                                             [none]   3598220      0   \n",
       "28751                                             [none]  11137071      0   \n",
       "28955                                             [none]  24004779      0   \n",
       "\n",
       "       dislikes  comment_count  \\\n",
       "192           0              0   \n",
       "1435          0              0   \n",
       "1667          0              0   \n",
       "1868          0           1722   \n",
       "1914          0              0   \n",
       "...         ...            ...   \n",
       "28135         0              0   \n",
       "28346         0              0   \n",
       "28550         0              0   \n",
       "28751         0              2   \n",
       "28955         0              3   \n",
       "\n",
       "                                          thumbnail_link  comments_disabled  \\\n",
       "192       https://i.ytimg.com/vi/wRGldR_SQAA/default.jpg              False   \n",
       "1435      https://i.ytimg.com/vi/Kn5UgGQukYQ/default.jpg               True   \n",
       "1667      https://i.ytimg.com/vi/Kn5UgGQukYQ/default.jpg               True   \n",
       "1868      https://i.ytimg.com/vi/_akwfRuL4os/default.jpg              False   \n",
       "1914      https://i.ytimg.com/vi/Kn5UgGQukYQ/default.jpg               True   \n",
       "...                                                  ...                ...   \n",
       "28135     https://i.ytimg.com/vi/UwbO_xb1-Xo/default.jpg               True   \n",
       "28346     https://i.ytimg.com/vi/UwbO_xb1-Xo/default.jpg               True   \n",
       "28550  https://i.ytimg.com/vi/9TUBf6l7FBg/default_liv...              False   \n",
       "28751  https://i.ytimg.com/vi/9TUBf6l7FBg/default_liv...              False   \n",
       "28955  https://i.ytimg.com/vi/9TUBf6l7FBg/default_liv...              False   \n",
       "\n",
       "       ratings_disabled                                        description  \\\n",
       "192               False  Clips 2.0 lets you use augmented reality and s...   \n",
       "1435               True  The Hudson Union www.hudsonunionsociety.com is...   \n",
       "1667               True  The Hudson Union www.hudsonunionsociety.com is...   \n",
       "1868               True  The State of Hawaii announces action to addres...   \n",
       "1914               True  The Hudson Union www.hudsonunionsociety.com is...   \n",
       "...                 ...                                                ...   \n",
       "28135              True  Watch me conceal, bake and brighten with Mario...   \n",
       "28346              True  Watch me conceal, bake and brighten with Mario...   \n",
       "28550              True  For more cameras and VR180 immersive experienc...   \n",
       "28751              True  For more cameras and VR180 immersive experienc...   \n",
       "28955              True  For more cameras and VR180 immersive experienc...   \n",
       "\n",
       "          category_name  dislikes_ratio  \n",
       "192      People & Blogs             NaN  \n",
       "1435   Film & Animation             NaN  \n",
       "1667   Film & Animation             NaN  \n",
       "1868     People & Blogs             NaN  \n",
       "1914   Film & Animation             NaN  \n",
       "...                 ...             ...  \n",
       "28135    People & Blogs             NaN  \n",
       "28346    People & Blogs             NaN  \n",
       "28550             Music             NaN  \n",
       "28751             Music             NaN  \n",
       "28955             Music             NaN  \n",
       "\n",
       "[170 rows x 17 columns]"
      ]
     },
     "execution_count": 19,
     "metadata": {},
     "output_type": "execute_result"
    }
   ],
   "source": [
    "ca_videos['dislikes_ratio'] = ca_videos['dislikes']/(ca_videos['likes']+ ca_videos['dislikes'])\n",
    "ca_videos[ca_videos['dislikes_ratio'].apply(lambda x: pd.isna(x))]\n"
   ]
  },
  {
   "cell_type": "markdown",
   "metadata": {},
   "source": [
    "As expected, the dislikes ratio has null values, because some videos have 0 likes and dislikes. To correct this, we will replace all null values with the value zero."
   ]
  },
  {
   "cell_type": "code",
   "execution_count": 20,
   "metadata": {},
   "outputs": [],
   "source": [
    "ca_videos['dislikes_ratio'] = ca_videos['dislikes_ratio'].fillna(value = 0)"
   ]
  },
  {
   "cell_type": "markdown",
   "metadata": {},
   "source": [
    "## Comment Count Ratio"
   ]
  },
  {
   "cell_type": "code",
   "execution_count": 21,
   "metadata": {},
   "outputs": [],
   "source": [
    "ca_videos['comment_ratio'] = ca_videos['comment_count']/(ca_videos['comment_count']+ ca_videos['views'])\n"
   ]
  },
  {
   "cell_type": "markdown",
   "metadata": {},
   "source": [
    "## Most trending categories"
   ]
  },
  {
   "cell_type": "code",
   "execution_count": 22,
   "metadata": {},
   "outputs": [
    {
     "data": {
      "text/plain": [
       "[Text(0.5, 1.0, 'Most Trending Categories')]"
      ]
     },
     "execution_count": 22,
     "metadata": {},
     "output_type": "execute_result"
    },
    {
     "data": {
      "image/png": "[encoded data removed]",
      "text/plain": [
       "<Figure size 432x288 with 1 Axes>"
      ]
     },
     "metadata": {
      "needs_background": "light"
     },
     "output_type": "display_data"
    }
   ],
   "source": [
    "ax = sns.countplot(ca_videos[\"category_name\"], palette = \"rainbow\",\n",
    "                   order= ca_videos['category_name'].value_counts().index)\n",
    "ax.set(xlabel = \"Catgeory\", ylabel = \"Count\")\n",
    "plt.xticks(rotation = 60)\n",
    "ax.set(title = \"Most Trending Categories\")\n"
   ]
  },
  {
   "cell_type": "markdown",
   "metadata": {},
   "source": [
    "### Title Length"
   ]
  },
  {
   "cell_type": "code",
   "execution_count": 23,
   "metadata": {},
   "outputs": [
    {
     "data": {
      "text/plain": [
       "count    40926.000000\n",
       "mean        48.584616\n",
       "std         19.618328\n",
       "min          3.000000\n",
       "15%         28.000000\n",
       "30%         37.000000\n",
       "50%         46.000000\n",
       "65%         54.000000\n",
       "80%         65.000000\n",
       "95%         86.000000\n",
       "max        100.000000\n",
       "Name: title_length, dtype: float64"
      ]
     },
     "execution_count": 23,
     "metadata": {},
     "output_type": "execute_result"
    }
   ],
   "source": [
    "ca_videos['title_length'] = ca_videos.title.apply(lambda x: len(x))\n",
    "ca_videos['title_length'].describe(percentiles=[.15,.30,.5,.65,.80, .95])"
   ]
  },
  {
   "cell_type": "code",
   "execution_count": 24,
   "metadata": {},
   "outputs": [
    {
     "data": {
      "image/png": "[encoded data removed]",
      "text/plain": [
       "<Figure size 432x288 with 1 Axes>"
      ]
     },
     "metadata": {
      "needs_background": "light"
     },
     "output_type": "display_data"
    }
   ],
   "source": [
    "ax = sns.distplot(ca_videos.title_length, kde = False, color = 'midnightblue',\n",
    "                  hist_kws = {'alpha': 1})"
   ]
  },
  {
   "cell_type": "code",
   "execution_count": 25,
   "metadata": {},
   "outputs": [
    {
     "data": {
      "text/plain": [
       "(array([0.5, 1.5, 2.5, 3.5, 4.5, 5.5, 6.5, 7.5]),\n",
       " <a list of 8 Text xticklabel objects>)"
      ]
     },
     "execution_count": 25,
     "metadata": {},
     "output_type": "execute_result"
    },
    {
     "data": {
      "image/png": "[encoded data removed]",
      "text/plain": [
       "<Figure size 432x288 with 2 Axes>"
      ]
     },
     "metadata": {
      "needs_background": "light"
     },
     "output_type": "display_data"
    }
   ],
   "source": [
    "sns.heatmap(ca_videos.select_dtypes(include = ['number']).corr(method = 'pearson'), fmt='0.2f', cmap = 'Blues_r', annot=True)\n",
    "plt.title('Correlation Matrix of Numerical Values', fontsize=16)\n",
    "\n",
    "plt.yticks(fontsize=14, rotation=60)\n",
    "plt.xticks(fontsize=14, rotation = 60)"
   ]
  },
  {
   "cell_type": "code",
   "execution_count": null,
   "metadata": {},
   "outputs": [],
   "source": []
  },
  {
   "cell_type": "code",
   "execution_count": null,
   "metadata": {},
   "outputs": [],
   "source": []
  },
  {
   "cell_type": "code",
   "execution_count": null,
   "metadata": {},
   "outputs": [],
   "source": []
  }
 ],
 "metadata": {
  "kernelspec": {
   "display_name": "Python 3",
   "language": "python",
   "name": "python3"
  },
  "language_info": {
   "codemirror_mode": {
    "name": "ipython",
    "version": 3
   },
   "file_extension": ".py",
   "mimetype": "text/x-python",
   "name": "python",
   "nbconvert_exporter": "python",
   "pygments_lexer": "ipython3",
   "version": "3.7.6"
  }
 },
 "nbformat": 4,
 "nbformat_minor": 4
}
