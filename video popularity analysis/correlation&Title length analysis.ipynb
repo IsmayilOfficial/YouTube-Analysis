{
 "cells": [
  {
   "cell_type": "code",
   "execution_count": 1,
   "metadata": {},
   "outputs": [],
   "source": [
    "import numpy as np\n",
    "import seaborn as sns\n",
    "import pandas as pd\n",
    "\n",
    "import matplotlib.pyplot as plt\n",
    "import matplotlib.colors as colors\n",
    "import datetime as dt\n",
    "import math\n",
    "\n",
    "import warnings\n",
    "warnings.filterwarnings('ignore')\n",
    "\n",
    "\n",
    "ca_categories = pd.read_json('GB_category_id.json')\n",
    "\n",
    "ca_videos = pd.read_csv('GBvideos.csv'\n",
    "                        #,encoding='latin1'\n",
    "                        \n",
    "                        #, cyrillic encoding='latin1'\n",
    "                       )\n"
   ]
  },
  {
   "cell_type": "code",
   "execution_count": 2,
   "metadata": {},
   "outputs": [
    {
     "name": "stdout",
     "output_type": "stream",
     "text": [
      "Data collection start date:  17.01.12\n",
      "Date collection end date:  18.31.05\n"
     ]
    }
   ],
   "source": [
    "ca_videos['trending_date'].sort_values()\n",
    "print('Data collection start date: ', ca_videos['trending_date'].min())\n",
    "print('Date collection end date: ', ca_videos['trending_date'].max())"
   ]
  },
  {
   "cell_type": "markdown",
   "metadata": {},
   "source": [
    "### Publication Date"
   ]
  },
  {
   "cell_type": "code",
   "execution_count": 3,
   "metadata": {},
   "outputs": [
    {
     "name": "stdout",
     "output_type": "stream",
     "text": [
      "Original publication start date:  2007-03-05\n",
      "Original publication end date:  18.31.05\n"
     ]
    }
   ],
   "source": [
    "ca_videos['publish_time'] = pd.to_datetime(ca_videos['publish_time'], format='%Y-%m-%dT%H:%M:%S.%fZ').dt.date\n",
    "print('Original publication start date: ', ca_videos['publish_time'].min())\n",
    "print('Original publication end date: ', ca_videos['trending_date'].max())"
   ]
  },
  {
   "cell_type": "markdown",
   "metadata": {},
   "source": [
    "## Categories"
   ]
  },
  {
   "cell_type": "code",
   "execution_count": 4,
   "metadata": {},
   "outputs": [
    {
     "ename": "NameError",
     "evalue": "name 'ca_categories' is not defined",
     "output_type": "error",
     "traceback": [
      "\u001b[0;31m---------------------------------------------------------------------------\u001b[0m",
      "\u001b[0;31mNameError\u001b[0m                                 Traceback (most recent call last)",
      "\u001b[0;32m<ipython-input-4-290a5f58d32c>\u001b[0m in \u001b[0;36m<module>\u001b[0;34m\u001b[0m\n\u001b[0;32m----> 1\u001b[0;31m \u001b[0mcategories\u001b[0m \u001b[0;34m=\u001b[0m \u001b[0;34m{\u001b[0m\u001b[0mint\u001b[0m\u001b[0;34m(\u001b[0m\u001b[0mcategory\u001b[0m\u001b[0;34m[\u001b[0m\u001b[0;34m'id'\u001b[0m\u001b[0;34m]\u001b[0m\u001b[0;34m)\u001b[0m\u001b[0;34m:\u001b[0m \u001b[0mcategory\u001b[0m\u001b[0;34m[\u001b[0m\u001b[0;34m'snippet'\u001b[0m\u001b[0;34m]\u001b[0m\u001b[0;34m[\u001b[0m\u001b[0;34m'title'\u001b[0m\u001b[0;34m]\u001b[0m \u001b[0;32mfor\u001b[0m \u001b[0mcategory\u001b[0m \u001b[0;32min\u001b[0m \u001b[0mca_categories\u001b[0m\u001b[0;34m[\u001b[0m\u001b[0;34m'items'\u001b[0m\u001b[0;34m]\u001b[0m\u001b[0;34m}\u001b[0m\u001b[0;34m\u001b[0m\u001b[0;34m\u001b[0m\u001b[0m\n\u001b[0m\u001b[1;32m      2\u001b[0m \u001b[0mca_videos\u001b[0m\u001b[0;34m[\u001b[0m\u001b[0;34m\"category_name\"\u001b[0m\u001b[0;34m]\u001b[0m \u001b[0;34m=\u001b[0m \u001b[0mca_videos\u001b[0m\u001b[0;34m[\u001b[0m\u001b[0;34m\"category_id\"\u001b[0m\u001b[0;34m]\u001b[0m\u001b[0;34m.\u001b[0m\u001b[0mmap\u001b[0m\u001b[0;34m(\u001b[0m\u001b[0mcategories\u001b[0m\u001b[0;34m)\u001b[0m\u001b[0;34m\u001b[0m\u001b[0;34m\u001b[0m\u001b[0m\n\u001b[1;32m      3\u001b[0m \u001b[0mcategories\u001b[0m\u001b[0;34m\u001b[0m\u001b[0;34m\u001b[0m\u001b[0m\n",
      "\u001b[0;31mNameError\u001b[0m: name 'ca_categories' is not defined"
     ]
    }
   ],
   "source": [
    "categories = {int(category['id']): category['snippet']['title'] for category in ca_categories['items']}\n",
    "ca_videos[\"category_name\"] = ca_videos[\"category_id\"].map(categories)\n",
    "categories"
   ]
  },
  {
   "cell_type": "markdown",
   "metadata": {},
   "source": [
    "In the description above, we determined that #24 is the category with the most trending videos. Here we can see that it's entertainment."
   ]
  },
  {
   "cell_type": "markdown",
   "metadata": {},
   "source": [
    "## Boolean Data"
   ]
  },
  {
   "cell_type": "markdown",
   "metadata": {},
   "source": [
    "Now we evaluate the boolean data, before moving on to the numerical data. \n",
    "There are three boolean variables: comment_disabled, ratings_disabled, and video_error_or_removed."
   ]
  },
  {
   "cell_type": "code",
   "execution_count": null,
   "metadata": {},
   "outputs": [],
   "source": [
    "bool_data = ca_videos.select_dtypes(include = 'bool').apply(pd.Series.value_counts)\n",
    "print(bool_data)\n",
    "print()\n",
    "print('Number of videos with comments and ratings disabled that have been removed: ', \n",
    "      len(ca_videos[(ca_videos[\"comments_disabled\"] == True) & (ca_videos[\"ratings_disabled\"] == True) & (ca_videos['video_error_or_removed'] == True)]))\n",
    "print('Number of videos with both comments and ratings disabled: ',  \n",
    "      len(ca_videos[(ca_videos[\"comments_disabled\"] == True) & (ca_videos[\"ratings_disabled\"] == True)]))"
   ]
  },
  {
   "cell_type": "code",
   "execution_count": null,
   "metadata": {},
   "outputs": [],
   "source": [
    "bool_data = bool_data.transpose()\n",
    "bool_data.plot.bar(stacked = True)\n",
    "plt.xticks(rotation = 'horizontal')\n",
    "plt.legend(bbox_to_anchor=(1.01, 1), loc='upper left')"
   ]
  },
  {
   "cell_type": "markdown",
   "metadata": {},
   "source": [
    "Clearly a very low percentage of videos have disabled comments, ratings, or have been removed due to error. "
   ]
  },
  {
   "cell_type": "code",
   "execution_count": null,
   "metadata": {},
   "outputs": [],
   "source": [
    "ca_videos.loc[ca_videos['video_error_or_removed'] == True].head(5)"
   ]
  },
  {
   "cell_type": "markdown",
   "metadata": {},
   "source": [
    "While, videos with comments_disabled and ratings_disabled might give us some insight, videos that were removed and/or had an error can be dropped. We can see that some of them have titles such as 'deleted videos' and or other missing values. Given the small number of deleted videos, the dataset will not be majorily influenced by removing the entries with deleted videos and the variables video_error_or_removed."
   ]
  },
  {
   "cell_type": "code",
   "execution_count": null,
   "metadata": {},
   "outputs": [],
   "source": [
    "#delete rows and columns\n",
    "ca_videos = ca_videos[~ca_videos.video_error_or_removed]\n",
    "del ca_videos['video_error_or_removed']"
   ]
  },
  {
   "cell_type": "markdown",
   "metadata": {},
   "source": [
    "## Numerical Data Exploration"
   ]
  },
  {
   "cell_type": "code",
   "execution_count": null,
   "metadata": {},
   "outputs": [],
   "source": [
    "ca_videos.describe(include = [np.number])"
   ]
  },
  {
   "cell_type": "markdown",
   "metadata": {},
   "source": [
    "We can see that most data points in likes, dislikes, and comment_count are fairly close to the mean. However, the views data points seem to be more spread out. It's possible that there are outliers where videos become trending with fewer/more views, likes, or comment counts. It's also possible for videos with disabled comments and/or ratings to make it to the trending list. \n",
    "\n",
    "We can also see that the number of views can be as low as 733 and as high as 137, 843, 100. \n",
    "\n",
    "Let's visualize their distribution to get a better idea."
   ]
  },
  {
   "cell_type": "markdown",
   "metadata": {},
   "source": [
    "### Views Distribution"
   ]
  },
  {
   "cell_type": "code",
   "execution_count": null,
   "metadata": {},
   "outputs": [],
   "source": [
    "print('Skewness: ', ca_videos['views'].skew())\n",
    "print('Kurtosis: ', ca_videos['views'].kurtosis())\n",
    "ca_videos['views'].describe(percentiles=[.15,.30,.5,.65,.80, .95])"
   ]
  },
  {
   "cell_type": "markdown",
   "metadata": {},
   "source": [
    "We can also see that the number of views can be as low as 733 and as high as 137, 843, 100. \n",
    "\n",
    "50% of videos have 176,707 views or less and the majority of videos (95%) have 4,090,188. However, we can see that 80% of videos have around 1 million views or less, which means that only 15% of the 95% have views between 2 and 4 million.\n",
    "\n",
    "We can clearly see that the data are fairly spread out, especially as the skewness and kurtosis are very high,\n",
    "\n",
    "To put these numbers in perspective and to minimize the visibility of outliers, let's visualize the distribution of videos with less than 4,500,000 views."
   ]
  },
  {
   "cell_type": "code",
   "execution_count": null,
   "metadata": {},
   "outputs": [],
   "source": [
    "ax = sns.distplot(ca_videos[ca_videos[\"views\"] < 4.5e6][\"views\"], kde = False, color = 'midnightblue', \n",
    "                  hist_kws = {'alpha': 1})\n",
    "ax.set(xlabel = 'Views', ylabel = '# of Videos')\n",
    "ax.set(title = \"Number of views of 95% of videos\")\n",
    "plt.show()"
   ]
  },
  {
   "cell_type": "markdown",
   "metadata": {},
   "source": [
    "### Likes Distribution"
   ]
  },
  {
   "cell_type": "code",
   "execution_count": null,
   "metadata": {},
   "outputs": [],
   "source": [
    "print('Skewness: ', ca_videos['likes'].skew())\n",
    "print('Kurtosis: ', ca_videos['likes'].kurtosis())\n",
    "ca_videos['likes'].describe(percentiles=[.15,.30,.5,.65,.80, .95])"
   ]
  },
  {
   "cell_type": "markdown",
   "metadata": {},
   "source": [
    "Here we can see that the minimum number of likes is 0 but that is likely because some videos have that feature disables. The max can reach as high as 5,053,338. \n",
    "\n",
    "95% of videos 165,236 likes or less, while 80% have 38,557 likes. This shows us that the majority of videos do not require a huge amount of likes to become trending. \n",
    "\n",
    "We will visualize the spread of videos with 200,000 likes or less. "
   ]
  },
  {
   "cell_type": "code",
   "execution_count": null,
   "metadata": {},
   "outputs": [],
   "source": [
    "ax = sns.distplot(ca_videos[ca_videos[\"likes\"] < 2e5][\"likes\"], kde = False, color = 'midnightblue', \n",
    "                  hist_kws = {'alpha': 1})\n",
    "ax.set(xlabel = 'Likes', ylabel = '# of Videos')\n",
    "ax.set(title = \"Number of likes of 95% of videos\")\n",
    "plt.show()"
   ]
  },
  {
   "cell_type": "markdown",
   "metadata": {},
   "source": [
    "### Dislikes Distribution"
   ]
  },
  {
   "cell_type": "code",
   "execution_count": null,
   "metadata": {},
   "outputs": [],
   "source": [
    "print('Skewness: ', ca_videos['dislikes'].skew())\n",
    "print('Kurtosis: ', ca_videos['dislikes'].kurtosis())\n",
    "ca_videos['dislikes'].describe(percentiles=[.15,.30,.5,.65,.80, .95])"
   ]
  },
  {
   "cell_type": "markdown",
   "metadata": {},
   "source": [
    "The minimum number of dislikes can be as low as 0 and as high as 1,602,383. The majority, however, have fewer than 6,468 dislikes. So only 5% if videos are between 6,000-1,000,000. Again 80% of videos have 1,288 ldislikes or less. So, it's less common to have dislikes on trending videos. \n",
    "\n",
    "Now we will visualize the distribution of videos with less than 6000 dislikes"
   ]
  },
  {
   "cell_type": "code",
   "execution_count": null,
   "metadata": {},
   "outputs": [],
   "source": [
    "ax = sns.distplot(ca_videos[ca_videos[\"dislikes\"] < 6e3][\"dislikes\"], kde = False, color = 'midnightblue', \n",
    "                  hist_kws = {'alpha': 1})\n",
    "ax.set(xlabel = 'Dislikes', ylabel = '# of Videos')\n",
    "ax.set(title = \"Number of dislikes of 95% of videos\")\n",
    "plt.show()"
   ]
  },
  {
   "cell_type": "markdown",
   "metadata": {},
   "source": [
    "### Comment Count Distribution"
   ]
  },
  {
   "cell_type": "code",
   "execution_count": null,
   "metadata": {},
   "outputs": [],
   "source": [
    "print('Skewness: ', ca_videos['comment_count'].skew())\n",
    "print('Kurtosis: ', ca_videos['comment_count'].kurtosis())\n",
    "ca_videos['comment_count'].describe(percentiles=[.15,.30,.5,.65,.80, .95])"
   ]
  },
  {
   "cell_type": "markdown",
   "metadata": {},
   "source": [
    "Comment count can go from as low as 0 to as high as 1,114,800. The majority have a count of 19,189 comments or less, while 80% have a comment count of 4,823 or less. "
   ]
  },
  {
   "cell_type": "code",
   "execution_count": null,
   "metadata": {},
   "outputs": [],
   "source": [
    "ax = sns.distplot(ca_videos[ca_videos[\"comment_count\"] < 1.2e4][\"comment_count\"], kde = False, color = 'midnightblue',\n",
    "                  hist_kws = {'alpha': 1})\n",
    "         \n",
    "ax.set(xlabel = 'Comment Count', ylabel = '# of Videos')\n",
    "ax.set(title = \"Number of comments of 95% of videos\")\n",
    "plt.show()"
   ]
  },
  {
   "cell_type": "code",
   "execution_count": null,
   "metadata": {},
   "outputs": [],
   "source": [
    "from statsmodels.stats.outliers_influence import variance_inflation_factor\n",
    "from statsmodels.tools.tools import add_constant\n",
    "\n",
    "X = add_constant(ca_videos.select_dtypes(include = ['number']))\n",
    "pd.Series([variance_inflation_factor(X.values, i) \n",
    "               for i in range(X.shape[1])], \n",
    "              index=X.columns)"
   ]
  },
  {
   "cell_type": "markdown",
   "metadata": {},
   "source": [
    "## Dislikes Ratio"
   ]
  },
  {
   "cell_type": "code",
   "execution_count": null,
   "metadata": {
    "scrolled": true
   },
   "outputs": [],
   "source": [
    "ca_videos['dislikes_ratio'] = ca_videos['dislikes']/(ca_videos['likes']+ ca_videos['dislikes'])\n",
    "ca_videos[ca_videos['dislikes_ratio'].apply(lambda x: pd.isna(x))]\n"
   ]
  },
  {
   "cell_type": "markdown",
   "metadata": {},
   "source": [
    "As expected, the dislikes ratio has null values, because some videos have 0 likes and dislikes. To correct this, we will replace all null values with the value zero."
   ]
  },
  {
   "cell_type": "code",
   "execution_count": null,
   "metadata": {},
   "outputs": [],
   "source": [
    "ca_videos['dislikes_ratio'] = ca_videos['dislikes_ratio'].fillna(value = 0)"
   ]
  },
  {
   "cell_type": "markdown",
   "metadata": {},
   "source": [
    "## Comment Count Ratio"
   ]
  },
  {
   "cell_type": "code",
   "execution_count": null,
   "metadata": {},
   "outputs": [],
   "source": [
    "ca_videos['comment_ratio'] = ca_videos['comment_count']/(ca_videos['comment_count']+ ca_videos['views'])\n"
   ]
  },
  {
   "cell_type": "markdown",
   "metadata": {},
   "source": [
    "## Most trending categories"
   ]
  },
  {
   "cell_type": "code",
   "execution_count": null,
   "metadata": {},
   "outputs": [],
   "source": [
    "ax = sns.countplot(ca_videos[\"category_name\"], palette = \"rainbow\",\n",
    "                   order= ca_videos['category_name'].value_counts().index)\n",
    "ax.set(xlabel = \"Catgeory\", ylabel = \"Count\")\n",
    "plt.xticks(rotation = 90)\n",
    "ax.set(title = \"Most Trending Categories\")\n"
   ]
  },
  {
   "cell_type": "markdown",
   "metadata": {},
   "source": [
    "### Title Length"
   ]
  },
  {
   "cell_type": "code",
   "execution_count": null,
   "metadata": {},
   "outputs": [],
   "source": [
    "ca_videos['title_length'] = ca_videos.title.apply(lambda x: len(x))\n",
    "ca_videos['title_length'].describe(percentiles=[.15,.30,.5,.65,.80, .95])"
   ]
  },
  {
   "cell_type": "code",
   "execution_count": null,
   "metadata": {},
   "outputs": [],
   "source": [
    "ax = sns.distplot(ca_videos.title_length, kde = False, color = 'midnightblue',\n",
    "                  hist_kws = {'alpha': 1})"
   ]
  },
  {
   "cell_type": "code",
   "execution_count": null,
   "metadata": {},
   "outputs": [],
   "source": [
    "sns.heatmap(ca_videos.select_dtypes(include = ['number']).corr(method = 'pearson'), fmt='0.2f', cmap = 'Blues_r', annot=True)\n",
    "plt.title('Correlation Matrix of Numerical Values', fontsize=9)\n",
    "\n",
    "plt.yticks(fontsize=14, rotation=60)\n",
    "plt.xticks(fontsize=14, rotation = 60)"
   ]
  },
  {
   "cell_type": "code",
   "execution_count": null,
   "metadata": {},
   "outputs": [],
   "source": []
  },
  {
   "cell_type": "code",
   "execution_count": null,
   "metadata": {},
   "outputs": [],
   "source": []
  },
  {
   "cell_type": "code",
   "execution_count": null,
   "metadata": {},
   "outputs": [],
   "source": []
  }
 ],
 "metadata": {
  "kernelspec": {
   "display_name": "Python 3",
   "language": "python",
   "name": "python3"
  },
  "language_info": {
   "codemirror_mode": {
    "name": "ipython",
    "version": 3
   },
   "file_extension": ".py",
   "mimetype": "text/x-python",
   "name": "python",
   "nbconvert_exporter": "python",
   "pygments_lexer": "ipython3",
   "version": "3.7.6"
  }
 },
 "nbformat": 4,
 "nbformat_minor": 4
}
