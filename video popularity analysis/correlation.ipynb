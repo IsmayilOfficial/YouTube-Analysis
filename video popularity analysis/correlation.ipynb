{
 "cells": [
  {
   "cell_type": "code",
   "execution_count": 1,
   "metadata": {},
   "outputs": [],
   "source": [
    "import numpy as np\n",
    "import seaborn as sns\n",
    "import pandas as pd\n",
    "\n",
    "import matplotlib.pyplot as plt\n",
    "import matplotlib.colors as colors\n",
    "import datetime as dt\n",
    "import math\n",
    "\n",
    "import warnings\n",
    "warnings.filterwarnings('ignore')\n",
    "\n",
    "\n",
    "ca_categories = pd.read_json('KR_category_id.json')\n",
    "\n",
    "ca_videos = pd.read_csv('KRvideos.csv',encoding='cyrillic'\n",
    "                        \n",
    "                        #, encoding='latin1'\n",
    "                       )\n"
   ]
  },
  {
   "cell_type": "code",
   "execution_count": 2,
   "metadata": {},
   "outputs": [
    {
     "name": "stdout",
     "output_type": "stream",
     "text": [
      "Data collection start date:  17.01.12\n",
      "Date collection end date:  18.31.05\n"
     ]
    }
   ],
   "source": [
    "ca_videos['trending_date'].sort_values()\n",
    "print('Data collection start date: ', ca_videos['trending_date'].min())\n",
    "print('Date collection end date: ', ca_videos['trending_date'].max())"
   ]
  },
  {
   "cell_type": "markdown",
   "metadata": {},
   "source": [
    "### Publication Date"
   ]
  },
  {
   "cell_type": "code",
   "execution_count": 3,
   "metadata": {},
   "outputs": [
    {
     "name": "stdout",
     "output_type": "stream",
     "text": [
      "Original publication start date:  2011-09-29\n",
      "Original publication end date:  18.31.05\n"
     ]
    }
   ],
   "source": [
    "ca_videos['publish_time'] = pd.to_datetime(ca_videos['publish_time'], format='%Y-%m-%dT%H:%M:%S.%fZ').dt.date\n",
    "print('Original publication start date: ', ca_videos['publish_time'].min())\n",
    "print('Original publication end date: ', ca_videos['trending_date'].max())"
   ]
  },
  {
   "cell_type": "markdown",
   "metadata": {},
   "source": [
    "## Categories"
   ]
  },
  {
   "cell_type": "code",
   "execution_count": 4,
   "metadata": {},
   "outputs": [
    {
     "data": {
      "text/plain": [
       "{1: 'Film & Animation',\n",
       " 2: 'Autos & Vehicles',\n",
       " 10: 'Music',\n",
       " 15: 'Pets & Animals',\n",
       " 17: 'Sports',\n",
       " 18: 'Short Movies',\n",
       " 19: 'Travel & Events',\n",
       " 20: 'Gaming',\n",
       " 21: 'Videoblogging',\n",
       " 22: 'People & Blogs',\n",
       " 23: 'Comedy',\n",
       " 24: 'Entertainment',\n",
       " 25: 'News & Politics',\n",
       " 26: 'Howto & Style',\n",
       " 27: 'Education',\n",
       " 28: 'Science & Technology',\n",
       " 30: 'Movies',\n",
       " 31: 'Anime/Animation',\n",
       " 32: 'Action/Adventure',\n",
       " 33: 'Classics',\n",
       " 34: 'Comedy',\n",
       " 35: 'Documentary',\n",
       " 36: 'Drama',\n",
       " 37: 'Family',\n",
       " 38: 'Foreign',\n",
       " 39: 'Horror',\n",
       " 40: 'Sci-Fi/Fantasy',\n",
       " 41: 'Thriller',\n",
       " 42: 'Shorts',\n",
       " 43: 'Shows',\n",
       " 44: 'Trailers'}"
      ]
     },
     "execution_count": 4,
     "metadata": {},
     "output_type": "execute_result"
    }
   ],
   "source": [
    "categories = {int(category['id']): category['snippet']['title'] for category in ca_categories['items']}\n",
    "ca_videos[\"category_name\"] = ca_videos[\"category_id\"].map(categories)\n",
    "categories"
   ]
  },
  {
   "cell_type": "markdown",
   "metadata": {},
   "source": [
    "In the description above, we determined that #24 is the category with the most trending videos. Here we can see that it's entertainment."
   ]
  },
  {
   "cell_type": "markdown",
   "metadata": {},
   "source": [
    "## Boolean Data"
   ]
  },
  {
   "cell_type": "markdown",
   "metadata": {},
   "source": [
    "Now we evaluate the boolean data, before moving on to the numerical data. \n",
    "There are three boolean variables: comment_disabled, ratings_disabled, and video_error_or_removed."
   ]
  },
  {
   "cell_type": "code",
   "execution_count": 5,
   "metadata": {},
   "outputs": [
    {
     "name": "stdout",
     "output_type": "stream",
     "text": [
      "       comments_disabled  ratings_disabled  video_error_or_removed\n",
      "False              34056             33167                   34526\n",
      "True                 511              1400                      41\n",
      "\n",
      "Number of videos with comments and ratings disabled that have been removed:  0\n",
      "Number of videos with both comments and ratings disabled:  202\n"
     ]
    }
   ],
   "source": [
    "bool_data = ca_videos.select_dtypes(include = 'bool').apply(pd.Series.value_counts)\n",
    "print(bool_data)\n",
    "print()\n",
    "print('Number of videos with comments and ratings disabled that have been removed: ', \n",
    "      len(ca_videos[(ca_videos[\"comments_disabled\"] == True) & (ca_videos[\"ratings_disabled\"] == True) & (ca_videos['video_error_or_removed'] == True)]))\n",
    "print('Number of videos with both comments and ratings disabled: ',  \n",
    "      len(ca_videos[(ca_videos[\"comments_disabled\"] == True) & (ca_videos[\"ratings_disabled\"] == True)]))"
   ]
  },
  {
   "cell_type": "code",
   "execution_count": 6,
   "metadata": {},
   "outputs": [
    {
     "data": {
      "text/plain": [
       "<matplotlib.legend.Legend at 0x108737c50>"
      ]
     },
     "execution_count": 6,
     "metadata": {},
     "output_type": "execute_result"
    },
    {
     "data": {
      "image/png": "[encoded data removed]",
      "text/plain": [
       "<Figure size 432x288 with 1 Axes>"
      ]
     },
     "metadata": {
      "needs_background": "light"
     },
     "output_type": "display_data"
    }
   ],
   "source": [
    "bool_data = bool_data.transpose()\n",
    "bool_data.plot.bar(stacked = True)\n",
    "plt.xticks(rotation = 'horizontal')\n",
    "plt.legend(bbox_to_anchor=(1.01, 1), loc='upper left')"
   ]
  },
  {
   "cell_type": "markdown",
   "metadata": {},
   "source": [
    "Clearly a very low percentage of videos have disabled comments, ratings, or have been removed due to error. "
   ]
  },
  {
   "cell_type": "code",
   "execution_count": 7,
   "metadata": {},
   "outputs": [
    {
     "data": {
      "text/html": [
       "<div>\n",
       "<style scoped>\n",
       "    .dataframe tbody tr th:only-of-type {\n",
       "        vertical-align: middle;\n",
       "    }\n",
       "\n",
       "    .dataframe tbody tr th {\n",
       "        vertical-align: top;\n",
       "    }\n",
       "\n",
       "    .dataframe thead th {\n",
       "        text-align: right;\n",
       "    }\n",
       "</style>\n",
       "<table border=\"1\" class=\"dataframe\">\n",
       "  <thead>\n",
       "    <tr style=\"text-align: right;\">\n",
       "      <th></th>\n",
       "      <th>video_id</th>\n",
       "      <th>trending_date</th>\n",
       "      <th>title</th>\n",
       "      <th>channel_title</th>\n",
       "      <th>category_id</th>\n",
       "      <th>publish_time</th>\n",
       "      <th>tags</th>\n",
       "      <th>views</th>\n",
       "      <th>likes</th>\n",
       "      <th>dislikes</th>\n",
       "      <th>comment_count</th>\n",
       "      <th>thumbnail_link</th>\n",
       "      <th>comments_disabled</th>\n",
       "      <th>ratings_disabled</th>\n",
       "      <th>video_error_or_removed</th>\n",
       "      <th>description</th>\n",
       "      <th>category_name</th>\n",
       "    </tr>\n",
       "  </thead>\n",
       "  <tbody>\n",
       "    <tr>\n",
       "      <th>701</th>\n",
       "      <td>Jn9sOxMhwQA</td>\n",
       "      <td>17.17.11</td>\n",
       "      <td>Deleted video</td>\n",
       "      <td>WorkpointOfficial</td>\n",
       "      <td>24</td>\n",
       "      <td>2017-11-16</td>\n",
       "      <td>рИрИЅрИДрИрИЂрЙрИ­рИрИЋрИЅрИБрИ|\"рИЃрИВрИ...</td>\n",
       "      <td>683610</td>\n",
       "      <td>4596</td>\n",
       "      <td>485</td>\n",
       "      <td>1688</td>\n",
       "      <td>https://i.ytimg.com/vi/NdQf-JuBjp0/default.jpg</td>\n",
       "      <td>False</td>\n",
       "      <td>False</td>\n",
       "      <td>True</td>\n",
       "      <td>рИрИрИрИБрИрИЃрИВрИЂрИрИВрИЃ THE MASK SIN...</td>\n",
       "      <td>Entertainment</td>\n",
       "    </tr>\n",
       "    <tr>\n",
       "      <th>4763</th>\n",
       "      <td>39hCVM4T4PA</td>\n",
       "      <td>17.11.12</td>\n",
       "      <td>Deleted video</td>\n",
       "      <td>уИуЃуЄуЂуГушЊ­хЃВ</td>\n",
       "      <td>17</td>\n",
       "      <td>2017-12-09</td>\n",
       "      <td>ыььььЛЕьЖъЕЌ эъЕ­ - ьЄъЕ­|\"EAFF E-...</td>\n",
       "      <td>96334</td>\n",
       "      <td>223</td>\n",
       "      <td>88</td>\n",
       "      <td>39</td>\n",
       "      <td>https://i.ytimg.com/vi/6AH3XsWyyJ4/default.jpg</td>\n",
       "      <td>False</td>\n",
       "      <td>False</td>\n",
       "      <td>True</td>\n",
       "      <td>https://www.cia.gov</td>\n",
       "      <td>Sports</td>\n",
       "    </tr>\n",
       "    <tr>\n",
       "      <th>8879</th>\n",
       "      <td>LJsbf7KNVCA</td>\n",
       "      <td>18.05.01</td>\n",
       "      <td>Deleted video</td>\n",
       "      <td>News Express</td>\n",
       "      <td>25</td>\n",
       "      <td>2018-01-03</td>\n",
       "      <td>[none]</td>\n",
       "      <td>110849</td>\n",
       "      <td>1262</td>\n",
       "      <td>99</td>\n",
       "      <td>372</td>\n",
       "      <td>https://i.ytimg.com/vi/65wCVplhoFg/default.jpg</td>\n",
       "      <td>False</td>\n",
       "      <td>False</td>\n",
       "      <td>True</td>\n",
       "      <td>чО ьЌь ыААьЙь ыЈ ь ыЕ ььЁь , ыЖь...</td>\n",
       "      <td>News &amp; Politics</td>\n",
       "    </tr>\n",
       "    <tr>\n",
       "      <th>10160</th>\n",
       "      <td>ztM2VIOJX8Q</td>\n",
       "      <td>18.14.01</td>\n",
       "      <td>2018ы",
       " 1ь 12ьМ PenN NEWS</td>\n",
       "      <td>ь ъЗьЌTV</td>\n",
       "      <td>25</td>\n",
       "      <td>2018-01-12</td>\n",
       "      <td>ь ъЗьЌыДьЄ|\"ь ъЗьЌtv\"|\"jkjtv\"|\"ь ъЗь...</td>\n",
       "      <td>79028</td>\n",
       "      <td>135</td>\n",
       "      <td>28</td>\n",
       "      <td>174</td>\n",
       "      <td>https://i.ytimg.com/vi/ztM2VIOJX8Q/default.jpg</td>\n",
       "      <td>False</td>\n",
       "      <td>False</td>\n",
       "      <td>True</td>\n",
       "      <td>*ьЄыь PenN ыДьЄ эьДэ *\\n\\n1. ыЌИь...</td>\n",
       "      <td>News &amp; Politics</td>\n",
       "    </tr>\n",
       "    <tr>\n",
       "      <th>10371</th>\n",
       "      <td>ztM2VIOJX8Q</td>\n",
       "      <td>18.15.01</td>\n",
       "      <td>2018ы",
       " 1ь 12ьМ PenN NEWS</td>\n",
       "      <td>ь ъЗьЌTV</td>\n",
       "      <td>25</td>\n",
       "      <td>2018-01-12</td>\n",
       "      <td>ь ъЗьЌыДьЄ|\"ь ъЗьЌtv\"|\"jkjtv\"|\"ь ъЗь...</td>\n",
       "      <td>45921</td>\n",
       "      <td>1006</td>\n",
       "      <td>4</td>\n",
       "      <td>91</td>\n",
       "      <td>https://i.ytimg.com/vi/ztM2VIOJX8Q/default.jpg</td>\n",
       "      <td>False</td>\n",
       "      <td>False</td>\n",
       "      <td>True</td>\n",
       "      <td>*ьЄыь PenN ыДьЄ эьДэ *\\n\\n1. ыЌИь...</td>\n",
       "      <td>News &amp; Politics</td>\n",
       "    </tr>\n",
       "  </tbody>\n",
       "</table>\n",
       "</div>"
      ],
      "text/plain": [
       "          video_id trending_date                         title  \\\n",
       "701    Jn9sOxMhwQA      17.17.11                 Deleted video   \n",
       "4763   39hCVM4T4PA      17.11.12                 Deleted video   \n",
       "8879   LJsbf7KNVCA      18.05.01                 Deleted video   \n",
       "10160  ztM2VIOJX8Q      18.14.01  2018ы\n",
       " 1ь 12ьМ PenN NEWS   \n",
       "10371  ztM2VIOJX8Q      18.15.01  2018ы\n",
       " 1ь 12ьМ PenN NEWS   \n",
       "\n",
       "                  channel_title  category_id publish_time  \\\n",
       "701           WorkpointOfficial           24   2017-11-16   \n",
       "4763   уИуЃуЄуЂуГушЊ­хЃВ           17   2017-12-09   \n",
       "8879               News Express           25   2018-01-03   \n",
       "10160               ь ъЗьЌTV           25   2018-01-12   \n",
       "10371               ь ъЗьЌTV           25   2018-01-12   \n",
       "\n",
       "                                                    tags   views  likes  \\\n",
       "701    рИрИЅрИДрИрИЂрЙрИ­рИрИЋрИЅрИБрИ|\"рИЃрИВрИ...  683610   4596   \n",
       "4763   ыььььЛЕьЖъЕЌ эъЕ­ - ьЄъЕ­|\"EAFF E-...   96334    223   \n",
       "8879                                              [none]  110849   1262   \n",
       "10160  ь ъЗьЌыДьЄ|\"ь ъЗьЌtv\"|\"jkjtv\"|\"ь ъЗь...   79028    135   \n",
       "10371  ь ъЗьЌыДьЄ|\"ь ъЗьЌtv\"|\"jkjtv\"|\"ь ъЗь...   45921   1006   \n",
       "\n",
       "       dislikes  comment_count  \\\n",
       "701         485           1688   \n",
       "4763         88             39   \n",
       "8879         99            372   \n",
       "10160        28            174   \n",
       "10371         4             91   \n",
       "\n",
       "                                       thumbnail_link  comments_disabled  \\\n",
       "701    https://i.ytimg.com/vi/NdQf-JuBjp0/default.jpg              False   \n",
       "4763   https://i.ytimg.com/vi/6AH3XsWyyJ4/default.jpg              False   \n",
       "8879   https://i.ytimg.com/vi/65wCVplhoFg/default.jpg              False   \n",
       "10160  https://i.ytimg.com/vi/ztM2VIOJX8Q/default.jpg              False   \n",
       "10371  https://i.ytimg.com/vi/ztM2VIOJX8Q/default.jpg              False   \n",
       "\n",
       "       ratings_disabled  video_error_or_removed  \\\n",
       "701               False                    True   \n",
       "4763              False                    True   \n",
       "8879              False                    True   \n",
       "10160             False                    True   \n",
       "10371             False                    True   \n",
       "\n",
       "                                             description    category_name  \n",
       "701    рИрИрИрИБрИрИЃрИВрИЂрИрИВрИЃ THE MASK SIN...    Entertainment  \n",
       "4763                                 https://www.cia.gov           Sports  \n",
       "8879   чО ьЌь ыААьЙь ыЈ ь ыЕ ььЁь , ыЖь...  News & Politics  \n",
       "10160  *ьЄыь PenN ыДьЄ эьДэ *\\n\\n1. ыЌИь...  News & Politics  \n",
       "10371  *ьЄыь PenN ыДьЄ эьДэ *\\n\\n1. ыЌИь...  News & Politics  "
      ]
     },
     "execution_count": 7,
     "metadata": {},
     "output_type": "execute_result"
    }
   ],
   "source": [
    "ca_videos.loc[ca_videos['video_error_or_removed'] == True].head(5)"
   ]
  },
  {
   "cell_type": "markdown",
   "metadata": {},
   "source": [
    "While, videos with comments_disabled and ratings_disabled might give us some insight, videos that were removed and/or had an error can be dropped. We can see that some of them have titles such as 'deleted videos' and or other missing values. Given the small number of deleted videos, the dataset will not be majorily influenced by removing the entries with deleted videos and the variables video_error_or_removed."
   ]
  },
  {
   "cell_type": "code",
   "execution_count": 8,
   "metadata": {},
   "outputs": [],
   "source": [
    "#delete rows and columns\n",
    "ca_videos = ca_videos[~ca_videos.video_error_or_removed]\n",
    "del ca_videos['video_error_or_removed']"
   ]
  },
  {
   "cell_type": "markdown",
   "metadata": {},
   "source": [
    "## Numerical Data Exploration"
   ]
  },
  {
   "cell_type": "code",
   "execution_count": 9,
   "metadata": {},
   "outputs": [
    {
     "data": {
      "text/html": [
       "<div>\n",
       "<style scoped>\n",
       "    .dataframe tbody tr th:only-of-type {\n",
       "        vertical-align: middle;\n",
       "    }\n",
       "\n",
       "    .dataframe tbody tr th {\n",
       "        vertical-align: top;\n",
       "    }\n",
       "\n",
       "    .dataframe thead th {\n",
       "        text-align: right;\n",
       "    }\n",
       "</style>\n",
       "<table border=\"1\" class=\"dataframe\">\n",
       "  <thead>\n",
       "    <tr style=\"text-align: right;\">\n",
       "      <th></th>\n",
       "      <th>category_id</th>\n",
       "      <th>views</th>\n",
       "      <th>likes</th>\n",
       "      <th>dislikes</th>\n",
       "      <th>comment_count</th>\n",
       "    </tr>\n",
       "  </thead>\n",
       "  <tbody>\n",
       "    <tr>\n",
       "      <th>count</th>\n",
       "      <td>34526.000000</td>\n",
       "      <td>3.452600e+04</td>\n",
       "      <td>3.452600e+04</td>\n",
       "      <td>3.452600e+04</td>\n",
       "      <td>3.452600e+04</td>\n",
       "    </tr>\n",
       "    <tr>\n",
       "      <th>mean</th>\n",
       "      <td>21.147541</td>\n",
       "      <td>4.251242e+05</td>\n",
       "      <td>1.218736e+04</td>\n",
       "      <td>5.393762e+02</td>\n",
       "      <td>2.026034e+03</td>\n",
       "    </tr>\n",
       "    <tr>\n",
       "      <th>std</th>\n",
       "      <td>6.667575</td>\n",
       "      <td>2.432011e+06</td>\n",
       "      <td>1.171086e+05</td>\n",
       "      <td>1.371662e+04</td>\n",
       "      <td>2.151876e+04</td>\n",
       "    </tr>\n",
       "    <tr>\n",
       "      <th>min</th>\n",
       "      <td>1.000000</td>\n",
       "      <td>2.050000e+03</td>\n",
       "      <td>0.000000e+00</td>\n",
       "      <td>0.000000e+00</td>\n",
       "      <td>0.000000e+00</td>\n",
       "    </tr>\n",
       "    <tr>\n",
       "      <th>25%</th>\n",
       "      <td>22.000000</td>\n",
       "      <td>4.777225e+04</td>\n",
       "      <td>4.120000e+02</td>\n",
       "      <td>2.100000e+01</td>\n",
       "      <td>1.050000e+02</td>\n",
       "    </tr>\n",
       "    <tr>\n",
       "      <th>50%</th>\n",
       "      <td>24.000000</td>\n",
       "      <td>1.115310e+05</td>\n",
       "      <td>1.389500e+03</td>\n",
       "      <td>6.500000e+01</td>\n",
       "      <td>3.450000e+02</td>\n",
       "    </tr>\n",
       "    <tr>\n",
       "      <th>75%</th>\n",
       "      <td>25.000000</td>\n",
       "      <td>2.788718e+05</td>\n",
       "      <td>3.705750e+03</td>\n",
       "      <td>1.750000e+02</td>\n",
       "      <td>9.290000e+02</td>\n",
       "    </tr>\n",
       "    <tr>\n",
       "      <th>max</th>\n",
       "      <td>44.000000</td>\n",
       "      <td>1.138762e+08</td>\n",
       "      <td>5.150839e+06</td>\n",
       "      <td>1.470388e+06</td>\n",
       "      <td>1.142274e+06</td>\n",
       "    </tr>\n",
       "  </tbody>\n",
       "</table>\n",
       "</div>"
      ],
      "text/plain": [
       "        category_id         views         likes      dislikes  comment_count\n",
       "count  34526.000000  3.452600e+04  3.452600e+04  3.452600e+04   3.452600e+04\n",
       "mean      21.147541  4.251242e+05  1.218736e+04  5.393762e+02   2.026034e+03\n",
       "std        6.667575  2.432011e+06  1.171086e+05  1.371662e+04   2.151876e+04\n",
       "min        1.000000  2.050000e+03  0.000000e+00  0.000000e+00   0.000000e+00\n",
       "25%       22.000000  4.777225e+04  4.120000e+02  2.100000e+01   1.050000e+02\n",
       "50%       24.000000  1.115310e+05  1.389500e+03  6.500000e+01   3.450000e+02\n",
       "75%       25.000000  2.788718e+05  3.705750e+03  1.750000e+02   9.290000e+02\n",
       "max       44.000000  1.138762e+08  5.150839e+06  1.470388e+06   1.142274e+06"
      ]
     },
     "execution_count": 9,
     "metadata": {},
     "output_type": "execute_result"
    }
   ],
   "source": [
    "ca_videos.describe(include = [np.number])"
   ]
  },
  {
   "cell_type": "markdown",
   "metadata": {},
   "source": [
    "We can see that most data points in likes, dislikes, and comment_count are fairly close to the mean. However, the views data points seem to be more spread out. It's possible that there are outliers where videos become trending with fewer/more views, likes, or comment counts. It's also possible for videos with disabled comments and/or ratings to make it to the trending list. \n",
    "\n",
    "We can also see that the number of views can be as low as 733 and as high as 137, 843, 100. \n",
    "\n",
    "Let's visualize their distribution to get a better idea."
   ]
  },
  {
   "cell_type": "markdown",
   "metadata": {},
   "source": [
    "### Views Distribution"
   ]
  },
  {
   "cell_type": "code",
   "execution_count": 10,
   "metadata": {},
   "outputs": [
    {
     "name": "stdout",
     "output_type": "stream",
     "text": [
      "Skewness:  23.47182498290494\n",
      "Kurtosis:  713.8214577090861\n"
     ]
    },
    {
     "data": {
      "text/plain": [
       "count    3.452600e+04\n",
       "mean     4.251242e+05\n",
       "std      2.432011e+06\n",
       "min      2.050000e+03\n",
       "15%      3.131450e+04\n",
       "30%      5.767550e+04\n",
       "50%      1.115310e+05\n",
       "65%      1.880150e+05\n",
       "80%      3.506050e+05\n",
       "95%      1.175026e+06\n",
       "max      1.138762e+08\n",
       "Name: views, dtype: float64"
      ]
     },
     "execution_count": 10,
     "metadata": {},
     "output_type": "execute_result"
    }
   ],
   "source": [
    "print('Skewness: ', ca_videos['views'].skew())\n",
    "print('Kurtosis: ', ca_videos['views'].kurtosis())\n",
    "ca_videos['views'].describe(percentiles=[.15,.30,.5,.65,.80, .95])"
   ]
  },
  {
   "cell_type": "markdown",
   "metadata": {},
   "source": [
    "We can also see that the number of views can be as low as 733 and as high as 137, 843, 100. \n",
    "\n",
    "50% of videos have 176,707 views or less and the majority of videos (95%) have 4,090,188. However, we can see that 80% of videos have around 1 million views or less, which means that only 15% of the 95% have views between 2 and 4 million.\n",
    "\n",
    "We can clearly see that the data are fairly spread out, especially as the skewness and kurtosis are very high,\n",
    "\n",
    "To put these numbers in perspective and to minimize the visibility of outliers, let's visualize the distribution of videos with less than 4,500,000 views."
   ]
  },
  {
   "cell_type": "code",
   "execution_count": 11,
   "metadata": {},
   "outputs": [
    {
     "data": {
      "image/png": "[encoded data removed]",
      "text/plain": [
       "<Figure size 432x288 with 1 Axes>"
      ]
     },
     "metadata": {
      "needs_background": "light"
     },
     "output_type": "display_data"
    }
   ],
   "source": [
    "ax = sns.distplot(ca_videos[ca_videos[\"views\"] < 4.5e6][\"views\"], kde = False, color = 'midnightblue', \n",
    "                  hist_kws = {'alpha': 1})\n",
    "ax.set(xlabel = 'Views', ylabel = '# of Videos')\n",
    "ax.set(title = \"Number of views of 95% of videos\")\n",
    "plt.show()"
   ]
  },
  {
   "cell_type": "markdown",
   "metadata": {},
   "source": [
    "### Likes Distribution"
   ]
  },
  {
   "cell_type": "code",
   "execution_count": 12,
   "metadata": {},
   "outputs": [
    {
     "name": "stdout",
     "output_type": "stream",
     "text": [
      "Skewness:  24.963208665723148\n",
      "Kurtosis:  816.1561544527424\n"
     ]
    },
    {
     "data": {
      "text/plain": [
       "count    3.452600e+04\n",
       "mean     1.218736e+04\n",
       "std      1.171086e+05\n",
       "min      0.000000e+00\n",
       "15%      1.990000e+02\n",
       "30%      5.510000e+02\n",
       "50%      1.389500e+03\n",
       "65%      2.505250e+03\n",
       "80%      4.680000e+03\n",
       "95%      1.761375e+04\n",
       "max      5.150839e+06\n",
       "Name: likes, dtype: float64"
      ]
     },
     "execution_count": 12,
     "metadata": {},
     "output_type": "execute_result"
    }
   ],
   "source": [
    "print('Skewness: ', ca_videos['likes'].skew())\n",
    "print('Kurtosis: ', ca_videos['likes'].kurtosis())\n",
    "ca_videos['likes'].describe(percentiles=[.15,.30,.5,.65,.80, .95])"
   ]
  },
  {
   "cell_type": "markdown",
   "metadata": {},
   "source": [
    "Here we can see that the minimum number of likes is 0 but that is likely because some videos have that feature disables. The max can reach as high as 5,053,338. \n",
    "\n",
    "95% of videos 165,236 likes or less, while 80% have 38,557 likes. This shows us that the majority of videos do not require a huge amount of likes to become trending. \n",
    "\n",
    "We will visualize the spread of videos with 200,000 likes or less. "
   ]
  },
  {
   "cell_type": "code",
   "execution_count": 13,
   "metadata": {},
   "outputs": [
    {
     "data": {
      "image/png": "[encoded data removed]",
      "text/plain": [
       "<Figure size 432x288 with 1 Axes>"
      ]
     },
     "metadata": {
      "needs_background": "light"
     },
     "output_type": "display_data"
    }
   ],
   "source": [
    "ax = sns.distplot(ca_videos[ca_videos[\"likes\"] < 2e5][\"likes\"], kde = False, color = 'midnightblue', \n",
    "                  hist_kws = {'alpha': 1})\n",
    "ax.set(xlabel = 'Likes', ylabel = '# of Videos')\n",
    "ax.set(title = \"Number of likes of 95% of videos\")\n",
    "plt.show()"
   ]
  },
  {
   "cell_type": "markdown",
   "metadata": {},
   "source": [
    "### Dislikes Distribution"
   ]
  },
  {
   "cell_type": "code",
   "execution_count": 14,
   "metadata": {},
   "outputs": [
    {
     "name": "stdout",
     "output_type": "stream",
     "text": [
      "Skewness:  87.79501116779387\n",
      "Kurtosis:  8387.115641772418\n"
     ]
    },
    {
     "data": {
      "text/plain": [
       "count    3.452600e+04\n",
       "mean     5.393762e+02\n",
       "std      1.371662e+04\n",
       "min      0.000000e+00\n",
       "15%      1.000000e+01\n",
       "30%      2.800000e+01\n",
       "50%      6.500000e+01\n",
       "65%      1.120000e+02\n",
       "80%      2.280000e+02\n",
       "95%      8.550000e+02\n",
       "max      1.470388e+06\n",
       "Name: dislikes, dtype: float64"
      ]
     },
     "execution_count": 14,
     "metadata": {},
     "output_type": "execute_result"
    }
   ],
   "source": [
    "print('Skewness: ', ca_videos['dislikes'].skew())\n",
    "print('Kurtosis: ', ca_videos['dislikes'].kurtosis())\n",
    "ca_videos['dislikes'].describe(percentiles=[.15,.30,.5,.65,.80, .95])"
   ]
  },
  {
   "cell_type": "markdown",
   "metadata": {},
   "source": [
    "The minimum number of dislikes can be as low as 0 and as high as 1,602,383. The majority, however, have fewer than 6,468 dislikes. So only 5% if videos are between 6,000-1,000,000. Again 80% of videos have 1,288 ldislikes or less. So, it's less common to have dislikes on trending videos. \n",
    "\n",
    "Now we will visualize the distribution of videos with less than 6000 dislikes"
   ]
  },
  {
   "cell_type": "code",
   "execution_count": 15,
   "metadata": {},
   "outputs": [
    {
     "data": {
      "image/png": "[encoded data removed]",
      "text/plain": [
       "<Figure size 432x288 with 1 Axes>"
      ]
     },
     "metadata": {
      "needs_background": "light"
     },
     "output_type": "display_data"
    }
   ],
   "source": [
    "ax = sns.distplot(ca_videos[ca_videos[\"dislikes\"] < 6e3][\"dislikes\"], kde = False, color = 'midnightblue', \n",
    "                  hist_kws = {'alpha': 1})\n",
    "ax.set(xlabel = 'Dislikes', ylabel = '# of Videos')\n",
    "ax.set(title = \"Number of dislikes of 95% of videos\")\n",
    "plt.show()"
   ]
  },
  {
   "cell_type": "markdown",
   "metadata": {},
   "source": [
    "### Comment Count Distribution"
   ]
  },
  {
   "cell_type": "code",
   "execution_count": 16,
   "metadata": {},
   "outputs": [
    {
     "name": "stdout",
     "output_type": "stream",
     "text": [
      "Skewness:  35.68694322645301\n",
      "Kurtosis:  1546.7333547451653\n"
     ]
    },
    {
     "data": {
      "text/plain": [
       "count    3.452600e+04\n",
       "mean     2.026034e+03\n",
       "std      2.151876e+04\n",
       "min      0.000000e+00\n",
       "15%      5.100000e+01\n",
       "30%      1.400000e+02\n",
       "50%      3.450000e+02\n",
       "65%      6.060000e+02\n",
       "80%      1.168000e+03\n",
       "95%      4.251000e+03\n",
       "max      1.142274e+06\n",
       "Name: comment_count, dtype: float64"
      ]
     },
     "execution_count": 16,
     "metadata": {},
     "output_type": "execute_result"
    }
   ],
   "source": [
    "print('Skewness: ', ca_videos['comment_count'].skew())\n",
    "print('Kurtosis: ', ca_videos['comment_count'].kurtosis())\n",
    "ca_videos['comment_count'].describe(percentiles=[.15,.30,.5,.65,.80, .95])"
   ]
  },
  {
   "cell_type": "markdown",
   "metadata": {},
   "source": [
    "Comment count can go from as low as 0 to as high as 1,114,800. The majority have a count of 19,189 comments or less, while 80% have a comment count of 4,823 or less. "
   ]
  },
  {
   "cell_type": "code",
   "execution_count": 17,
   "metadata": {},
   "outputs": [
    {
     "data": {
      "image/png": "[encoded data removed]",
      "text/plain": [
       "<Figure size 432x288 with 1 Axes>"
      ]
     },
     "metadata": {
      "needs_background": "light"
     },
     "output_type": "display_data"
    }
   ],
   "source": [
    "ax = sns.distplot(ca_videos[ca_videos[\"comment_count\"] < 1.2e4][\"comment_count\"], kde = False, color = 'midnightblue',\n",
    "                  hist_kws = {'alpha': 1})\n",
    "         \n",
    "ax.set(xlabel = 'Comment Count', ylabel = '# of Videos')\n",
    "ax.set(title = \"Number of comments of 95% of videos\")\n",
    "plt.show()"
   ]
  },
  {
   "cell_type": "code",
   "execution_count": 18,
   "metadata": {},
   "outputs": [
    {
     "data": {
      "text/plain": [
       "const            11.318741\n",
       "category_id       1.014176\n",
       "views             5.053018\n",
       "likes            11.851851\n",
       "dislikes          2.034455\n",
       "comment_count     8.868258\n",
       "dtype: float64"
      ]
     },
     "execution_count": 18,
     "metadata": {},
     "output_type": "execute_result"
    }
   ],
   "source": [
    "from statsmodels.stats.outliers_influence import variance_inflation_factor\n",
    "from statsmodels.tools.tools import add_constant\n",
    "\n",
    "X = add_constant(ca_videos.select_dtypes(include = ['number']))\n",
    "pd.Series([variance_inflation_factor(X.values, i) \n",
    "               for i in range(X.shape[1])], \n",
    "              index=X.columns)"
   ]
  },
  {
   "cell_type": "markdown",
   "metadata": {},
   "source": [
    "## Dislikes Ratio"
   ]
  },
  {
   "cell_type": "code",
   "execution_count": 19,
   "metadata": {
    "scrolled": true
   },
   "outputs": [
    {
     "data": {
      "text/html": [
       "<div>\n",
       "<style scoped>\n",
       "    .dataframe tbody tr th:only-of-type {\n",
       "        vertical-align: middle;\n",
       "    }\n",
       "\n",
       "    .dataframe tbody tr th {\n",
       "        vertical-align: top;\n",
       "    }\n",
       "\n",
       "    .dataframe thead th {\n",
       "        text-align: right;\n",
       "    }\n",
       "</style>\n",
       "<table border=\"1\" class=\"dataframe\">\n",
       "  <thead>\n",
       "    <tr style=\"text-align: right;\">\n",
       "      <th></th>\n",
       "      <th>video_id</th>\n",
       "      <th>trending_date</th>\n",
       "      <th>title</th>\n",
       "      <th>channel_title</th>\n",
       "      <th>category_id</th>\n",
       "      <th>publish_time</th>\n",
       "      <th>tags</th>\n",
       "      <th>views</th>\n",
       "      <th>likes</th>\n",
       "      <th>dislikes</th>\n",
       "      <th>comment_count</th>\n",
       "      <th>thumbnail_link</th>\n",
       "      <th>comments_disabled</th>\n",
       "      <th>ratings_disabled</th>\n",
       "      <th>description</th>\n",
       "      <th>category_name</th>\n",
       "      <th>dislikes_ratio</th>\n",
       "    </tr>\n",
       "  </thead>\n",
       "  <tbody>\n",
       "    <tr>\n",
       "      <th>23</th>\n",
       "      <td>WSasKXK0nhI</td>\n",
       "      <td>17.14.11</td>\n",
       "      <td>(ьЌьИЕэДьЄ) ьДыЊ",
       "ыАьД ыЌИьЌьИ ьЁьы...</td>\n",
       "      <td>ьЄьАНьЄьЙМыМьИь TV</td>\n",
       "      <td>25</td>\n",
       "      <td>2017-11-13</td>\n",
       "      <td>ьЄьАНьЄ|\"ьЙМыМ\"|\"ьЄьЙМьИ\"|\"ьЄьАНьЄьЙМы...</td>\n",
       "      <td>56248</td>\n",
       "      <td>0</td>\n",
       "      <td>0</td>\n",
       "      <td>526</td>\n",
       "      <td>https://i.ytimg.com/vi/WSasKXK0nhI/default.jpg</td>\n",
       "      <td>False</td>\n",
       "      <td>True</td>\n",
       "      <td>ьДыЊ",
       "ыАьД ъАьЅь ъАьЇ ьъГ  ьДьыЈ...</td>\n",
       "      <td>News &amp; Politics</td>\n",
       "      <td>NaN</td>\n",
       "    </tr>\n",
       "    <tr>\n",
       "      <th>29</th>\n",
       "      <td>d5bsz2nJvrM</td>\n",
       "      <td>17.14.11</td>\n",
       "      <td>щЁНхМКчхАчхН! хЉДхПщ шЊхЗБхцАфЛхІ...</td>\n",
       "      <td>щОчфМ фКК</td>\n",
       "      <td>22</td>\n",
       "      <td>2017-11-12</td>\n",
       "      <td>[none]</td>\n",
       "      <td>8266</td>\n",
       "      <td>0</td>\n",
       "      <td>0</td>\n",
       "      <td>0</td>\n",
       "      <td>https://i.ytimg.com/vi/d5bsz2nJvrM/default.jpg</td>\n",
       "      <td>False</td>\n",
       "      <td>False</td>\n",
       "      <td>NaN</td>\n",
       "      <td>People &amp; Blogs</td>\n",
       "      <td>NaN</td>\n",
       "    </tr>\n",
       "    <tr>\n",
       "      <th>81</th>\n",
       "      <td>hhzDPJdt42k</td>\n",
       "      <td>17.14.11</td>\n",
       "      <td>ьы",
       "эьИь эЈыьыь",
       "ыыЄ.</td>\n",
       "      <td>эЈыьы</td>\n",
       "      <td>22</td>\n",
       "      <td>2017-11-13</td>\n",
       "      <td>[none]</td>\n",
       "      <td>28569</td>\n",
       "      <td>0</td>\n",
       "      <td>0</td>\n",
       "      <td>732</td>\n",
       "      <td>https://i.ytimg.com/vi/hhzDPJdt42k/default.jpg</td>\n",
       "      <td>False</td>\n",
       "      <td>True</td>\n",
       "      <td>ъЗИыь ыЊИьэъА ыЇьД ьЂьЇььь ...</td>\n",
       "      <td>People &amp; Blogs</td>\n",
       "      <td>NaN</td>\n",
       "    </tr>\n",
       "    <tr>\n",
       "      <th>112</th>\n",
       "      <td>4CWYylzQh7g</td>\n",
       "      <td>17.14.11</td>\n",
       "      <td>[хЕ/ьыМь] ьЗ ъГ ыЅДыЄъА ыЙЁьЙ ьЄы",
       "И...</td>\n",
       "      <td>17 6</td>\n",
       "      <td>22</td>\n",
       "      <td>2017-11-12</td>\n",
       "      <td>[none]</td>\n",
       "      <td>9763</td>\n",
       "      <td>0</td>\n",
       "      <td>0</td>\n",
       "      <td>9</td>\n",
       "      <td>https://i.ytimg.com/vi/4CWYylzQh7g/default.jpg</td>\n",
       "      <td>False</td>\n",
       "      <td>True</td>\n",
       "      <td>ьь / 141018 ьыМьыььМъАы \\nьЖь...</td>\n",
       "      <td>People &amp; Blogs</td>\n",
       "      <td>NaN</td>\n",
       "    </tr>\n",
       "    <tr>\n",
       "      <th>126</th>\n",
       "      <td>vxfDYCYvdMw</td>\n",
       "      <td>17.14.11</td>\n",
       "      <td>ыыьД ьэыъВ ьъИД ъЙьЂ",
       "э (ъЗь...</td>\n",
       "      <td>Da moon</td>\n",
       "      <td>22</td>\n",
       "      <td>2017-11-12</td>\n",
       "      <td>[none]</td>\n",
       "      <td>30848</td>\n",
       "      <td>0</td>\n",
       "      <td>0</td>\n",
       "      <td>65</td>\n",
       "      <td>https://i.ytimg.com/vi/vxfDYCYvdMw/default.jpg</td>\n",
       "      <td>False</td>\n",
       "      <td>True</td>\n",
       "      <td>ьВььДьМ ьэъБАтЁ ыЇэЌыГДьИь у",
       "у...</td>\n",
       "      <td>People &amp; Blogs</td>\n",
       "      <td>NaN</td>\n",
       "    </tr>\n",
       "    <tr>\n",
       "      <th>...</th>\n",
       "      <td>...</td>\n",
       "      <td>...</td>\n",
       "      <td>...</td>\n",
       "      <td>...</td>\n",
       "      <td>...</td>\n",
       "      <td>...</td>\n",
       "      <td>...</td>\n",
       "      <td>...</td>\n",
       "      <td>...</td>\n",
       "      <td>...</td>\n",
       "      <td>...</td>\n",
       "      <td>...</td>\n",
       "      <td>...</td>\n",
       "      <td>...</td>\n",
       "      <td>...</td>\n",
       "      <td>...</td>\n",
       "      <td>...</td>\n",
       "    </tr>\n",
       "    <tr>\n",
       "      <th>34417</th>\n",
       "      <td>nOUlB0i2MaA</td>\n",
       "      <td>18.14.06</td>\n",
       "      <td>2018 ъЕ­ыЏМь ь э - ь ъБАыАЉьЁ 'ьь ъ...</td>\n",
       "      <td>SBS ыДьЄ</td>\n",
       "      <td>25</td>\n",
       "      <td>2018-06-13</td>\n",
       "      <td>ыДьЄ|\"NEWS\"|\"news\"|\"SBS\"|\"sbs\"|\"SBS NEWS\"|\"S...</td>\n",
       "      <td>433188</td>\n",
       "      <td>0</td>\n",
       "      <td>0</td>\n",
       "      <td>175</td>\n",
       "      <td>https://i.ytimg.com/vi/nOUlB0i2MaA/default.jpg</td>\n",
       "      <td>False</td>\n",
       "      <td>True</td>\n",
       "      <td>'ь ъБАыАЉьЁь ыЊ",
       "ъА' SBSъА ьЈыЄ! SBSъА...</td>\n",
       "      <td>News &amp; Politics</td>\n",
       "      <td>NaN</td>\n",
       "    </tr>\n",
       "    <tr>\n",
       "      <th>34503</th>\n",
       "      <td>gmwir9WzIdg</td>\n",
       "      <td>18.14.06</td>\n",
       "      <td>эИыМэъА ыЌМыЌьАыЄ? ьыыЄ ьДъВы...</td>\n",
       "      <td>CFIPыДьЄ</td>\n",
       "      <td>25</td>\n",
       "      <td>2018-06-12</td>\n",
       "      <td>cfip|\"эъЕ­\"|\"ыЖэ\"|\"ыЏИъЕ­\"|\"ьЄъЕ­\"|\"ьМы...</td>\n",
       "      <td>40594</td>\n",
       "      <td>0</td>\n",
       "      <td>0</td>\n",
       "      <td>0</td>\n",
       "      <td>https://i.ytimg.com/vi/gmwir9WzIdg/default.jpg</td>\n",
       "      <td>True</td>\n",
       "      <td>True</td>\n",
       "      <td>эИыМэъА ьДыВ эыДьь ыыЌД ьыГД...</td>\n",
       "      <td>News &amp; Politics</td>\n",
       "      <td>NaN</td>\n",
       "    </tr>\n",
       "    <tr>\n",
       "      <th>34531</th>\n",
       "      <td>hWpPf2jKhh0</td>\n",
       "      <td>18.14.06</td>\n",
       "      <td>ъАыАЉ ьАыЄъГ  ьЙДыыЁ 500ыЇь ыьЖэ ...</td>\n",
       "      <td>эыы</td>\n",
       "      <td>24</td>\n",
       "      <td>2018-06-12</td>\n",
       "      <td>[none]</td>\n",
       "      <td>27327</td>\n",
       "      <td>0</td>\n",
       "      <td>0</td>\n",
       "      <td>31</td>\n",
       "      <td>https://i.ytimg.com/vi/hWpPf2jKhh0/default.jpg</td>\n",
       "      <td>False</td>\n",
       "      <td>True</td>\n",
       "      <td>NaN</td>\n",
       "      <td>Entertainment</td>\n",
       "      <td>NaN</td>\n",
       "    </tr>\n",
       "    <tr>\n",
       "      <th>34534</th>\n",
       "      <td>f-KTeeUQE3Q</td>\n",
       "      <td>18.14.06</td>\n",
       "      <td>(ъИДъИьЇыЈ) эИыМэ+ъЙь ььД ыЄ ыЇь...</td>\n",
       "      <td>ьЄьАНьЄьЙМыМьИь TV</td>\n",
       "      <td>25</td>\n",
       "      <td>2018-06-12</td>\n",
       "      <td>ьЄьАНьЄ|\"ьЙМыМ\"|\"ьЄьЙМьИ\"|\"ьЄьАНьЄьЙМы...</td>\n",
       "      <td>47086</td>\n",
       "      <td>0</td>\n",
       "      <td>0</td>\n",
       "      <td>601</td>\n",
       "      <td>https://i.ytimg.com/vi/f-KTeeUQE3Q/default.jpg</td>\n",
       "      <td>False</td>\n",
       "      <td>True</td>\n",
       "      <td>(ъИДъИьЇыЈ) эИыМэ+ъЙь ььД ыЄ ыЇь...</td>\n",
       "      <td>News &amp; Politics</td>\n",
       "      <td>NaN</td>\n",
       "    </tr>\n",
       "    <tr>\n",
       "      <th>34552</th>\n",
       "      <td>Rfa57NYWU-w</td>\n",
       "      <td>18.14.06</td>\n",
       "      <td>ьМыГИ 18ъИьЙДы  ьэыЇ ыЈЙыАЉ 18чІ уЋу...</td>\n",
       "      <td>[Dorothy]ыыЁь</td>\n",
       "      <td>22</td>\n",
       "      <td>2018-06-11</td>\n",
       "      <td>ыЈЙыАЉ|\"MUKBANG\"|\"ь ьЌ\"|\"ььЙЈ\"|\"ь ы",
       "\"|\"e...</td>\n",
       "      <td>285007</td>\n",
       "      <td>0</td>\n",
       "      <td>0</td>\n",
       "      <td>566</td>\n",
       "      <td>https://i.ytimg.com/vi/Rfa57NYWU-w/default.jpg</td>\n",
       "      <td>False</td>\n",
       "      <td>True</td>\n",
       "      <td>instagram - mgain83</td>\n",
       "      <td>People &amp; Blogs</td>\n",
       "      <td>NaN</td>\n",
       "    </tr>\n",
       "  </tbody>\n",
       "</table>\n",
       "<p>1402 rows × 17 columns</p>\n",
       "</div>"
      ],
      "text/plain": [
       "          video_id trending_date  \\\n",
       "23     WSasKXK0nhI      17.14.11   \n",
       "29     d5bsz2nJvrM      17.14.11   \n",
       "81     hhzDPJdt42k      17.14.11   \n",
       "112    4CWYylzQh7g      17.14.11   \n",
       "126    vxfDYCYvdMw      17.14.11   \n",
       "...            ...           ...   \n",
       "34417  nOUlB0i2MaA      18.14.06   \n",
       "34503  gmwir9WzIdg      18.14.06   \n",
       "34531  hWpPf2jKhh0      18.14.06   \n",
       "34534  f-KTeeUQE3Q      18.14.06   \n",
       "34552  Rfa57NYWU-w      18.14.06   \n",
       "\n",
       "                                                   title  \\\n",
       "23     (ьЌьИЕэДьЄ) ьДыЊ\n",
       "ыАьД ыЌИьЌьИ ьЁьы...   \n",
       "29     щЁНхМКчхАчхН! хЉДхПщ шЊхЗБхцАфЛхІ...   \n",
       "81                ьы\n",
       "эьИь эЈыьыь\n",
       "ыыЄ.   \n",
       "112    [хЕ/ьыМь] ьЗ ъГ ыЅДыЄъА ыЙЁьЙ ьЄы\n",
       "И...   \n",
       "126    ыыьД ьэыъВ ьъИД ъЙьЂ\n",
       "э (ъЗь...   \n",
       "...                                                  ...   \n",
       "34417  2018 ъЕ­ыЏМь ь э - ь ъБАыАЉьЁ 'ьь ъ...   \n",
       "34503  эИыМэъА ыЌМыЌьАыЄ? ьыыЄ ьДъВы...   \n",
       "34531  ъАыАЉ ьАыЄъГ  ьЙДыыЁ 500ыЇь ыьЖэ ...   \n",
       "34534  (ъИДъИьЇыЈ) эИыМэ+ъЙь ььД ыЄ ыЇь...   \n",
       "34552  ьМыГИ 18ъИьЙДы  ьэыЇ ыЈЙыАЉ 18чІ уЋу...   \n",
       "\n",
       "                  channel_title  category_id publish_time  \\\n",
       "23     ьЄьАНьЄьЙМыМьИь TV           25   2017-11-13   \n",
       "29                 щОчфМ фКК           22   2017-11-12   \n",
       "81                 эЈыьы           22   2017-11-13   \n",
       "112                        17 6           22   2017-11-12   \n",
       "126                     Da moon           22   2017-11-12   \n",
       "...                         ...          ...          ...   \n",
       "34417                SBS ыДьЄ           25   2018-06-13   \n",
       "34503                CFIPыДьЄ           25   2018-06-12   \n",
       "34531                 эыы           24   2018-06-12   \n",
       "34534  ьЄьАНьЄьЙМыМьИь TV           25   2018-06-12   \n",
       "34552        [Dorothy]ыыЁь           22   2018-06-11   \n",
       "\n",
       "                                                    tags   views  likes  \\\n",
       "23     ьЄьАНьЄ|\"ьЙМыМ\"|\"ьЄьЙМьИ\"|\"ьЄьАНьЄьЙМы...   56248      0   \n",
       "29                                                [none]    8266      0   \n",
       "81                                                [none]   28569      0   \n",
       "112                                               [none]    9763      0   \n",
       "126                                               [none]   30848      0   \n",
       "...                                                  ...     ...    ...   \n",
       "34417  ыДьЄ|\"NEWS\"|\"news\"|\"SBS\"|\"sbs\"|\"SBS NEWS\"|\"S...  433188      0   \n",
       "34503  cfip|\"эъЕ­\"|\"ыЖэ\"|\"ыЏИъЕ­\"|\"ьЄъЕ­\"|\"ьМы...   40594      0   \n",
       "34531                                             [none]   27327      0   \n",
       "34534  ьЄьАНьЄ|\"ьЙМыМ\"|\"ьЄьЙМьИ\"|\"ьЄьАНьЄьЙМы...   47086      0   \n",
       "34552  ыЈЙыАЉ|\"MUKBANG\"|\"ь ьЌ\"|\"ььЙЈ\"|\"ь ы\n",
       "\"|\"e...  285007      0   \n",
       "\n",
       "       dislikes  comment_count  \\\n",
       "23            0            526   \n",
       "29            0              0   \n",
       "81            0            732   \n",
       "112           0              9   \n",
       "126           0             65   \n",
       "...         ...            ...   \n",
       "34417         0            175   \n",
       "34503         0              0   \n",
       "34531         0             31   \n",
       "34534         0            601   \n",
       "34552         0            566   \n",
       "\n",
       "                                       thumbnail_link  comments_disabled  \\\n",
       "23     https://i.ytimg.com/vi/WSasKXK0nhI/default.jpg              False   \n",
       "29     https://i.ytimg.com/vi/d5bsz2nJvrM/default.jpg              False   \n",
       "81     https://i.ytimg.com/vi/hhzDPJdt42k/default.jpg              False   \n",
       "112    https://i.ytimg.com/vi/4CWYylzQh7g/default.jpg              False   \n",
       "126    https://i.ytimg.com/vi/vxfDYCYvdMw/default.jpg              False   \n",
       "...                                               ...                ...   \n",
       "34417  https://i.ytimg.com/vi/nOUlB0i2MaA/default.jpg              False   \n",
       "34503  https://i.ytimg.com/vi/gmwir9WzIdg/default.jpg               True   \n",
       "34531  https://i.ytimg.com/vi/hWpPf2jKhh0/default.jpg              False   \n",
       "34534  https://i.ytimg.com/vi/f-KTeeUQE3Q/default.jpg              False   \n",
       "34552  https://i.ytimg.com/vi/Rfa57NYWU-w/default.jpg              False   \n",
       "\n",
       "       ratings_disabled                                        description  \\\n",
       "23                 True  ьДыЊ\n",
       "ыАьД ъАьЅь ъАьЇ ьъГ  ьДьыЈ...   \n",
       "29                False                                                NaN   \n",
       "81                 True  ъЗИыь ыЊИьэъА ыЇьД ьЂьЇььь ...   \n",
       "112                True  ьь / 141018 ьыМьыььМъАы \\nьЖь...   \n",
       "126                True  ьВььДьМ ьэъБАтЁ ыЇэЌыГДьИь у\n",
       "у...   \n",
       "...                 ...                                                ...   \n",
       "34417              True  'ь ъБАыАЉьЁь ыЊ\n",
       "ъА' SBSъА ьЈыЄ! SBSъА...   \n",
       "34503              True  эИыМэъА ьДыВ эыДьь ыыЌД ьыГД...   \n",
       "34531              True                                                NaN   \n",
       "34534              True  (ъИДъИьЇыЈ) эИыМэ+ъЙь ььД ыЄ ыЇь...   \n",
       "34552              True                                instagram - mgain83   \n",
       "\n",
       "         category_name  dislikes_ratio  \n",
       "23     News & Politics             NaN  \n",
       "29      People & Blogs             NaN  \n",
       "81      People & Blogs             NaN  \n",
       "112     People & Blogs             NaN  \n",
       "126     People & Blogs             NaN  \n",
       "...                ...             ...  \n",
       "34417  News & Politics             NaN  \n",
       "34503  News & Politics             NaN  \n",
       "34531    Entertainment             NaN  \n",
       "34534  News & Politics             NaN  \n",
       "34552   People & Blogs             NaN  \n",
       "\n",
       "[1402 rows x 17 columns]"
      ]
     },
     "execution_count": 19,
     "metadata": {},
     "output_type": "execute_result"
    }
   ],
   "source": [
    "ca_videos['dislikes_ratio'] = ca_videos['dislikes']/(ca_videos['likes']+ ca_videos['dislikes'])\n",
    "ca_videos[ca_videos['dislikes_ratio'].apply(lambda x: pd.isna(x))]\n"
   ]
  },
  {
   "cell_type": "markdown",
   "metadata": {},
   "source": [
    "As expected, the dislikes ratio has null values, because some videos have 0 likes and dislikes. To correct this, we will replace all null values with the value zero."
   ]
  },
  {
   "cell_type": "code",
   "execution_count": 20,
   "metadata": {},
   "outputs": [],
   "source": [
    "ca_videos['dislikes_ratio'] = ca_videos['dislikes_ratio'].fillna(value = 0)"
   ]
  },
  {
   "cell_type": "markdown",
   "metadata": {},
   "source": [
    "## Comment Count Ratio"
   ]
  },
  {
   "cell_type": "code",
   "execution_count": 21,
   "metadata": {},
   "outputs": [],
   "source": [
    "ca_videos['comment_ratio'] = ca_videos['comment_count']/(ca_videos['comment_count']+ ca_videos['views'])\n"
   ]
  },
  {
   "cell_type": "markdown",
   "metadata": {},
   "source": [
    "## Most trending categories"
   ]
  },
  {
   "cell_type": "code",
   "execution_count": 22,
   "metadata": {},
   "outputs": [
    {
     "data": {
      "text/plain": [
       "[Text(0.5, 1.0, 'Most Trending Categories')]"
      ]
     },
     "execution_count": 22,
     "metadata": {},
     "output_type": "execute_result"
    },
    {
     "data": {
      "image/png": "[encoded data removed]",
      "text/plain": [
       "<Figure size 432x288 with 1 Axes>"
      ]
     },
     "metadata": {
      "needs_background": "light"
     },
     "output_type": "display_data"
    }
   ],
   "source": [
    "ax = sns.countplot(ca_videos[\"category_name\"], palette = \"rainbow\",\n",
    "                   order= ca_videos['category_name'].value_counts().index)\n",
    "ax.set(xlabel = \"Catgeory\", ylabel = \"Count\")\n",
    "plt.xticks(rotation = 90)\n",
    "ax.set(title = \"Most Trending Categories\")\n"
   ]
  },
  {
   "cell_type": "markdown",
   "metadata": {},
   "source": [
    "### Title Length"
   ]
  },
  {
   "cell_type": "code",
   "execution_count": 23,
   "metadata": {},
   "outputs": [
    {
     "data": {
      "text/plain": [
       "count    34526.000000\n",
       "mean        85.568991\n",
       "std         38.396227\n",
       "min          2.000000\n",
       "15%         49.000000\n",
       "30%         63.000000\n",
       "50%         80.000000\n",
       "65%         93.000000\n",
       "80%        113.000000\n",
       "95%        157.000000\n",
       "max        280.000000\n",
       "Name: title_length, dtype: float64"
      ]
     },
     "execution_count": 23,
     "metadata": {},
     "output_type": "execute_result"
    }
   ],
   "source": [
    "ca_videos['title_length'] = ca_videos.title.apply(lambda x: len(x))\n",
    "ca_videos['title_length'].describe(percentiles=[.15,.30,.5,.65,.80, .95])"
   ]
  },
  {
   "cell_type": "code",
   "execution_count": 24,
   "metadata": {},
   "outputs": [
    {
     "data": {
      "image/png": "[encoded data removed]",
      "text/plain": [
       "<Figure size 432x288 with 1 Axes>"
      ]
     },
     "metadata": {
      "needs_background": "light"
     },
     "output_type": "display_data"
    }
   ],
   "source": [
    "ax = sns.distplot(ca_videos.title_length, kde = False, color = 'midnightblue',\n",
    "                  hist_kws = {'alpha': 1})"
   ]
  },
  {
   "cell_type": "code",
   "execution_count": 25,
   "metadata": {},
   "outputs": [
    {
     "data": {
      "text/plain": [
       "(array([0.5, 1.5, 2.5, 3.5, 4.5, 5.5, 6.5, 7.5]),\n",
       " <a list of 8 Text xticklabel objects>)"
      ]
     },
     "execution_count": 25,
     "metadata": {},
     "output_type": "execute_result"
    },
    {
     "data": {
      "image/png": "[encoded data removed]",
      "text/plain": [
       "<Figure size 432x288 with 2 Axes>"
      ]
     },
     "metadata": {
      "needs_background": "light"
     },
     "output_type": "display_data"
    }
   ],
   "source": [
    "sns.heatmap(ca_videos.select_dtypes(include = ['number']).corr(method = 'pearson'), fmt='0.2f', cmap = 'Blues_r', annot=True)\n",
    "plt.title('Correlation Matrix of Numerical Values', fontsize=16)\n",
    "\n",
    "plt.yticks(fontsize=14, rotation=60)\n",
    "plt.xticks(fontsize=14, rotation = 60)"
   ]
  },
  {
   "cell_type": "code",
   "execution_count": null,
   "metadata": {},
   "outputs": [],
   "source": []
  },
  {
   "cell_type": "code",
   "execution_count": null,
   "metadata": {},
   "outputs": [],
   "source": []
  },
  {
   "cell_type": "code",
   "execution_count": null,
   "metadata": {},
   "outputs": [],
   "source": []
  }
 ],
 "metadata": {
  "kernelspec": {
   "display_name": "Python 3",
   "language": "python",
   "name": "python3"
  },
  "language_info": {
   "codemirror_mode": {
    "name": "ipython",
    "version": 3
   },
   "file_extension": ".py",
   "mimetype": "text/x-python",
   "name": "python",
   "nbconvert_exporter": "python",
   "pygments_lexer": "ipython3",
   "version": "3.7.6"
  }
 },
 "nbformat": 4,
 "nbformat_minor": 4
}
