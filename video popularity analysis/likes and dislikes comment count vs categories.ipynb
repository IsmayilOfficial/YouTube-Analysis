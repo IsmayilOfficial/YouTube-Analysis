{
 "cells": [
  {
   "cell_type": "code",
   "execution_count": 1,
   "metadata": {},
   "outputs": [
    {
     "data": {
      "text/html": [
       "<div>\n",
       "<style scoped>\n",
       "    .dataframe tbody tr th:only-of-type {\n",
       "        vertical-align: middle;\n",
       "    }\n",
       "\n",
       "    .dataframe tbody tr th {\n",
       "        vertical-align: top;\n",
       "    }\n",
       "\n",
       "    .dataframe thead th {\n",
       "        text-align: right;\n",
       "    }\n",
       "</style>\n",
       "<table border=\"1\" class=\"dataframe\">\n",
       "  <thead>\n",
       "    <tr style=\"text-align: right;\">\n",
       "      <th></th>\n",
       "      <th>video_id</th>\n",
       "      <th>trending_date</th>\n",
       "      <th>title</th>\n",
       "      <th>channel_title</th>\n",
       "      <th>category_id</th>\n",
       "      <th>publish_time</th>\n",
       "      <th>tags</th>\n",
       "      <th>views</th>\n",
       "      <th>likes</th>\n",
       "      <th>dislikes</th>\n",
       "      <th>comment_count</th>\n",
       "      <th>thumbnail_link</th>\n",
       "      <th>comments_disabled</th>\n",
       "      <th>ratings_disabled</th>\n",
       "      <th>video_error_or_removed</th>\n",
       "      <th>description</th>\n",
       "    </tr>\n",
       "  </thead>\n",
       "  <tbody>\n",
       "    <tr>\n",
       "      <th>0</th>\n",
       "      <td>5ugKfHgsmYw</td>\n",
       "      <td>18.07.02</td>\n",
       "      <td>щИшЊууЊухчДуЋшНфИяМшЗЏфИуЎшЛу...</td>\n",
       "      <td>цфКщфПЁц хуЛуГуПуМ</td>\n",
       "      <td>25</td>\n",
       "      <td>2018-02-06T03:04:37.000Z</td>\n",
       "      <td>фКц",
       "|\"фНшГ\"|\"фНшГч\"|\"ууЊуГууПу...</td>\n",
       "      <td>188085</td>\n",
       "      <td>591</td>\n",
       "      <td>189</td>\n",
       "      <td>0</td>\n",
       "      <td>https://i.ytimg.com/vi/5ugKfHgsmYw/default.jpg</td>\n",
       "      <td>True</td>\n",
       "      <td>False</td>\n",
       "      <td>False</td>\n",
       "      <td>фНшГччЅхМхИуЎцАхЎЖуЋхЂшНуущИф...</td>\n",
       "    </tr>\n",
       "    <tr>\n",
       "      <th>1</th>\n",
       "      <td>ohObafdd34Y</td>\n",
       "      <td>18.07.02</td>\n",
       "      <td>уЄууQ учЅ­учЗхЎЎхЗУцшЖ хЗЈхЄЇу...</td>\n",
       "      <td>чЅшАЗуууЊ Kamiya Erina 2</td>\n",
       "      <td>1</td>\n",
       "      <td>2018-02-06T04:01:56.000Z</td>\n",
       "      <td>[none]</td>\n",
       "      <td>90929</td>\n",
       "      <td>442</td>\n",
       "      <td>88</td>\n",
       "      <td>174</td>\n",
       "      <td>https://i.ytimg.com/vi/ohObafdd34Y/default.jpg</td>\n",
       "      <td>False</td>\n",
       "      <td>False</td>\n",
       "      <td>False</td>\n",
       "      <td>NaN</td>\n",
       "    </tr>\n",
       "    <tr>\n",
       "      <th>2</th>\n",
       "      <td>aBr2kKAHN6M</td>\n",
       "      <td>18.07.02</td>\n",
       "      <td>Live Views of Starman</td>\n",
       "      <td>SpaceX</td>\n",
       "      <td>28</td>\n",
       "      <td>2018-02-06T21:38:22.000Z</td>\n",
       "      <td>[none]</td>\n",
       "      <td>6408303</td>\n",
       "      <td>165892</td>\n",
       "      <td>2331</td>\n",
       "      <td>3006</td>\n",
       "      <td>https://i.ytimg.com/vi/aBr2kKAHN6M/default.jpg</td>\n",
       "      <td>False</td>\n",
       "      <td>False</td>\n",
       "      <td>False</td>\n",
       "      <td>NaN</td>\n",
       "    </tr>\n",
       "    <tr>\n",
       "      <th>3</th>\n",
       "      <td>5wNnwChvmsQ</td>\n",
       "      <td>18.07.02</td>\n",
       "      <td>цБфКЌууЃуКууМуЊуОуМууЎх",
       "у­уЃу...</td>\n",
       "      <td>уЂуЗуПууЏууЄ</td>\n",
       "      <td>25</td>\n",
       "      <td>2018-02-06T06:08:49.000Z</td>\n",
       "      <td>уЂуЗуПууЏууЄ</td>\n",
       "      <td>96255</td>\n",
       "      <td>1165</td>\n",
       "      <td>277</td>\n",
       "      <td>545</td>\n",
       "      <td>https://i.ytimg.com/vi/5wNnwChvmsQ/default.jpg</td>\n",
       "      <td>False</td>\n",
       "      <td>False</td>\n",
       "      <td>False</td>\n",
       "      <td>цБфКЌууЃуКууМуЊуОуМууЎх",
       "у­уЃу...</td>\n",
       "    </tr>\n",
       "    <tr>\n",
       "      <th>4</th>\n",
       "      <td>B7J47qFvdsk</td>\n",
       "      <td>18.07.02</td>\n",
       "      <td>цІЎххЅу",
       "ушЁцуЎц­Луу уЕуяМц ч...</td>\n",
       "      <td>уЗууууЅууЄ</td>\n",
       "      <td>1</td>\n",
       "      <td>2018-02-06T02:30:00.000Z</td>\n",
       "      <td>[none]</td>\n",
       "      <td>108408</td>\n",
       "      <td>1336</td>\n",
       "      <td>74</td>\n",
       "      <td>201</td>\n",
       "      <td>https://i.ytimg.com/vi/B7J47qFvdsk/default.jpg</td>\n",
       "      <td>False</td>\n",
       "      <td>False</td>\n",
       "      <td>False</td>\n",
       "      <td>хЎЖуЋхИАуЃуІуууЕуЉуЊуМууГуЎуу...</td>\n",
       "    </tr>\n",
       "  </tbody>\n",
       "</table>\n",
       "</div>"
      ],
      "text/plain": [
       "      video_id trending_date  \\\n",
       "0  5ugKfHgsmYw      18.07.02   \n",
       "1  ohObafdd34Y      18.07.02   \n",
       "2  aBr2kKAHN6M      18.07.02   \n",
       "3  5wNnwChvmsQ      18.07.02   \n",
       "4  B7J47qFvdsk      18.07.02   \n",
       "\n",
       "                                               title  \\\n",
       "0  щИшЊууЊухчДуЋшНфИяМшЗЏфИуЎшЛу...   \n",
       "1  уЄууQ учЅ­учЗхЎЎхЗУцшЖ хЗЈхЄЇу...   \n",
       "2                              Live Views of Starman   \n",
       "3  цБфКЌууЃуКууМуЊуОуМууЎх\n",
       "у­уЃу...   \n",
       "4  цІЎххЅу\n",
       "ушЁцуЎц­Луу уЕуяМц ч...   \n",
       "\n",
       "                    channel_title  category_id              publish_time  \\\n",
       "0  цфКщфПЁц хуЛуГуПуМ           25  2018-02-06T03:04:37.000Z   \n",
       "1  чЅшАЗуууЊ Kamiya Erina 2            1  2018-02-06T04:01:56.000Z   \n",
       "2                          SpaceX           28  2018-02-06T21:38:22.000Z   \n",
       "3           уЂуЗуПууЏууЄ           25  2018-02-06T06:08:49.000Z   \n",
       "4           уЗууууЅууЄ            1  2018-02-06T02:30:00.000Z   \n",
       "\n",
       "                                                tags    views   likes  \\\n",
       "0  фКц\n",
       "|\"фНшГ\"|\"фНшГч\"|\"ууЊуГууПу...   188085     591   \n",
       "1                                             [none]    90929     442   \n",
       "2                                             [none]  6408303  165892   \n",
       "3                              уЂуЗуПууЏууЄ    96255    1165   \n",
       "4                                             [none]   108408    1336   \n",
       "\n",
       "   dislikes  comment_count                                  thumbnail_link  \\\n",
       "0       189              0  https://i.ytimg.com/vi/5ugKfHgsmYw/default.jpg   \n",
       "1        88            174  https://i.ytimg.com/vi/ohObafdd34Y/default.jpg   \n",
       "2      2331           3006  https://i.ytimg.com/vi/aBr2kKAHN6M/default.jpg   \n",
       "3       277            545  https://i.ytimg.com/vi/5wNnwChvmsQ/default.jpg   \n",
       "4        74            201  https://i.ytimg.com/vi/B7J47qFvdsk/default.jpg   \n",
       "\n",
       "   comments_disabled  ratings_disabled  video_error_or_removed  \\\n",
       "0               True             False                   False   \n",
       "1              False             False                   False   \n",
       "2              False             False                   False   \n",
       "3              False             False                   False   \n",
       "4              False             False                   False   \n",
       "\n",
       "                                         description  \n",
       "0  фНшГччЅхМхИуЎцАхЎЖуЋхЂшНуущИф...  \n",
       "1                                                NaN  \n",
       "2                                                NaN  \n",
       "3  цБфКЌууЃуКууМуЊуОуМууЎх\n",
       "у­уЃу...  \n",
       "4  хЎЖуЋхИАуЃуІуууЕуЉуЊуМууГуЎуу...  "
      ]
     },
     "execution_count": 1,
     "metadata": {},
     "output_type": "execute_result"
    }
   ],
   "source": [
    "import numpy as np\n",
    "import seaborn as sns\n",
    "import matplotlib.pyplot as plt\n",
    "import pandas as pd\n",
    "import scipy\n",
    "import random\n",
    "from datetime import time\n",
    "%matplotlib inline\n",
    "\n",
    "random.seed(100)\n",
    "\n",
    "datadir = './data/'\n",
    "\n",
    "data_raw = pd.read_csv(datadir + 'JPvideos.csv',encoding='cyrillic')\n",
    "tidy = data_raw.copy(deep=True)\n",
    "data_raw.head(5)"
   ]
  },
  {
   "cell_type": "markdown",
   "metadata": {},
   "source": [
    "# Preprocessing"
   ]
  },
  {
   "cell_type": "markdown",
   "metadata": {},
   "source": [
    "Convert times to date"
   ]
  },
  {
   "cell_type": "code",
   "execution_count": 2,
   "metadata": {},
   "outputs": [],
   "source": [
    "tidy['publish_time'] = pd.to_datetime(tidy.publish_time)\n",
    "tidy['publish_date'] = pd.DatetimeIndex(tidy.publish_time).normalize()\n",
    "tidy['trending_date'] = '20' + tidy['trending_date'] \n",
    "tidy['trending_date'] = pd.to_datetime(tidy.trending_date, format='%Y.%d.%m')"
   ]
  },
  {
   "cell_type": "markdown",
   "metadata": {},
   "source": [
    "Convert the publish time to which day of the week it was published on"
   ]
  },
  {
   "cell_type": "code",
   "execution_count": 3,
   "metadata": {},
   "outputs": [],
   "source": [
    "weekday_labels = ['Monday', 'Tuesday', 'Wednesday', 'Thursday', 'Friday', 'Saturday', 'Sunday']\n",
    "tidy['published_weekday'] = tidy.publish_time.dt.dayofweek\n",
    "tidy['published_weekday'] = tidy['published_weekday'].apply(lambda x: weekday_labels[int(x)])"
   ]
  },
  {
   "cell_type": "markdown",
   "metadata": {},
   "source": [
    "Get the number of days between published and trending"
   ]
  },
  {
   "cell_type": "code",
   "execution_count": 4,
   "metadata": {},
   "outputs": [
    {
     "data": {
      "text/html": [
       "<div>\n",
       "<style scoped>\n",
       "    .dataframe tbody tr th:only-of-type {\n",
       "        vertical-align: middle;\n",
       "    }\n",
       "\n",
       "    .dataframe tbody tr th {\n",
       "        vertical-align: top;\n",
       "    }\n",
       "\n",
       "    .dataframe thead th {\n",
       "        text-align: right;\n",
       "    }\n",
       "</style>\n",
       "<table border=\"1\" class=\"dataframe\">\n",
       "  <thead>\n",
       "    <tr style=\"text-align: right;\">\n",
       "      <th></th>\n",
       "      <th>video_id</th>\n",
       "      <th>trending_date</th>\n",
       "      <th>title</th>\n",
       "      <th>channel_title</th>\n",
       "      <th>category_id</th>\n",
       "      <th>publish_time</th>\n",
       "      <th>tags</th>\n",
       "      <th>views</th>\n",
       "      <th>likes</th>\n",
       "      <th>dislikes</th>\n",
       "      <th>comment_count</th>\n",
       "      <th>thumbnail_link</th>\n",
       "      <th>comments_disabled</th>\n",
       "      <th>ratings_disabled</th>\n",
       "      <th>video_error_or_removed</th>\n",
       "      <th>description</th>\n",
       "      <th>publish_date</th>\n",
       "      <th>published_weekday</th>\n",
       "    </tr>\n",
       "  </thead>\n",
       "  <tbody>\n",
       "    <tr>\n",
       "      <th>0</th>\n",
       "      <td>5ugKfHgsmYw</td>\n",
       "      <td>2018-02-07</td>\n",
       "      <td>щИшЊууЊухчДуЋшНфИяМшЗЏфИуЎшЛу...</td>\n",
       "      <td>цфКщфПЁц хуЛуГуПуМ</td>\n",
       "      <td>25</td>\n",
       "      <td>2018-02-06 03:04:37+00:00</td>\n",
       "      <td>фКц",
       "|\"фНшГ\"|\"фНшГч\"|\"ууЊуГууПу...</td>\n",
       "      <td>188085</td>\n",
       "      <td>591</td>\n",
       "      <td>189</td>\n",
       "      <td>0</td>\n",
       "      <td>https://i.ytimg.com/vi/5ugKfHgsmYw/default.jpg</td>\n",
       "      <td>True</td>\n",
       "      <td>False</td>\n",
       "      <td>False</td>\n",
       "      <td>фНшГччЅхМхИуЎцАхЎЖуЋхЂшНуущИф...</td>\n",
       "      <td>2018-02-06 00:00:00+00:00</td>\n",
       "      <td>Tuesday</td>\n",
       "    </tr>\n",
       "    <tr>\n",
       "      <th>1</th>\n",
       "      <td>ohObafdd34Y</td>\n",
       "      <td>2018-02-07</td>\n",
       "      <td>уЄууQ учЅ­учЗхЎЎхЗУцшЖ хЗЈхЄЇу...</td>\n",
       "      <td>чЅшАЗуууЊ Kamiya Erina 2</td>\n",
       "      <td>1</td>\n",
       "      <td>2018-02-06 04:01:56+00:00</td>\n",
       "      <td>[none]</td>\n",
       "      <td>90929</td>\n",
       "      <td>442</td>\n",
       "      <td>88</td>\n",
       "      <td>174</td>\n",
       "      <td>https://i.ytimg.com/vi/ohObafdd34Y/default.jpg</td>\n",
       "      <td>False</td>\n",
       "      <td>False</td>\n",
       "      <td>False</td>\n",
       "      <td>NaN</td>\n",
       "      <td>2018-02-06 00:00:00+00:00</td>\n",
       "      <td>Tuesday</td>\n",
       "    </tr>\n",
       "    <tr>\n",
       "      <th>2</th>\n",
       "      <td>aBr2kKAHN6M</td>\n",
       "      <td>2018-02-07</td>\n",
       "      <td>Live Views of Starman</td>\n",
       "      <td>SpaceX</td>\n",
       "      <td>28</td>\n",
       "      <td>2018-02-06 21:38:22+00:00</td>\n",
       "      <td>[none]</td>\n",
       "      <td>6408303</td>\n",
       "      <td>165892</td>\n",
       "      <td>2331</td>\n",
       "      <td>3006</td>\n",
       "      <td>https://i.ytimg.com/vi/aBr2kKAHN6M/default.jpg</td>\n",
       "      <td>False</td>\n",
       "      <td>False</td>\n",
       "      <td>False</td>\n",
       "      <td>NaN</td>\n",
       "      <td>2018-02-06 00:00:00+00:00</td>\n",
       "      <td>Tuesday</td>\n",
       "    </tr>\n",
       "    <tr>\n",
       "      <th>3</th>\n",
       "      <td>5wNnwChvmsQ</td>\n",
       "      <td>2018-02-07</td>\n",
       "      <td>цБфКЌууЃуКууМуЊуОуМууЎх",
       "у­уЃу...</td>\n",
       "      <td>уЂуЗуПууЏууЄ</td>\n",
       "      <td>25</td>\n",
       "      <td>2018-02-06 06:08:49+00:00</td>\n",
       "      <td>уЂуЗуПууЏууЄ</td>\n",
       "      <td>96255</td>\n",
       "      <td>1165</td>\n",
       "      <td>277</td>\n",
       "      <td>545</td>\n",
       "      <td>https://i.ytimg.com/vi/5wNnwChvmsQ/default.jpg</td>\n",
       "      <td>False</td>\n",
       "      <td>False</td>\n",
       "      <td>False</td>\n",
       "      <td>цБфКЌууЃуКууМуЊуОуМууЎх",
       "у­уЃу...</td>\n",
       "      <td>2018-02-06 00:00:00+00:00</td>\n",
       "      <td>Tuesday</td>\n",
       "    </tr>\n",
       "    <tr>\n",
       "      <th>4</th>\n",
       "      <td>B7J47qFvdsk</td>\n",
       "      <td>2018-02-07</td>\n",
       "      <td>цІЎххЅу",
       "ушЁцуЎц­Луу уЕуяМц ч...</td>\n",
       "      <td>уЗууууЅууЄ</td>\n",
       "      <td>1</td>\n",
       "      <td>2018-02-06 02:30:00+00:00</td>\n",
       "      <td>[none]</td>\n",
       "      <td>108408</td>\n",
       "      <td>1336</td>\n",
       "      <td>74</td>\n",
       "      <td>201</td>\n",
       "      <td>https://i.ytimg.com/vi/B7J47qFvdsk/default.jpg</td>\n",
       "      <td>False</td>\n",
       "      <td>False</td>\n",
       "      <td>False</td>\n",
       "      <td>хЎЖуЋхИАуЃуІуууЕуЉуЊуМууГуЎуу...</td>\n",
       "      <td>2018-02-06 00:00:00+00:00</td>\n",
       "      <td>Tuesday</td>\n",
       "    </tr>\n",
       "  </tbody>\n",
       "</table>\n",
       "</div>"
      ],
      "text/plain": [
       "      video_id trending_date  \\\n",
       "0  5ugKfHgsmYw    2018-02-07   \n",
       "1  ohObafdd34Y    2018-02-07   \n",
       "2  aBr2kKAHN6M    2018-02-07   \n",
       "3  5wNnwChvmsQ    2018-02-07   \n",
       "4  B7J47qFvdsk    2018-02-07   \n",
       "\n",
       "                                               title  \\\n",
       "0  щИшЊууЊухчДуЋшНфИяМшЗЏфИуЎшЛу...   \n",
       "1  уЄууQ учЅ­учЗхЎЎхЗУцшЖ хЗЈхЄЇу...   \n",
       "2                              Live Views of Starman   \n",
       "3  цБфКЌууЃуКууМуЊуОуМууЎх\n",
       "у­уЃу...   \n",
       "4  цІЎххЅу\n",
       "ушЁцуЎц­Луу уЕуяМц ч...   \n",
       "\n",
       "                    channel_title  category_id              publish_time  \\\n",
       "0  цфКщфПЁц хуЛуГуПуМ           25 2018-02-06 03:04:37+00:00   \n",
       "1  чЅшАЗуууЊ Kamiya Erina 2            1 2018-02-06 04:01:56+00:00   \n",
       "2                          SpaceX           28 2018-02-06 21:38:22+00:00   \n",
       "3           уЂуЗуПууЏууЄ           25 2018-02-06 06:08:49+00:00   \n",
       "4           уЗууууЅууЄ            1 2018-02-06 02:30:00+00:00   \n",
       "\n",
       "                                                tags    views   likes  \\\n",
       "0  фКц\n",
       "|\"фНшГ\"|\"фНшГч\"|\"ууЊуГууПу...   188085     591   \n",
       "1                                             [none]    90929     442   \n",
       "2                                             [none]  6408303  165892   \n",
       "3                              уЂуЗуПууЏууЄ    96255    1165   \n",
       "4                                             [none]   108408    1336   \n",
       "\n",
       "   dislikes  comment_count                                  thumbnail_link  \\\n",
       "0       189              0  https://i.ytimg.com/vi/5ugKfHgsmYw/default.jpg   \n",
       "1        88            174  https://i.ytimg.com/vi/ohObafdd34Y/default.jpg   \n",
       "2      2331           3006  https://i.ytimg.com/vi/aBr2kKAHN6M/default.jpg   \n",
       "3       277            545  https://i.ytimg.com/vi/5wNnwChvmsQ/default.jpg   \n",
       "4        74            201  https://i.ytimg.com/vi/B7J47qFvdsk/default.jpg   \n",
       "\n",
       "   comments_disabled  ratings_disabled  video_error_or_removed  \\\n",
       "0               True             False                   False   \n",
       "1              False             False                   False   \n",
       "2              False             False                   False   \n",
       "3              False             False                   False   \n",
       "4              False             False                   False   \n",
       "\n",
       "                                         description  \\\n",
       "0  фНшГччЅхМхИуЎцАхЎЖуЋхЂшНуущИф...   \n",
       "1                                                NaN   \n",
       "2                                                NaN   \n",
       "3  цБфКЌууЃуКууМуЊуОуМууЎх\n",
       "у­уЃу...   \n",
       "4  хЎЖуЋхИАуЃуІуууЕуЉуЊуМууГуЎуу...   \n",
       "\n",
       "               publish_date published_weekday  \n",
       "0 2018-02-06 00:00:00+00:00           Tuesday  \n",
       "1 2018-02-06 00:00:00+00:00           Tuesday  \n",
       "2 2018-02-06 00:00:00+00:00           Tuesday  \n",
       "3 2018-02-06 00:00:00+00:00           Tuesday  \n",
       "4 2018-02-06 00:00:00+00:00           Tuesday  "
      ]
     },
     "execution_count": 4,
     "metadata": {},
     "output_type": "execute_result"
    }
   ],
   "source": [
    "tidy.head(5)"
   ]
  },
  {
   "cell_type": "markdown",
   "metadata": {},
   "source": [
    "### Convert the video category ids to actual readable text"
   ]
  },
  {
   "cell_type": "markdown",
   "metadata": {},
   "source": [
    "Our tidy data will be in a variable named tidy. We removed ratings, comments, thumbnail_link from out columns. After that, we will start  by binning the publish_time column into Late-night (12am-7am), morning(7am-11am), noon(11am-12pm), afternoon (12pm-7pm), Night(7pm-12am"
   ]
  },
  {
   "cell_type": "code",
   "execution_count": 5,
   "metadata": {},
   "outputs": [],
   "source": [
    "del tidy['ratings_disabled']\n",
    "del tidy['comments_disabled']\n",
    "del tidy['thumbnail_link']\n",
    "del tidy['video_error_or_removed']"
   ]
  },
  {
   "cell_type": "code",
   "execution_count": 6,
   "metadata": {},
   "outputs": [],
   "source": [
    "periods = {'12a-6a': [time(0), time(6)], '6a-12p': [time(6), time(12)], \n",
    "           '12p-6p': [time(12), time(18)],\n",
    "          '6p-12a': [time(18), time(23)]}"
   ]
  },
  {
   "cell_type": "code",
   "execution_count": 7,
   "metadata": {},
   "outputs": [],
   "source": [
    "def bin_values(x, labels=periods):\n",
    "    for k, v in labels.items():\n",
    "        if x.hour >= v[0].hour and x.hour < v[1].hour:\n",
    "            return k\n",
    "    return 'Unknown_period'\n",
    "            "
   ]
  },
  {
   "cell_type": "code",
   "execution_count": 8,
   "metadata": {},
   "outputs": [],
   "source": [
    "tidy['publish_time'] = tidy['publish_time'].apply(bin_values)"
   ]
  },
  {
   "cell_type": "markdown",
   "metadata": {},
   "source": [
    "We will update the video categories with their representative name"
   ]
  },
  {
   "cell_type": "code",
   "execution_count": 9,
   "metadata": {
    "scrolled": true
   },
   "outputs": [],
   "source": [
    "video_categories = pd.read_csv(datadir + 'youtube_video_categories.csv', names=['id', 'title'])"
   ]
  },
  {
   "cell_type": "code",
   "execution_count": 10,
   "metadata": {},
   "outputs": [
    {
     "data": {
      "text/html": [
       "<div>\n",
       "<style scoped>\n",
       "    .dataframe tbody tr th:only-of-type {\n",
       "        vertical-align: middle;\n",
       "    }\n",
       "\n",
       "    .dataframe tbody tr th {\n",
       "        vertical-align: top;\n",
       "    }\n",
       "\n",
       "    .dataframe thead th {\n",
       "        text-align: right;\n",
       "    }\n",
       "</style>\n",
       "<table border=\"1\" class=\"dataframe\">\n",
       "  <thead>\n",
       "    <tr style=\"text-align: right;\">\n",
       "      <th></th>\n",
       "      <th>id</th>\n",
       "      <th>title</th>\n",
       "    </tr>\n",
       "  </thead>\n",
       "  <tbody>\n",
       "    <tr>\n",
       "      <th>0</th>\n",
       "      <td>2</td>\n",
       "      <td>Autos &amp; Vehicles</td>\n",
       "    </tr>\n",
       "    <tr>\n",
       "      <th>1</th>\n",
       "      <td>1</td>\n",
       "      <td>Film &amp; Animation</td>\n",
       "    </tr>\n",
       "    <tr>\n",
       "      <th>2</th>\n",
       "      <td>10</td>\n",
       "      <td>Music</td>\n",
       "    </tr>\n",
       "    <tr>\n",
       "      <th>3</th>\n",
       "      <td>15</td>\n",
       "      <td>Pets &amp; Animals</td>\n",
       "    </tr>\n",
       "    <tr>\n",
       "      <th>4</th>\n",
       "      <td>17</td>\n",
       "      <td>Sports</td>\n",
       "    </tr>\n",
       "  </tbody>\n",
       "</table>\n",
       "</div>"
      ],
      "text/plain": [
       "   id              title\n",
       "0   2   Autos & Vehicles\n",
       "1   1   Film & Animation\n",
       "2  10              Music\n",
       "3  15     Pets & Animals\n",
       "4  17             Sports"
      ]
     },
     "execution_count": 10,
     "metadata": {},
     "output_type": "execute_result"
    }
   ],
   "source": [
    "video_categories.head()"
   ]
  },
  {
   "cell_type": "code",
   "execution_count": 11,
   "metadata": {},
   "outputs": [],
   "source": [
    "cat_values = []\n",
    "for index, video_id in enumerate(tidy['category_id']):\n",
    "    cat = video_categories[ video_categories['id'] == video_id]['title'].iloc[0]\n",
    "    cat_values.append(cat)\n",
    "\n",
    "tidy['category_names'] = pd.Series(cat_values, index=[i for i in range(0, len(tidy))])"
   ]
  },
  {
   "cell_type": "code",
   "execution_count": 12,
   "metadata": {},
   "outputs": [
    {
     "data": {
      "text/html": [
       "<div>\n",
       "<style scoped>\n",
       "    .dataframe tbody tr th:only-of-type {\n",
       "        vertical-align: middle;\n",
       "    }\n",
       "\n",
       "    .dataframe tbody tr th {\n",
       "        vertical-align: top;\n",
       "    }\n",
       "\n",
       "    .dataframe thead th {\n",
       "        text-align: right;\n",
       "    }\n",
       "</style>\n",
       "<table border=\"1\" class=\"dataframe\">\n",
       "  <thead>\n",
       "    <tr style=\"text-align: right;\">\n",
       "      <th></th>\n",
       "      <th>video_id</th>\n",
       "      <th>trending_date</th>\n",
       "      <th>title</th>\n",
       "      <th>channel_title</th>\n",
       "      <th>category_id</th>\n",
       "      <th>publish_time</th>\n",
       "      <th>tags</th>\n",
       "      <th>views</th>\n",
       "      <th>likes</th>\n",
       "      <th>dislikes</th>\n",
       "      <th>comment_count</th>\n",
       "      <th>description</th>\n",
       "      <th>publish_date</th>\n",
       "      <th>published_weekday</th>\n",
       "      <th>category_names</th>\n",
       "    </tr>\n",
       "  </thead>\n",
       "  <tbody>\n",
       "    <tr>\n",
       "      <th>0</th>\n",
       "      <td>5ugKfHgsmYw</td>\n",
       "      <td>2018-02-07</td>\n",
       "      <td>щИшЊууЊухчДуЋшНфИяМшЗЏфИуЎшЛу...</td>\n",
       "      <td>цфКщфПЁц хуЛуГуПуМ</td>\n",
       "      <td>25</td>\n",
       "      <td>12a-6a</td>\n",
       "      <td>фКц",
       "|\"фНшГ\"|\"фНшГч\"|\"ууЊуГууПу...</td>\n",
       "      <td>188085</td>\n",
       "      <td>591</td>\n",
       "      <td>189</td>\n",
       "      <td>0</td>\n",
       "      <td>фНшГччЅхМхИуЎцАхЎЖуЋхЂшНуущИф...</td>\n",
       "      <td>2018-02-06 00:00:00+00:00</td>\n",
       "      <td>Tuesday</td>\n",
       "      <td>News &amp; Politics</td>\n",
       "    </tr>\n",
       "    <tr>\n",
       "      <th>1</th>\n",
       "      <td>ohObafdd34Y</td>\n",
       "      <td>2018-02-07</td>\n",
       "      <td>уЄууQ учЅ­учЗхЎЎхЗУцшЖ хЗЈхЄЇу...</td>\n",
       "      <td>чЅшАЗуууЊ Kamiya Erina 2</td>\n",
       "      <td>1</td>\n",
       "      <td>12a-6a</td>\n",
       "      <td>[none]</td>\n",
       "      <td>90929</td>\n",
       "      <td>442</td>\n",
       "      <td>88</td>\n",
       "      <td>174</td>\n",
       "      <td>NaN</td>\n",
       "      <td>2018-02-06 00:00:00+00:00</td>\n",
       "      <td>Tuesday</td>\n",
       "      <td>Film &amp; Animation</td>\n",
       "    </tr>\n",
       "    <tr>\n",
       "      <th>2</th>\n",
       "      <td>aBr2kKAHN6M</td>\n",
       "      <td>2018-02-07</td>\n",
       "      <td>Live Views of Starman</td>\n",
       "      <td>SpaceX</td>\n",
       "      <td>28</td>\n",
       "      <td>6p-12a</td>\n",
       "      <td>[none]</td>\n",
       "      <td>6408303</td>\n",
       "      <td>165892</td>\n",
       "      <td>2331</td>\n",
       "      <td>3006</td>\n",
       "      <td>NaN</td>\n",
       "      <td>2018-02-06 00:00:00+00:00</td>\n",
       "      <td>Tuesday</td>\n",
       "      <td>Science &amp; Technology</td>\n",
       "    </tr>\n",
       "    <tr>\n",
       "      <th>3</th>\n",
       "      <td>5wNnwChvmsQ</td>\n",
       "      <td>2018-02-07</td>\n",
       "      <td>цБфКЌууЃуКууМуЊуОуМууЎх",
       "у­уЃу...</td>\n",
       "      <td>уЂуЗуПууЏууЄ</td>\n",
       "      <td>25</td>\n",
       "      <td>6a-12p</td>\n",
       "      <td>уЂуЗуПууЏууЄ</td>\n",
       "      <td>96255</td>\n",
       "      <td>1165</td>\n",
       "      <td>277</td>\n",
       "      <td>545</td>\n",
       "      <td>цБфКЌууЃуКууМуЊуОуМууЎх",
       "у­уЃу...</td>\n",
       "      <td>2018-02-06 00:00:00+00:00</td>\n",
       "      <td>Tuesday</td>\n",
       "      <td>News &amp; Politics</td>\n",
       "    </tr>\n",
       "    <tr>\n",
       "      <th>4</th>\n",
       "      <td>B7J47qFvdsk</td>\n",
       "      <td>2018-02-07</td>\n",
       "      <td>цІЎххЅу",
       "ушЁцуЎц­Луу уЕуяМц ч...</td>\n",
       "      <td>уЗууууЅууЄ</td>\n",
       "      <td>1</td>\n",
       "      <td>12a-6a</td>\n",
       "      <td>[none]</td>\n",
       "      <td>108408</td>\n",
       "      <td>1336</td>\n",
       "      <td>74</td>\n",
       "      <td>201</td>\n",
       "      <td>хЎЖуЋхИАуЃуІуууЕуЉуЊуМууГуЎуу...</td>\n",
       "      <td>2018-02-06 00:00:00+00:00</td>\n",
       "      <td>Tuesday</td>\n",
       "      <td>Film &amp; Animation</td>\n",
       "    </tr>\n",
       "  </tbody>\n",
       "</table>\n",
       "</div>"
      ],
      "text/plain": [
       "      video_id trending_date  \\\n",
       "0  5ugKfHgsmYw    2018-02-07   \n",
       "1  ohObafdd34Y    2018-02-07   \n",
       "2  aBr2kKAHN6M    2018-02-07   \n",
       "3  5wNnwChvmsQ    2018-02-07   \n",
       "4  B7J47qFvdsk    2018-02-07   \n",
       "\n",
       "                                               title  \\\n",
       "0  щИшЊууЊухчДуЋшНфИяМшЗЏфИуЎшЛу...   \n",
       "1  уЄууQ учЅ­учЗхЎЎхЗУцшЖ хЗЈхЄЇу...   \n",
       "2                              Live Views of Starman   \n",
       "3  цБфКЌууЃуКууМуЊуОуМууЎх\n",
       "у­уЃу...   \n",
       "4  цІЎххЅу\n",
       "ушЁцуЎц­Луу уЕуяМц ч...   \n",
       "\n",
       "                    channel_title  category_id publish_time  \\\n",
       "0  цфКщфПЁц хуЛуГуПуМ           25       12a-6a   \n",
       "1  чЅшАЗуууЊ Kamiya Erina 2            1       12a-6a   \n",
       "2                          SpaceX           28       6p-12a   \n",
       "3           уЂуЗуПууЏууЄ           25       6a-12p   \n",
       "4           уЗууууЅууЄ            1       12a-6a   \n",
       "\n",
       "                                                tags    views   likes  \\\n",
       "0  фКц\n",
       "|\"фНшГ\"|\"фНшГч\"|\"ууЊуГууПу...   188085     591   \n",
       "1                                             [none]    90929     442   \n",
       "2                                             [none]  6408303  165892   \n",
       "3                              уЂуЗуПууЏууЄ    96255    1165   \n",
       "4                                             [none]   108408    1336   \n",
       "\n",
       "   dislikes  comment_count                                        description  \\\n",
       "0       189              0  фНшГччЅхМхИуЎцАхЎЖуЋхЂшНуущИф...   \n",
       "1        88            174                                                NaN   \n",
       "2      2331           3006                                                NaN   \n",
       "3       277            545  цБфКЌууЃуКууМуЊуОуМууЎх\n",
       "у­уЃу...   \n",
       "4        74            201  хЎЖуЋхИАуЃуІуууЕуЉуЊуМууГуЎуу...   \n",
       "\n",
       "               publish_date published_weekday        category_names  \n",
       "0 2018-02-06 00:00:00+00:00           Tuesday       News & Politics  \n",
       "1 2018-02-06 00:00:00+00:00           Tuesday      Film & Animation  \n",
       "2 2018-02-06 00:00:00+00:00           Tuesday  Science & Technology  \n",
       "3 2018-02-06 00:00:00+00:00           Tuesday       News & Politics  \n",
       "4 2018-02-06 00:00:00+00:00           Tuesday      Film & Animation  "
      ]
     },
     "execution_count": 12,
     "metadata": {},
     "output_type": "execute_result"
    }
   ],
   "source": [
    "tidy.head()"
   ]
  },
  {
   "cell_type": "markdown",
   "metadata": {},
   "source": [
    "## Correlation Analysis"
   ]
  },
  {
   "cell_type": "markdown",
   "metadata": {},
   "source": [
    "Let's analyze the correlation between the variables"
   ]
  },
  {
   "cell_type": "code",
   "execution_count": 13,
   "metadata": {
    "scrolled": true
   },
   "outputs": [
    {
     "data": {
      "text/html": [
       "<div>\n",
       "<style scoped>\n",
       "    .dataframe tbody tr th:only-of-type {\n",
       "        vertical-align: middle;\n",
       "    }\n",
       "\n",
       "    .dataframe tbody tr th {\n",
       "        vertical-align: top;\n",
       "    }\n",
       "\n",
       "    .dataframe thead th {\n",
       "        text-align: right;\n",
       "    }\n",
       "</style>\n",
       "<table border=\"1\" class=\"dataframe\">\n",
       "  <thead>\n",
       "    <tr style=\"text-align: right;\">\n",
       "      <th></th>\n",
       "      <th>category_id</th>\n",
       "      <th>views</th>\n",
       "      <th>likes</th>\n",
       "      <th>dislikes</th>\n",
       "      <th>comment_count</th>\n",
       "    </tr>\n",
       "  </thead>\n",
       "  <tbody>\n",
       "    <tr>\n",
       "      <th>category_id</th>\n",
       "      <td>1.000000</td>\n",
       "      <td>-0.032998</td>\n",
       "      <td>-0.060024</td>\n",
       "      <td>-0.019799</td>\n",
       "      <td>-0.042557</td>\n",
       "    </tr>\n",
       "    <tr>\n",
       "      <th>views</th>\n",
       "      <td>-0.032998</td>\n",
       "      <td>1.000000</td>\n",
       "      <td>0.850367</td>\n",
       "      <td>0.804670</td>\n",
       "      <td>0.843851</td>\n",
       "    </tr>\n",
       "    <tr>\n",
       "      <th>likes</th>\n",
       "      <td>-0.060024</td>\n",
       "      <td>0.850367</td>\n",
       "      <td>1.000000</td>\n",
       "      <td>0.732570</td>\n",
       "      <td>0.940304</td>\n",
       "    </tr>\n",
       "    <tr>\n",
       "      <th>dislikes</th>\n",
       "      <td>-0.019799</td>\n",
       "      <td>0.804670</td>\n",
       "      <td>0.732570</td>\n",
       "      <td>1.000000</td>\n",
       "      <td>0.809898</td>\n",
       "    </tr>\n",
       "    <tr>\n",
       "      <th>comment_count</th>\n",
       "      <td>-0.042557</td>\n",
       "      <td>0.843851</td>\n",
       "      <td>0.940304</td>\n",
       "      <td>0.809898</td>\n",
       "      <td>1.000000</td>\n",
       "    </tr>\n",
       "  </tbody>\n",
       "</table>\n",
       "</div>"
      ],
      "text/plain": [
       "               category_id     views     likes  dislikes  comment_count\n",
       "category_id       1.000000 -0.032998 -0.060024 -0.019799      -0.042557\n",
       "views            -0.032998  1.000000  0.850367  0.804670       0.843851\n",
       "likes            -0.060024  0.850367  1.000000  0.732570       0.940304\n",
       "dislikes         -0.019799  0.804670  0.732570  1.000000       0.809898\n",
       "comment_count    -0.042557  0.843851  0.940304  0.809898       1.000000"
      ]
     },
     "execution_count": 13,
     "metadata": {},
     "output_type": "execute_result"
    }
   ],
   "source": [
    "tidy[['category_id', 'views', 'likes', 'dislikes', 'comment_count']].corr()"
   ]
  },
  {
   "cell_type": "markdown",
   "metadata": {},
   "source": [
    "We can see that there is high correlation between views, likes, dislikes, and comment_count. Same for the comment_count-views vs views-dislikes Let's apply a t-test and look at the p-values to check if these correlation values are meaningful."
   ]
  },
  {
   "cell_type": "code",
   "execution_count": 14,
   "metadata": {},
   "outputs": [
    {
     "name": "stdout",
     "output_type": "stream",
     "text": [
      "Ttest_indResult(statistic=28.85308910367379, pvalue=3.014869227126269e-181)\n",
      "Ttest_indResult(statistic=11.54468374976686, pvalue=8.762420781810224e-31)\n",
      "Ttest_indResult(statistic=-7.826834353220041, pvalue=5.1224267528864725e-15)\n",
      "Ttest_indResult(statistic=-28.03698947541739, pvalue=2.3890337288703493e-171)\n",
      "Ttest_indResult(statistic=-28.94668931536058, pvalue=2.120997328201443e-182)\n"
     ]
    }
   ],
   "source": [
    "print(scipy.stats.ttest_ind(tidy.views, tidy.comment_count))\n",
    "print(scipy.stats.ttest_ind(tidy.likes, tidy.comment_count))\n",
    "print(scipy.stats.ttest_ind(tidy.dislikes, tidy.comment_count))\n",
    "print(scipy.stats.ttest_ind(tidy.likes, tidy.views))\n",
    "print(scipy.stats.ttest_ind(tidy.dislikes, tidy.views))"
   ]
  },
  {
   "cell_type": "code",
   "execution_count": 15,
   "metadata": {},
   "outputs": [
    {
     "data": {
      "image/png": "[encoded data removed]",
      "text/plain": [
       "<Figure size 432x288 with 3 Axes>"
      ]
     },
     "metadata": {
      "needs_background": "light"
     },
     "output_type": "display_data"
    }
   ],
   "source": [
    "fig, ax = plt.subplots(1, 3)\n",
    "fig.tight_layout()\n",
    "plt.subplots_adjust(left=-0.4)\n",
    "lplot = sns.regplot(data=tidy, x='comment_count', y='likes', ax=ax[0])\n",
    "#lplot.set(xticks=[])\n",
    "lplot2 = sns.regplot(data=tidy, x='comment_count', y='dislikes', ax=ax[1])\n",
    "#lplot2.set(xticks=[])\n",
    "lplot3 = sns.regplot(data=tidy, x='comment_count', y='views', ax=ax[2])"
   ]
  },
  {
   "cell_type": "markdown",
   "metadata": {},
   "source": [
    "### Let's analyze the video categories"
   ]
  },
  {
   "cell_type": "code",
   "execution_count": 16,
   "metadata": {},
   "outputs": [
    {
     "data": {
      "text/plain": [
       "(array([ 0,  1,  2,  3,  4,  5,  6,  7,  8,  9, 10, 11, 12, 13, 14]),\n",
       " <a list of 15 Text xticklabel objects>)"
      ]
     },
     "execution_count": 16,
     "metadata": {},
     "output_type": "execute_result"
    },
    {
     "data": {
      "image/png": "[encoded data removed]",
      "text/plain": [
       "<Figure size 864x216 with 1 Axes>"
      ]
     },
     "metadata": {
      "needs_background": "light"
     },
     "output_type": "display_data"
    }
   ],
   "source": [
    "byviews = tidy.groupby('category_names').mean().reset_index().sort_values('views', ascending=False)\n",
    "plt.figure(figsize=(12, 3))\n",
    "sns.barplot(data=byviews, x='category_names', y='views', ci=None)\n",
    "plt.xticks(rotation=90)"
   ]
  },
  {
   "cell_type": "markdown",
   "metadata": {},
   "source": [
    "Seems like film & animation, music, and science and technology get the most views, while politics and news get the least. We can get the same plots for likes and dislikes for each category."
   ]
  },
  {
   "cell_type": "code",
   "execution_count": 17,
   "metadata": {},
   "outputs": [
    {
     "data": {
      "text/plain": [
       "(array([ 0,  1,  2,  3,  4,  5,  6,  7,  8,  9, 10, 11, 12, 13, 14]),\n",
       " <a list of 15 Text xticklabel objects>)"
      ]
     },
     "execution_count": 17,
     "metadata": {},
     "output_type": "execute_result"
    },
    {
     "data": {
      "image/png": "[encoded data removed]",
      "text/plain": [
       "<Figure size 432x288 with 1 Axes>"
      ]
     },
     "metadata": {
      "needs_background": "light"
     },
     "output_type": "display_data"
    }
   ],
   "source": [
    "sns.countplot(x='category_names', data=tidy)\n",
    "plt.xticks(rotation=90)"
   ]
  },
  {
   "cell_type": "code",
   "execution_count": null,
   "metadata": {},
   "outputs": [],
   "source": []
  },
  {
   "cell_type": "code",
   "execution_count": 18,
   "metadata": {},
   "outputs": [
    {
     "data": {
      "image/png": "[encoded data removed]",
      "text/plain": [
       "<Figure size 432x288 with 2 Axes>"
      ]
     },
     "metadata": {
      "needs_background": "light"
     },
     "output_type": "display_data"
    }
   ],
   "source": [
    "figs, ax = plt.subplots(1, 2)\n",
    "fig.tight_layout()\n",
    "plt.subplots_adjust(left=-0.9)\n",
    "\n",
    "\n",
    "bylikes = tidy.groupby('category_names').mean().reset_index().sort_values('likes', ascending=False)\n",
    "sns.barplot(data=bylikes, x='category_names', y='likes', ci=None, ax=ax[0])\n",
    "bydislikes = tidy.groupby('category_names').mean().reset_index().sort_values('dislikes', ascending=False)\n",
    "sns.barplot(data=bydislikes, x='category_names', y='dislikes', ci=None, ax=ax[1])\n",
    "\n",
    "for axes in figs.axes:\n",
    "    plt.sca(axes)\n",
    "    plt.xticks(rotation=90)"
   ]
  },
  {
   "cell_type": "markdown",
   "metadata": {},
   "source": [
    "We see that likes and dislikes are on par with each other. Let's see which categories get the most comments from viewers. This could give us insight into what category of videos the viewers like to show expression (by leaving comments)."
   ]
  },
  {
   "cell_type": "code",
   "execution_count": 19,
   "metadata": {},
   "outputs": [
    {
     "data": {
      "text/plain": [
       "(array([ 0,  1,  2,  3,  4,  5,  6,  7,  8,  9, 10, 11, 12, 13, 14]),\n",
       " <a list of 15 Text xticklabel objects>)"
      ]
     },
     "execution_count": 19,
     "metadata": {},
     "output_type": "execute_result"
    },
    {
     "data": {
      "image/png": "[encoded data removed]",
      "text/plain": [
       "<Figure size 1080x432 with 1 Axes>"
      ]
     },
     "metadata": {
      "needs_background": "light"
     },
     "output_type": "display_data"
    }
   ],
   "source": [
    "plt.figure(figsize=(15, 6))\n",
    "bycomment = tidy.groupby('category_names').mean().reset_index().sort_values('comment_count', ascending=False)\n",
    "sns.barplot(data=bycomment, x='category_names', y='comment_count', ci=None)\n",
    "plt.xticks(rotation=90)"
   ]
  },
  {
   "cell_type": "code",
   "execution_count": null,
   "metadata": {},
   "outputs": [],
   "source": []
  }
 ],
 "metadata": {
  "kernelspec": {
   "display_name": "Python 3",
   "language": "python",
   "name": "python3"
  },
  "language_info": {
   "codemirror_mode": {
    "name": "ipython",
    "version": 3
   },
   "file_extension": ".py",
   "mimetype": "text/x-python",
   "name": "python",
   "nbconvert_exporter": "python",
   "pygments_lexer": "ipython3",
   "version": "3.7.6"
  }
 },
 "nbformat": 4,
 "nbformat_minor": 2
}
