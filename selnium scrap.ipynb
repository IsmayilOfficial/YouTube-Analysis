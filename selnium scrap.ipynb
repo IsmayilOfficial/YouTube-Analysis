{
 "cells": [
  {
   "cell_type": "code",
   "execution_count": 20,
   "metadata": {},
   "outputs": [
    {
     "name": "stdout",
     "output_type": "stream",
     "text": [
      "Link to Youtube video: oydlWcycmLc\n",
      "Before reading the comments I was thinking to myself how confusing this video is. Glad to know that it wasn't just me\n",
      "Love your videos!  They're so helpful and well done! \n",
      "This video is helpful. I just wish she would've used a lighter fabric so I could clearly see what was going on at every step.\n",
      "I agree, the material was a bit dark, but it was definitely  not confusing. Very clear! Had to go back a few times but thank you very much for demonstrating!\n",
      "I'm glad I'm not the only one confused, and having a hard time seeing!\n",
      "Hi Michele! For some reason, I can't respond to your comment. I'm so sorry this video was confusing - I'd be happy to walk you through the steps or clarify any confusing parts. I apologize for the dark color - do you have the HD video setting turned on? Feel free to email me anytime at Sarah @ sewing parts online.com \n",
      "Can you do a video on how to increase in the hips.  I have a pear shape body and need a blouse 3 sizes bigger to accommodate my hips than I need in the bust.  I would be interested in alterations for decreasing bust and increasing hip section. Any help you can give would be very appreciated.  Thank you.\n",
      "What audience is this intended for?\n",
      "Hey there:)  Can gussets be added to any seam? On the dress\n",
      "I guess it's not as confusing to me because I have made gussets  before.   I did have to watch it a couple of times because of the dark fabric, tho.  Thank you for your videos.\n",
      "Aww - thank you for your very kind email.  I actually should have said how much I appreciate ALL your videos and the amount of info you so freely share!!  This one is tricky and sometimes I have to see something more than once to grasp it.  But its the ONLY video that was confusing to me.  Thanks for your kind words and offer of email help.  You are a gem. \n",
      "Sarah you usually do a fantastic job of explaining how to sew but this is the most I've been confused. The material is so dark and I can't really see what you are doing.  Can you redo for the extreme dummies? \n",
      "I agree with Michele - this video was totally confusing to me and perhaps, contributing to this was the dark color so hard to see.  I was completely and totally lost, and this is very  unusual when following your instructions. .  You are a great teacher. I do appreciate your videos, but was almost relieved to see someone else was confused.  . I'll try watching it again and se if I can catch on.  I also am an extreme dummy.  Just sayin'  \n"
     ]
    }
   ],
   "source": [
    "from selenium import webdriver\n",
    "import time\n",
    "import re\n",
    "import csv\n",
    "import string\n",
    "\n",
    "def isEnglish(s):\n",
    "    try:\n",
    "        s.encode('ascii')\n",
    "    except UnicodeEncodeError:\n",
    "        return False\n",
    "    else:\n",
    "        return True\n",
    "\n",
    "driver = webdriver.Chrome('C:\\webdrivers\\chromedriver')\n",
    "yt_link = input(\"Link to Youtube video: \")\n",
    "#print(\"-------------------------------------------------------------------------------------------------------------------\")\n",
    "#driver.get(yt_link)\n",
    "driver.get(\"https://www.youtube.com/watch?v=\"+yt_link)\n",
    "\n",
    "driver.maximize_window()\n",
    "time.sleep(5)\n",
    "title = driver.find_element_by_xpath('//*[@id=\"container\"]/h1/yt-formatted-string').text\n",
    "#print(\"Video Title: \" + title)\n",
    "#print(\"-------------------------------------------------------------------------------------------------------------------\")\n",
    "\n",
    "comment_section = driver.find_element_by_xpath('//*[@id=\"comments\"]')\n",
    "driver.execute_script(\"arguments[0].scrollIntoView();\", comment_section)\n",
    "time.sleep(7)\n",
    "\n",
    "last_height = driver.execute_script(\"return document.documentElement.scrollHeight\")\n",
    "while True:\n",
    "    # Scroll down to bottom\n",
    "    driver.execute_script(\"window.scrollTo(0, document.documentElement.scrollHeight);\")\n",
    "\n",
    "    # Wait to load page\n",
    "    time.sleep(2)\n",
    "\n",
    "    # Calculate new scroll height and compare with last scroll height\n",
    "    new_height = driver.execute_script(\"return document.documentElement.scrollHeight\")\n",
    "    if new_height == last_height:\n",
    "        break\n",
    "    last_height = new_height\n",
    "\n",
    "driver.execute_script(\"window.scrollTo(0, document.documentElement.scrollHeight);\")\n",
    "\n",
    "emoji_pattern = re.compile(\"[\"\n",
    "                           u\"\\U0001F600-\\U0001F64F\"  \n",
    "                           u\"\\U0001F300-\\U0001F5FF\"\n",
    "                           u\"\\U0001F680-\\U0001F6FF\"\n",
    "                           u\"\\U0001F1E0-\\U0001F1FF\"\n",
    "                           \"]+\", flags=re.UNICODE)\n",
    "\n",
    "name_elems=driver.find_elements_by_xpath('//*[@id=\"author-text\"]')\n",
    "comment_elems = driver.find_elements_by_xpath('//*[@id=\"content-text\"]')\n",
    "num_of_names = len(name_elems)\n",
    "for i in range(num_of_names):\n",
    "   # username = name_elems[i].text    # .replace(\",\", \"|\")\n",
    "    # username = emoji_pattern.sub(r'', username)\n",
    "    # username = str(username).replace(\"\\n\", \"---\")\n",
    "    comment = comment_elems[i].text    # .replace(\",\", \"|\")\n",
    "    # comment = emoji_pattern.sub(r'', comment)\n",
    "    # comment = str(comment).replace(\"\\n\", \"---\")\n",
    "    \n",
    "    #if isEnglish(comment) == False:\n",
    "     #   comment = \"NOT ENGLISH\"\n",
    "        \n",
    "    print(  comment) # comment.translate({ord(i):None for i in '' if i not in string.printable})\n",
    "\n",
    "driver.close()"
   ]
  },
  {
   "cell_type": "code",
   "execution_count": null,
   "metadata": {},
   "outputs": [],
   "source": []
  },
  {
   "cell_type": "code",
   "execution_count": null,
   "metadata": {},
   "outputs": [],
   "source": []
  }
 ],
 "metadata": {
  "celltoolbar": "Raw Cell Format",
  "kernelspec": {
   "display_name": "Python 3",
   "language": "python",
   "name": "python3"
  },
  "language_info": {
   "codemirror_mode": {
    "name": "ipython",
    "version": 3
   },
   "file_extension": ".py",
   "mimetype": "text/x-python",
   "name": "python",
   "nbconvert_exporter": "python",
   "pygments_lexer": "ipython3",
   "version": "3.7.4"
  }
 },
 "nbformat": 4,
 "nbformat_minor": 2
}
