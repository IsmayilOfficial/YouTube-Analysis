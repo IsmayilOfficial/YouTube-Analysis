{
 "cells": [
  {
   "cell_type": "code",
   "execution_count": 1,
   "metadata": {},
   "outputs": [],
   "source": [
    "import pandas as pd\n",
    "from selenium import webdriver \n",
    "from selenium.webdriver.common.by import By \n",
    "from selenium.webdriver.support.ui import WebDriverWait \n",
    "from selenium.webdriver.support import expected_conditions as EC"
   ]
  },
  {
   "cell_type": "code",
   "execution_count": 22,
   "metadata": {},
   "outputs": [],
   "source": [
    "driver = webdriver.Chrome() \n",
    "driver.get(\"https://www.youtube.com/results?search_query=travel+blogs\")"
   ]
  },
  {
   "cell_type": "code",
   "execution_count": null,
   "metadata": {},
   "outputs": [],
   "source": []
  },
  {
   "cell_type": "code",
   "execution_count": null,
   "metadata": {},
   "outputs": [],
   "source": []
  },
  {
   "cell_type": "code",
   "execution_count": null,
   "metadata": {},
   "outputs": [],
   "source": []
  },
  {
   "cell_type": "code",
   "execution_count": null,
   "metadata": {},
   "outputs": [],
   "source": []
  },
  {
   "cell_type": "code",
   "execution_count": null,
   "metadata": {},
   "outputs": [],
   "source": []
  },
  {
   "cell_type": "code",
   "execution_count": 23,
   "metadata": {},
   "outputs": [
    {
     "name": "stdout",
     "output_type": "stream",
     "text": [
      "584\n"
     ]
    }
   ],
   "source": [
    "user_data = driver.find_elements_by_xpath('//*[@id=\"video-title\"]')\n",
    "links = []\n",
    "for i in user_data:\n",
    "    links.append(i.get_attribute('href'))\n",
    "\n",
    "print(len(links))\n",
    "\n"
   ]
  },
  {
   "cell_type": "code",
   "execution_count": 25,
   "metadata": {},
   "outputs": [
    {
     "name": "stdout",
     "output_type": "stream",
     "text": [
      "471\n"
     ]
    }
   ],
   "source": [
    "Links= [] \n",
    "for val in links: \n",
    "    if val != None : \n",
    "        Links.append(val) \n",
    "print(len(Links))        "
   ]
  },
  {
   "cell_type": "code",
   "execution_count": 26,
   "metadata": {},
   "outputs": [],
   "source": [
    "df_travel = pd.DataFrame(columns = ['video_id', 'title', 'description', 'category'])\n",
    "df_science = pd.DataFrame(columns = ['video_id', 'title', 'description', 'category'])\n",
    "df_food = pd.DataFrame(columns = ['video_id', 'title', 'description', 'category'])\n",
    "df_manufacturing = pd.DataFrame(columns = ['video_id', 'title', 'description', 'category'])\n",
    "df_history = pd.DataFrame(columns = ['video_id', 'title', 'description', 'category'])\n",
    "df_music = pd.DataFrame(columns = ['video_id', 'title', 'description', 'category'])\n",
    "\n",
    "\n"
   ]
  },
  {
   "cell_type": "code",
   "execution_count": 34,
   "metadata": {},
   "outputs": [],
   "source": [
    "wait = WebDriverWait(driver, 1000)\n",
    "v_category = \"travel Blogs\"\n",
    "for x in Links:\n",
    "    driver.get(x)\n",
    "    v_id = x.strip('https://www.youtube.com/watch?v=')\n",
    "    v_title = wait.until(EC.presence_of_element_located((By.CSS_SELECTOR,\"h1.title yt-formatted-string\"))).text\n",
    "    v_description =  wait.until(EC.presence_of_element_located((By.CSS_SELECTOR,\"div#description yt-formatted-string\"))).text\n",
    "    df_travel.loc[len(df_travel)] = [v_id, v_title, v_description, v_category]"
   ]
  },
  {
   "cell_type": "code",
   "execution_count": 35,
   "metadata": {},
   "outputs": [
    {
     "data": {
      "text/html": [
       "<div>\n",
       "<style scoped>\n",
       "    .dataframe tbody tr th:only-of-type {\n",
       "        vertical-align: middle;\n",
       "    }\n",
       "\n",
       "    .dataframe tbody tr th {\n",
       "        vertical-align: top;\n",
       "    }\n",
       "\n",
       "    .dataframe thead th {\n",
       "        text-align: right;\n",
       "    }\n",
       "</style>\n",
       "<table border=\"1\" class=\"dataframe\">\n",
       "  <thead>\n",
       "    <tr style=\"text-align: right;\">\n",
       "      <th></th>\n",
       "      <th>video_id</th>\n",
       "      <th>title</th>\n",
       "      <th>description</th>\n",
       "      <th>category</th>\n",
       "    </tr>\n",
       "  </thead>\n",
       "  <tbody>\n",
       "    <tr>\n",
       "      <th>0</th>\n",
       "      <td>JLZlCZ0</td>\n",
       "      <td>Ep 1| Travelling through North East India | Of...</td>\n",
       "      <td>The journey to Arunachal, North East India beg...</td>\n",
       "      <td>travel Blogs</td>\n",
       "    </tr>\n",
       "    <tr>\n",
       "      <th>1</th>\n",
       "      <td>i9E_Blai8vk</td>\n",
       "      <td>Welcome to Bali | Travel Vlog | Priscilla Lee</td>\n",
       "      <td>I had the chance to fly out to Bali with my wh...</td>\n",
       "      <td>travel Blogs</td>\n",
       "    </tr>\n",
       "    <tr>\n",
       "      <th>2</th>\n",
       "      <td>n79Rv0F48</td>\n",
       "      <td>Backpacking In Meghalaya | NorthEast India Tri...</td>\n",
       "      <td>In this video I explored North East India, sta...</td>\n",
       "      <td>travel Blogs</td>\n",
       "    </tr>\n",
       "    <tr>\n",
       "      <th>3</th>\n",
       "      <td>i5F7Xh9CO8U</td>\n",
       "      <td>EXPLORING VARANASI | Benaras Travel Vlog #1</td>\n",
       "      <td>Spent an incredible week exploring the beautif...</td>\n",
       "      <td>travel Blogs</td>\n",
       "    </tr>\n",
       "    <tr>\n",
       "      <th>4</th>\n",
       "      <td>SL_YBLWdZb8</td>\n",
       "      <td>Welcome to Peru! | Best Essential Tips &amp; Trave...</td>\n",
       "      <td>Welcome to Peru! This essential travel guide w...</td>\n",
       "      <td>travel Blogs</td>\n",
       "    </tr>\n",
       "  </tbody>\n",
       "</table>\n",
       "</div>"
      ],
      "text/plain": [
       "      video_id                                              title  \\\n",
       "0      JLZlCZ0  Ep 1| Travelling through North East India | Of...   \n",
       "1  i9E_Blai8vk      Welcome to Bali | Travel Vlog | Priscilla Lee   \n",
       "2    n79Rv0F48  Backpacking In Meghalaya | NorthEast India Tri...   \n",
       "3  i5F7Xh9CO8U        EXPLORING VARANASI | Benaras Travel Vlog #1   \n",
       "4  SL_YBLWdZb8  Welcome to Peru! | Best Essential Tips & Trave...   \n",
       "\n",
       "                                         description      category  \n",
       "0  The journey to Arunachal, North East India beg...  travel Blogs  \n",
       "1  I had the chance to fly out to Bali with my wh...  travel Blogs  \n",
       "2  In this video I explored North East India, sta...  travel Blogs  \n",
       "3  Spent an incredible week exploring the beautif...  travel Blogs  \n",
       "4  Welcome to Peru! This essential travel guide w...  travel Blogs  "
      ]
     },
     "execution_count": 35,
     "metadata": {},
     "output_type": "execute_result"
    }
   ],
   "source": [
    "df_travel.head()"
   ]
  },
  {
   "cell_type": "code",
   "execution_count": 41,
   "metadata": {},
   "outputs": [],
   "source": [
    "driver=webdriver.Chrome()\n",
    "driver.get(\"https://www.youtube.com/results?search_query=science+and+technology\")"
   ]
  },
  {
   "cell_type": "code",
   "execution_count": 42,
   "metadata": {},
   "outputs": [
    {
     "name": "stdout",
     "output_type": "stream",
     "text": [
      "828\n"
     ]
    }
   ],
   "source": [
    "user_data1 = driver.find_elements_by_xpath('//*[@id=\"video-title\"]')\n",
    "links1 = []\n",
    "for i in user_data1:\n",
    "    links1.append(i.get_attribute('href'))\n",
    "Links1= [] \n",
    "for val in links1: \n",
    "    if val != None : \n",
    "        Links1.append(val) \n",
    "print(len(Links1))  \n",
    "\n"
   ]
  },
  {
   "cell_type": "code",
   "execution_count": 44,
   "metadata": {},
   "outputs": [],
   "source": [
    "wait = WebDriverWait(driver, 10)\n",
    "v_category = \"science and technology\"\n",
    "for x in Links1:\n",
    "    driver.get(x)\n",
    "    v_id = x.strip('https://www.youtube.com/watch?v=')\n",
    "    v_title = wait.until(EC.presence_of_element_located(\n",
    "                   (By.CSS_SELECTOR,\"h1.title yt-formatted-string\"))).text\n",
    "    v_description =  wait.until(EC.presence_of_element_located(\n",
    "                                 (By.CSS_SELECTOR,\"div#description yt-formatted-string\"))).text\n",
    "    df_science.loc[len(df_science)] = [v_id, v_title, v_description, v_category]"
   ]
  },
  {
   "cell_type": "code",
   "execution_count": 45,
   "metadata": {},
   "outputs": [
    {
     "data": {
      "text/html": [
       "<div>\n",
       "<style scoped>\n",
       "    .dataframe tbody tr th:only-of-type {\n",
       "        vertical-align: middle;\n",
       "    }\n",
       "\n",
       "    .dataframe tbody tr th {\n",
       "        vertical-align: top;\n",
       "    }\n",
       "\n",
       "    .dataframe thead th {\n",
       "        text-align: right;\n",
       "    }\n",
       "</style>\n",
       "<table border=\"1\" class=\"dataframe\">\n",
       "  <thead>\n",
       "    <tr style=\"text-align: right;\">\n",
       "      <th></th>\n",
       "      <th>video_id</th>\n",
       "      <th>title</th>\n",
       "      <th>description</th>\n",
       "      <th>category</th>\n",
       "    </tr>\n",
       "  </thead>\n",
       "  <tbody>\n",
       "    <tr>\n",
       "      <th>0</th>\n",
       "      <td>0DqpgV3w4</td>\n",
       "      <td>#SCIENCE &amp; TECHNOLOGY #CURRENT AFFAIRS 2019 (J...</td>\n",
       "      <td>SCIENCE &amp; TECHNOLOGY CURRENT AFFAIRS 2018 (JAN...</td>\n",
       "      <td>science and technology</td>\n",
       "    </tr>\n",
       "    <tr>\n",
       "      <th>1</th>\n",
       "      <td>f3NWvUV8MD8</td>\n",
       "      <td>Welcome To Future</td>\n",
       "      <td>Theories of technology often attempt to predic...</td>\n",
       "      <td>science and technology</td>\n",
       "    </tr>\n",
       "    <tr>\n",
       "      <th>2</th>\n",
       "      <td>2O5lIPJoTag</td>\n",
       "      <td>Top 3 New Technology Future Inventions Gadgets...</td>\n",
       "      <td>Top 3 New Technology Future Inventions Gadgets...</td>\n",
       "      <td>science and technology</td>\n",
       "    </tr>\n",
       "    <tr>\n",
       "      <th>3</th>\n",
       "      <td>BO5CchnV</td>\n",
       "      <td>Science and Technology | विज्ञानं एवं प्रोधोगि...</td>\n",
       "      <td>In this session in brief discussion on Science...</td>\n",
       "      <td>science and technology</td>\n",
       "    </tr>\n",
       "    <tr>\n",
       "      <th>4</th>\n",
       "      <td>D1qMoqS_TV</td>\n",
       "      <td>अंतरिक्ष प्रौद्‍योगिकी | Space Technology | Sp...</td>\n",
       "      <td>8AM- अंतरिक्ष प्रौद्‍योगिकी | Gen. Science |  ...</td>\n",
       "      <td>science and technology</td>\n",
       "    </tr>\n",
       "  </tbody>\n",
       "</table>\n",
       "</div>"
      ],
      "text/plain": [
       "      video_id                                              title  \\\n",
       "0    0DqpgV3w4  #SCIENCE & TECHNOLOGY #CURRENT AFFAIRS 2019 (J...   \n",
       "1  f3NWvUV8MD8                                  Welcome To Future   \n",
       "2  2O5lIPJoTag  Top 3 New Technology Future Inventions Gadgets...   \n",
       "3     BO5CchnV  Science and Technology | विज्ञानं एवं प्रोधोगि...   \n",
       "4   D1qMoqS_TV  अंतरिक्ष प्रौद्‍योगिकी | Space Technology | Sp...   \n",
       "\n",
       "                                         description                category  \n",
       "0  SCIENCE & TECHNOLOGY CURRENT AFFAIRS 2018 (JAN...  science and technology  \n",
       "1  Theories of technology often attempt to predic...  science and technology  \n",
       "2  Top 3 New Technology Future Inventions Gadgets...  science and technology  \n",
       "3  In this session in brief discussion on Science...  science and technology  \n",
       "4  8AM- अंतरिक्ष प्रौद्‍योगिकी | Gen. Science |  ...  science and technology  "
      ]
     },
     "execution_count": 45,
     "metadata": {},
     "output_type": "execute_result"
    }
   ],
   "source": [
    "df_science.head()"
   ]
  },
  {
   "cell_type": "code",
   "execution_count": 47,
   "metadata": {},
   "outputs": [],
   "source": [
    "driver=webdriver.Chrome()\n",
    "driver.get(\"https://www.youtube.com/results?search_query=food\")"
   ]
  },
  {
   "cell_type": "code",
   "execution_count": 49,
   "metadata": {},
   "outputs": [
    {
     "name": "stdout",
     "output_type": "stream",
     "text": [
      "405\n"
     ]
    }
   ],
   "source": [
    "user_data2 = driver.find_elements_by_xpath('//*[@id=\"video-title\"]')\n",
    "links2 = []\n",
    "for i in user_data2:\n",
    "    links2.append(i.get_attribute('href'))\n",
    "Links2= [] \n",
    "for val in links2: \n",
    "    if val != None : \n",
    "        Links2.append(val) \n",
    "print(len(Links2))"
   ]
  },
  {
   "cell_type": "code",
   "execution_count": 50,
   "metadata": {},
   "outputs": [],
   "source": [
    "wait = WebDriverWait(driver, 1000)\n",
    "v_category = \"food\"\n",
    "for x in Links2:\n",
    "    driver.get(x)\n",
    "    v_id = x.strip('https://www.youtube.com/watch?v=')\n",
    "    v_title = wait.until(EC.presence_of_element_located(\n",
    "                   (By.CSS_SELECTOR,\"h1.title yt-formatted-string\"))).text\n",
    "    v_description =  wait.until(EC.presence_of_element_located(\n",
    "                                 (By.CSS_SELECTOR,\"div#description yt-formatted-string\"))).text\n",
    "    df_food.loc[len(df_food)] = [v_id, v_title, v_description, v_category]"
   ]
  },
  {
   "cell_type": "code",
   "execution_count": 53,
   "metadata": {},
   "outputs": [
    {
     "data": {
      "text/html": [
       "<div>\n",
       "<style scoped>\n",
       "    .dataframe tbody tr th:only-of-type {\n",
       "        vertical-align: middle;\n",
       "    }\n",
       "\n",
       "    .dataframe tbody tr th {\n",
       "        vertical-align: top;\n",
       "    }\n",
       "\n",
       "    .dataframe thead th {\n",
       "        text-align: right;\n",
       "    }\n",
       "</style>\n",
       "<table border=\"1\" class=\"dataframe\">\n",
       "  <thead>\n",
       "    <tr style=\"text-align: right;\">\n",
       "      <th></th>\n",
       "      <th>video_id</th>\n",
       "      <th>title</th>\n",
       "      <th>description</th>\n",
       "      <th>category</th>\n",
       "    </tr>\n",
       "  </thead>\n",
       "  <tbody>\n",
       "    <tr>\n",
       "      <th>0</th>\n",
       "      <td>8yfkENiAXFM</td>\n",
       "      <td>Amazon Street Food in Belém - UNBELIEVABLE TAC...</td>\n",
       "      <td>🎥Unseen SUPERFOOD in Amazon Jungle: https://y...</td>\n",
       "      <td>food</td>\n",
       "    </tr>\n",
       "    <tr>\n",
       "      <th>1</th>\n",
       "      <td>0SPwwpruGIA</td>\n",
       "      <td>42 Foods You Need To Eat Before You Die | The ...</td>\n",
       "      <td>This is the ultimate must-try food bucket list...</td>\n",
       "      <td>food</td>\n",
       "    </tr>\n",
       "    <tr>\n",
       "      <th>2</th>\n",
       "      <td>FGe3KhkNx</td>\n",
       "      <td>Mouthwatering INDIAN STREET FOOD Breakfast Tou...</td>\n",
       "      <td>Subscribe to my channel ► http://bit.ly/DBH-SU...</td>\n",
       "      <td>food</td>\n",
       "    </tr>\n",
       "    <tr>\n",
       "      <th>3</th>\n",
       "      <td>Xj_j52QJTO4</td>\n",
       "      <td>VEG Street Food in Loafer's Lane with Veggiepa...</td>\n",
       "      <td>In the 3rd Episode of Bangalore Food Tour ( So...</td>\n",
       "      <td>food</td>\n",
       "    </tr>\n",
       "    <tr>\n",
       "      <th>4</th>\n",
       "      <td>XwHurP9RH-</td>\n",
       "      <td>42 Cheesy Foods You Need To Eat Before You Die...</td>\n",
       "      <td>From pizza pot pies to cheeseburger dumplings,...</td>\n",
       "      <td>food</td>\n",
       "    </tr>\n",
       "  </tbody>\n",
       "</table>\n",
       "</div>"
      ],
      "text/plain": [
       "      video_id                                              title  \\\n",
       "0  8yfkENiAXFM  Amazon Street Food in Belém - UNBELIEVABLE TAC...   \n",
       "1  0SPwwpruGIA  42 Foods You Need To Eat Before You Die | The ...   \n",
       "2    FGe3KhkNx  Mouthwatering INDIAN STREET FOOD Breakfast Tou...   \n",
       "3  Xj_j52QJTO4  VEG Street Food in Loafer's Lane with Veggiepa...   \n",
       "4   XwHurP9RH-  42 Cheesy Foods You Need To Eat Before You Die...   \n",
       "\n",
       "                                         description category  \n",
       "0  🎥Unseen SUPERFOOD in Amazon Jungle: https://y...     food  \n",
       "1  This is the ultimate must-try food bucket list...     food  \n",
       "2  Subscribe to my channel ► http://bit.ly/DBH-SU...     food  \n",
       "3  In the 3rd Episode of Bangalore Food Tour ( So...     food  \n",
       "4  From pizza pot pies to cheeseburger dumplings,...     food  "
      ]
     },
     "execution_count": 53,
     "metadata": {},
     "output_type": "execute_result"
    }
   ],
   "source": [
    "df_food.head()"
   ]
  },
  {
   "cell_type": "code",
   "execution_count": 54,
   "metadata": {},
   "outputs": [],
   "source": [
    "driver=webdriver.Chrome()\n",
    "driver.get(\"https://www.youtube.com/results?search_query=manufacturing\")"
   ]
  },
  {
   "cell_type": "code",
   "execution_count": 55,
   "metadata": {},
   "outputs": [],
   "source": [
    "user_data3 = driver.find_elements_by_xpath('//*[@id=\"video-title\"]')\n",
    "links3 = []\n",
    "for i in user_data3:\n",
    "    links3.append(i.get_attribute('href'))\n",
    "Links3= [] \n",
    "for val in links3: \n",
    "    if val != None : \n",
    "        Links3.append(val) \n"
   ]
  },
  {
   "cell_type": "code",
   "execution_count": 56,
   "metadata": {},
   "outputs": [
    {
     "data": {
      "text/plain": [
       "689"
      ]
     },
     "execution_count": 56,
     "metadata": {},
     "output_type": "execute_result"
    }
   ],
   "source": [
    "len(Links3)"
   ]
  },
  {
   "cell_type": "code",
   "execution_count": 57,
   "metadata": {},
   "outputs": [],
   "source": [
    "wait = WebDriverWait(driver, 100)\n",
    "v_category = \"manufacturing\"\n",
    "for x in Links3:\n",
    "    driver.get(x)\n",
    "    v_id = x.strip('https://www.youtube.com/watch?v=')\n",
    "    v_title = wait.until(EC.presence_of_element_located(\n",
    "                   (By.CSS_SELECTOR,\"h1.title yt-formatted-string\"))).text\n",
    "    v_description =  wait.until(EC.presence_of_element_located(\n",
    "                                 (By.CSS_SELECTOR,\"div#description yt-formatted-string\"))).text\n",
    "    df_manufacturing.loc[len(df_manufacturing)] = [v_id, v_title, v_description, v_category]"
   ]
  },
  {
   "cell_type": "code",
   "execution_count": 59,
   "metadata": {},
   "outputs": [],
   "source": [
    "driver=webdriver.Chrome()\n",
    "driver.get(\"https://www.youtube.com/results?search_query=history\")"
   ]
  },
  {
   "cell_type": "code",
   "execution_count": 60,
   "metadata": {},
   "outputs": [
    {
     "name": "stdout",
     "output_type": "stream",
     "text": [
      "465\n"
     ]
    }
   ],
   "source": [
    "user_data4 = driver.find_elements_by_xpath('//*[@id=\"video-title\"]')\n",
    "links4 = []\n",
    "for i in user_data4:\n",
    "    links4.append(i.get_attribute('href'))\n",
    "Links4= [] \n",
    "for val in links4: \n",
    "    if val != None : \n",
    "        Links4.append(val) \n",
    "print(len(Links4))        "
   ]
  },
  {
   "cell_type": "code",
   "execution_count": 62,
   "metadata": {},
   "outputs": [],
   "source": [
    "wait = WebDriverWait(driver, 10)\n",
    "v_category = \"history\"\n",
    "for x in Links4:\n",
    "    driver.get(x)\n",
    "    v_id = x.strip('https://www.youtube.com/watch?v=')\n",
    "    v_title = wait.until(EC.presence_of_element_located(\n",
    "                   (By.CSS_SELECTOR,\"h1.title yt-formatted-string\"))).text\n",
    "    v_description =  wait.until(EC.presence_of_element_located(\n",
    "                                 (By.CSS_SELECTOR,\"div#description yt-formatted-string\"))).text\n",
    "    df_history.loc[len(df_history)] = [v_id, v_title, v_description, v_category]"
   ]
  },
  {
   "cell_type": "code",
   "execution_count": 63,
   "metadata": {},
   "outputs": [],
   "source": [
    "driver=webdriver.Chrome()\n",
    "driver.get(\"https://www.youtube.com/results?search_query=art+music\")"
   ]
  },
  {
   "cell_type": "code",
   "execution_count": 64,
   "metadata": {},
   "outputs": [
    {
     "data": {
      "text/plain": [
       "471"
      ]
     },
     "execution_count": 64,
     "metadata": {},
     "output_type": "execute_result"
    }
   ],
   "source": [
    "user_data5 = driver.find_elements_by_xpath('//*[@id=\"video-title\"]')\n",
    "links5 = []\n",
    "for i in user_data5:\n",
    "    links5.append(i.get_attribute('href'))\n",
    "Links5= [] \n",
    "for val in links5: \n",
    "    if val != None : \n",
    "        Links5.append(val) \n",
    "len(Links5)        "
   ]
  },
  {
   "cell_type": "code",
   "execution_count": 66,
   "metadata": {},
   "outputs": [],
   "source": [
    "wait = WebDriverWait(driver, 10000)\n",
    "v_category = \"art and music\"\n",
    "for x in Links5:\n",
    "    driver.get(x)\n",
    "    v_id = x.strip('https://www.youtube.com/watch?v=')\n",
    "    v_title = wait.until(EC.presence_of_element_located(\n",
    "                   (By.CSS_SELECTOR,\"h1.title yt-formatted-string\"))).text\n",
    "    v_description =  wait.until(EC.presence_of_element_located(\n",
    "                                 (By.CSS_SELECTOR,\"div#description yt-formatted-string\"))).text\n",
    "    df_music.loc[len(df_music)] = [v_id, v_title, v_description, v_category]"
   ]
  },
  {
   "cell_type": "code",
   "execution_count": 67,
   "metadata": {},
   "outputs": [
    {
     "data": {
      "text/html": [
       "<div>\n",
       "<style scoped>\n",
       "    .dataframe tbody tr th:only-of-type {\n",
       "        vertical-align: middle;\n",
       "    }\n",
       "\n",
       "    .dataframe tbody tr th {\n",
       "        vertical-align: top;\n",
       "    }\n",
       "\n",
       "    .dataframe thead th {\n",
       "        text-align: right;\n",
       "    }\n",
       "</style>\n",
       "<table border=\"1\" class=\"dataframe\">\n",
       "  <thead>\n",
       "    <tr style=\"text-align: right;\">\n",
       "      <th></th>\n",
       "      <th>video_id</th>\n",
       "      <th>title</th>\n",
       "      <th>description</th>\n",
       "      <th>category</th>\n",
       "    </tr>\n",
       "  </thead>\n",
       "  <tbody>\n",
       "    <tr>\n",
       "      <th>466</th>\n",
       "      <td>0ofiQQ</td>\n",
       "      <td>babyfirsttv arty party rabbit</td>\n",
       "      <td></td>\n",
       "      <td>art and music</td>\n",
       "    </tr>\n",
       "    <tr>\n",
       "      <th>467</th>\n",
       "      <td>N7uDvI6YkEI</td>\n",
       "      <td>Baby first tv arty party sheep</td>\n",
       "      <td></td>\n",
       "      <td>art and music</td>\n",
       "    </tr>\n",
       "    <tr>\n",
       "      <th>468</th>\n",
       "      <td>VeuOWMkvs54</td>\n",
       "      <td>babyfirsttv arty party pig</td>\n",
       "      <td></td>\n",
       "      <td>art and music</td>\n",
       "    </tr>\n",
       "    <tr>\n",
       "      <th>469</th>\n",
       "      <td>TES09k0p6</td>\n",
       "      <td>Rapunzel, Sleeping Beauty &amp; More Bedtime Stori...</td>\n",
       "      <td>Subscribe to the BABYFIRSTTV Youtube Channel f...</td>\n",
       "      <td>art and music</td>\n",
       "    </tr>\n",
       "    <tr>\n",
       "      <th>470</th>\n",
       "      <td>Blz-npEbOHA</td>\n",
       "      <td>Gloria Estefan, 'N Sync - Music Of My Heart</td>\n",
       "      <td>Playlist Best of / Lo mejor de Gloria Estefan:...</td>\n",
       "      <td>art and music</td>\n",
       "    </tr>\n",
       "  </tbody>\n",
       "</table>\n",
       "</div>"
      ],
      "text/plain": [
       "        video_id                                              title  \\\n",
       "466       0ofiQQ                      babyfirsttv arty party rabbit   \n",
       "467  N7uDvI6YkEI                     Baby first tv arty party sheep   \n",
       "468  VeuOWMkvs54                         babyfirsttv arty party pig   \n",
       "469    TES09k0p6  Rapunzel, Sleeping Beauty & More Bedtime Stori...   \n",
       "470  Blz-npEbOHA        Gloria Estefan, 'N Sync - Music Of My Heart   \n",
       "\n",
       "                                           description       category  \n",
       "466                                                     art and music  \n",
       "467                                                     art and music  \n",
       "468                                                     art and music  \n",
       "469  Subscribe to the BABYFIRSTTV Youtube Channel f...  art and music  \n",
       "470  Playlist Best of / Lo mejor de Gloria Estefan:...  art and music  "
      ]
     },
     "execution_count": 67,
     "metadata": {},
     "output_type": "execute_result"
    }
   ],
   "source": [
    "df_music.tail()"
   ]
  },
  {
   "cell_type": "code",
   "execution_count": 69,
   "metadata": {},
   "outputs": [],
   "source": [
    "data_list = [df_travel, df_science, df_food, df_manufacturing, df_history, df_music]\n"
   ]
  },
  {
   "cell_type": "code",
   "execution_count": 70,
   "metadata": {},
   "outputs": [],
   "source": [
    "#all the dataframes are concatinated\n",
    "data= pd.concat(data_list, axis=0, join='outer', join_axes=None, ignore_index=True,\n",
    "                            keys=None, levels=None, names=None, verify_integrity=False, copy=True)"
   ]
  },
  {
   "cell_type": "code",
   "execution_count": 73,
   "metadata": {},
   "outputs": [
    {
     "data": {
      "text/html": [
       "<div>\n",
       "<style scoped>\n",
       "    .dataframe tbody tr th:only-of-type {\n",
       "        vertical-align: middle;\n",
       "    }\n",
       "\n",
       "    .dataframe tbody tr th {\n",
       "        vertical-align: top;\n",
       "    }\n",
       "\n",
       "    .dataframe thead th {\n",
       "        text-align: right;\n",
       "    }\n",
       "</style>\n",
       "<table border=\"1\" class=\"dataframe\">\n",
       "  <thead>\n",
       "    <tr style=\"text-align: right;\">\n",
       "      <th></th>\n",
       "      <th>video_id</th>\n",
       "      <th>title</th>\n",
       "      <th>description</th>\n",
       "      <th>category</th>\n",
       "    </tr>\n",
       "  </thead>\n",
       "  <tbody>\n",
       "    <tr>\n",
       "      <th>count</th>\n",
       "      <td>3329</td>\n",
       "      <td>3329</td>\n",
       "      <td>3329</td>\n",
       "      <td>3329</td>\n",
       "    </tr>\n",
       "    <tr>\n",
       "      <th>unique</th>\n",
       "      <td>3311</td>\n",
       "      <td>3292</td>\n",
       "      <td>3092</td>\n",
       "      <td>6</td>\n",
       "    </tr>\n",
       "    <tr>\n",
       "      <th>top</th>\n",
       "      <td>5LYl4DM5c4</td>\n",
       "      <td>Khandelwal College of Management Science and T...</td>\n",
       "      <td></td>\n",
       "      <td>science and technology</td>\n",
       "    </tr>\n",
       "    <tr>\n",
       "      <th>freq</th>\n",
       "      <td>2</td>\n",
       "      <td>3</td>\n",
       "      <td>159</td>\n",
       "      <td>828</td>\n",
       "    </tr>\n",
       "  </tbody>\n",
       "</table>\n",
       "</div>"
      ],
      "text/plain": [
       "          video_id                                              title  \\\n",
       "count         3329                                               3329   \n",
       "unique        3311                                               3292   \n",
       "top     5LYl4DM5c4  Khandelwal College of Management Science and T...   \n",
       "freq             2                                                  3   \n",
       "\n",
       "       description                category  \n",
       "count         3329                    3329  \n",
       "unique        3092                       6  \n",
       "top                 science and technology  \n",
       "freq           159                     828  "
      ]
     },
     "execution_count": 73,
     "metadata": {},
     "output_type": "execute_result"
    }
   ],
   "source": [
    "data.describe()\n",
    "\n"
   ]
  },
  {
   "cell_type": "code",
   "execution_count": 74,
   "metadata": {},
   "outputs": [],
   "source": [
    "df_title = pd.DataFrame(columns = [\"title\"])  \n",
    "df_video_id = pd.DataFrame(columns = [\"video_id\"])        \n",
    "df_description = pd.DataFrame(columns = [\"description\"])        \n",
    "df_category = pd.DataFrame(columns = [\"category\"])        \n",
    "df_video_id['video_id'] = data['video_id'] \n",
    "df_title ['title']= data['title'] \n",
    "df_description['description'] = data['description'] \n",
    "df_category['category'] = data['category']"
   ]
  },
  {
   "cell_type": "code",
   "execution_count": 75,
   "metadata": {},
   "outputs": [
    {
     "name": "stderr",
     "output_type": "stream",
     "text": [
      "[nltk_data] Downloading package stopwords to\n",
      "[nltk_data]     C:\\Users\\91901\\AppData\\Roaming\\nltk_data...\n",
      "[nltk_data]   Package stopwords is already up-to-date!\n"
     ]
    }
   ],
   "source": [
    "#data pre=processing\n",
    "import re \n",
    "import nltk \n",
    "nltk.download('stopwords') \n",
    "from nltk.corpus import stopwords \n",
    "from nltk.stem.porter import PorterStemmer"
   ]
  },
  {
   "cell_type": "code",
   "execution_count": 78,
   "metadata": {},
   "outputs": [],
   "source": [
    "#title is cleaned and stored in a new list\n",
    "cleaned_title = []        \n",
    "for i in range(0, 3329):  \n",
    "    review = re.sub('[^a-zA-Z]', ' ', df_title['title'][i])            \n",
    "    review = review.lower()            \n",
    "    review = review.split()            \n",
    "    ps = PorterStemmer()            \n",
    "    review = [ps.stem(word) for word in review if not word in set(stopwords.words('english'))]            \n",
    "    review = ' '.join(review)            \n",
    "    cleaned_title.append(review)"
   ]
  },
  {
   "cell_type": "code",
   "execution_count": 81,
   "metadata": {},
   "outputs": [],
   "source": [
    "cleaned_desc = [] \n",
    "for i in range(0, 3329): \n",
    "    review = re.sub('[^a-zA-Z]', ' ', df_description['description'][i])            \n",
    "    review = review.lower()            \n",
    "    review = review.split()            \n",
    "    ps = PorterStemmer()            \n",
    "    review = [ps.stem(word) for word in review if not word in set(stopwords.words('english'))]            \n",
    "    review = ' '.join(review)            \n",
    "    cleaned_desc.append(review)\n"
   ]
  },
  {
   "cell_type": "code",
   "execution_count": 82,
   "metadata": {},
   "outputs": [],
   "source": [
    "#list is cnverted to dataframes\n",
    "dftitle = pd.DataFrame({'title':cleaned_title})\n",
    "dfdescription = pd.DataFrame({'description':cleaned_desc})"
   ]
  },
  {
   "cell_type": "code",
   "execution_count": 83,
   "metadata": {},
   "outputs": [],
   "source": [
    "from sklearn.preprocessing import LabelEncoder\n",
    "dfcategory = df_category.apply(LabelEncoder().fit_transform)"
   ]
  },
  {
   "cell_type": "code",
   "execution_count": 85,
   "metadata": {},
   "outputs": [],
   "source": [
    "df_new = pd.concat([df_video_id, dftitle, dfdescription, dfcategory], axis=1, join_axes = [df_video_id.index])\n"
   ]
  },
  {
   "cell_type": "code",
   "execution_count": 141,
   "metadata": {},
   "outputs": [],
   "source": [
    "from sklearn.feature_extraction.text import CountVectorizer   \n",
    "cv = CountVectorizer(max_features = 6) \n",
    "X = cv.fit_transform(cleaned_title, cleaned_desc).toarray() \n",
    "y = df_new.iloc[:, 3].values"
   ]
  },
  {
   "cell_type": "code",
   "execution_count": 142,
   "metadata": {},
   "outputs": [
    {
     "data": {
      "text/plain": [
       "(3329L,)"
      ]
     },
     "execution_count": 142,
     "metadata": {},
     "output_type": "execute_result"
    }
   ],
   "source": [
    "y.shape"
   ]
  },
  {
   "cell_type": "code",
   "execution_count": 143,
   "metadata": {},
   "outputs": [],
   "source": [
    "#data is split into training(80%) and testing (20%)  sets\n",
    "from sklearn.model_selection import train_test_split\n",
    "X_train, X_test, y_train, y_test = train_test_split(X, y, test_size = 0.20, random_state = 0)"
   ]
  },
  {
   "cell_type": "code",
   "execution_count": 144,
   "metadata": {},
   "outputs": [],
   "source": [
    "#category1:Naive bayes classification algorithm\n"
   ]
  },
  {
   "cell_type": "code",
   "execution_count": 145,
   "metadata": {},
   "outputs": [
    {
     "name": "stdout",
     "output_type": "stream",
     "text": [
      "Accuracy of GNB classifier on training set: 0.78\n",
      "Accuracy of GNB classifier on test set: 0.78\n"
     ]
    }
   ],
   "source": [
    "from sklearn.naive_bayes import GaussianNB\n",
    "\n",
    "gnb = GaussianNB()\n",
    "gnb.fit(X_train, y_train)\n",
    "print('Accuracy of GNB classifier on training set: {:.2f}'\n",
    "     .format(gnb.score(X_train, y_train)))\n",
    "print('Accuracy of GNB classifier on test set: {:.2f}'\n",
    "     .format(gnb.score(X_test, y_test)))"
   ]
  },
  {
   "cell_type": "code",
   "execution_count": 146,
   "metadata": {},
   "outputs": [
    {
     "name": "stdout",
     "output_type": "stream",
     "text": [
      "              precision    recall  f1-score   support\n",
      "\n",
      "           0       0.00      0.00      0.00       103\n",
      "           1       1.00      0.95      0.98        83\n",
      "           2       0.99      0.92      0.95        83\n",
      "           3       1.00      0.84      0.91       126\n",
      "           4       0.98      0.93      0.96       184\n",
      "           5       0.38      1.00      0.55        87\n",
      "\n",
      "   micro avg       0.78      0.78      0.78       666\n",
      "   macro avg       0.72      0.77      0.72       666\n",
      "weighted avg       0.76      0.78      0.75       666\n",
      "\n"
     ]
    },
    {
     "name": "stderr",
     "output_type": "stream",
     "text": [
      "C:\\Users\\91901\\Anaconda2\\lib\\site-packages\\sklearn\\metrics\\classification.py:1143: UndefinedMetricWarning: Precision and F-score are ill-defined and being set to 0.0 in labels with no predicted samples.\n",
      "  'precision', 'predicted', average, warn_for)\n",
      "C:\\Users\\91901\\Anaconda2\\lib\\site-packages\\sklearn\\metrics\\classification.py:1143: UndefinedMetricWarning: Precision and F-score are ill-defined and being set to 0.0 in labels with no predicted samples.\n",
      "  'precision', 'predicted', average, warn_for)\n",
      "C:\\Users\\91901\\Anaconda2\\lib\\site-packages\\sklearn\\metrics\\classification.py:1143: UndefinedMetricWarning: Precision and F-score are ill-defined and being set to 0.0 in labels with no predicted samples.\n",
      "  'precision', 'predicted', average, warn_for)\n"
     ]
    }
   ],
   "source": [
    "#scores of naive bayes classication algorithm\n",
    "from sklearn.metrics import classification_report\n",
    "from sklearn.metrics import precision_recall_fscore_support\n",
    "\n",
    "y_pred = gnb.predict(X_test)\n",
    "gnb.score(X_test, y_test)\n",
    "\n",
    "print(classification_report(y_test, y_pred))\n"
   ]
  },
  {
   "cell_type": "code",
   "execution_count": null,
   "metadata": {},
   "outputs": [],
   "source": [
    "\n"
   ]
  },
  {
   "cell_type": "code",
   "execution_count": null,
   "metadata": {},
   "outputs": [],
   "source": []
  },
  {
   "cell_type": "code",
   "execution_count": null,
   "metadata": {},
   "outputs": [],
   "source": []
  },
  {
   "cell_type": "code",
   "execution_count": 113,
   "metadata": {},
   "outputs": [],
   "source": [
    "#category 2: Gradient Tree Boosting algorithm"
   ]
  },
  {
   "cell_type": "code",
   "execution_count": 147,
   "metadata": {},
   "outputs": [],
   "source": [
    "from sklearn.ensemble import GradientBoostingClassifier "
   ]
  },
  {
   "cell_type": "code",
   "execution_count": 148,
   "metadata": {},
   "outputs": [
    {
     "name": "stdout",
     "output_type": "stream",
     "text": [
      "Accuracy of GNB classifier on training set: 0.90\n",
      "Accuracy of GNB classifier on test set: 0.93\n"
     ]
    }
   ],
   "source": [
    "clf = GradientBoostingClassifier(n_estimators=100, learning_rate=1.0, max_depth=1)\n",
    "clf.fit(X_train, y_train)\n",
    "print('Accuracy of GNB classifier on training set: {:.2f}'\n",
    "     .format(clf.score(X_train, y_train)))\n",
    "print('Accuracy of GNB classifier on test set: {:.2f}'\n",
    "     .format(clf.score(X_test, y_test)))"
   ]
  },
  {
   "cell_type": "code",
   "execution_count": 149,
   "metadata": {
    "scrolled": true
   },
   "outputs": [
    {
     "name": "stdout",
     "output_type": "stream",
     "text": [
      "              precision    recall  f1-score   support\n",
      "\n",
      "           0       0.71      0.98      0.82       103\n",
      "           1       1.00      0.95      0.98        83\n",
      "           2       0.99      0.92      0.95        83\n",
      "           3       1.00      0.84      0.91       126\n",
      "           4       0.98      0.93      0.96       184\n",
      "           5       0.99      0.97      0.98        87\n",
      "\n",
      "   micro avg       0.93      0.93      0.93       666\n",
      "   macro avg       0.94      0.93      0.93       666\n",
      "weighted avg       0.95      0.93      0.93       666\n",
      "\n"
     ]
    }
   ],
   "source": [
    "#scores of gradient boosting algorithm\n",
    "from sklearn.metrics import classification_report\n",
    "from sklearn.metrics import precision_recall_fscore_support\n",
    "\n",
    "y_pred = clf.predict(X_test)\n",
    "clf.score(X_test, y_test)\n",
    "print(classification_report(y_test, y_pred))"
   ]
  },
  {
   "cell_type": "code",
   "execution_count": 117,
   "metadata": {},
   "outputs": [],
   "source": [
    "#data exported to excel file\n",
    "from pandas import ExcelWriter\n",
    "\n",
    "writer = ExcelWriter('travel_blog.xlsx')\n",
    "df_new.to_excel(writer,'Youtube_video')\n",
    "writer.save()"
   ]
  },
  {
   "cell_type": "code",
   "execution_count": 150,
   "metadata": {},
   "outputs": [],
   "source": [
    "#category 3 :Lstm model on next jupyter notebook named Youtube_lstm_code\n"
   ]
  },
  {
   "cell_type": "code",
   "execution_count": null,
   "metadata": {},
   "outputs": [],
   "source": []
  },
  {
   "cell_type": "code",
   "execution_count": null,
   "metadata": {},
   "outputs": [],
   "source": []
  },
  {
   "cell_type": "code",
   "execution_count": null,
   "metadata": {},
   "outputs": [],
   "source": []
  }
 ],
 "metadata": {
  "kernelspec": {
   "display_name": "Python 2",
   "language": "python",
   "name": "python2"
  },
  "language_info": {
   "codemirror_mode": {
    "name": "ipython",
    "version": 2
   },
   "file_extension": ".py",
   "mimetype": "text/x-python",
   "name": "python",
   "nbconvert_exporter": "python",
   "pygments_lexer": "ipython2",
   "version": "2.7.16"
  }
 },
 "nbformat": 4,
 "nbformat_minor": 2
}
