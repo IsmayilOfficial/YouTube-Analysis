{
 "cells": [
  {
   "cell_type": "code",
   "execution_count": 1,
   "metadata": {},
   "outputs": [],
   "source": [
    "import pandas as pd\n",
    "from selenium import webdriver \n",
    "from selenium.webdriver.common.by import By \n",
    "from selenium.webdriver.support.ui import WebDriverWait \n",
    "from selenium.webdriver.support import expected_conditions as EC"
   ]
  },
  {
   "cell_type": "code",
   "execution_count": 2,
   "metadata": {},
   "outputs": [],
   "source": [
    "driver = webdriver.Chrome() \n",
    "driver.get(\"https://www.youtube.com/results?search_query=travel+blogs\")"
   ]
  },
  {
   "cell_type": "code",
   "execution_count": null,
   "metadata": {},
   "outputs": [],
   "source": []
  },
  {
   "cell_type": "code",
   "execution_count": null,
   "metadata": {},
   "outputs": [],
   "source": []
  },
  {
   "cell_type": "code",
   "execution_count": null,
   "metadata": {},
   "outputs": [],
   "source": []
  },
  {
   "cell_type": "code",
   "execution_count": null,
   "metadata": {},
   "outputs": [],
   "source": []
  },
  {
   "cell_type": "code",
   "execution_count": null,
   "metadata": {},
   "outputs": [],
   "source": []
  },
  {
   "cell_type": "code",
   "execution_count": 3,
   "metadata": {},
   "outputs": [
    {
     "name": "stdout",
     "output_type": "stream",
     "text": [
      "20\n"
     ]
    }
   ],
   "source": [
    "user_data = driver.find_elements_by_xpath('//*[@id=\"video-title\"]')\n",
    "links = []\n",
    "for i in user_data:\n",
    "    links.append(i.get_attribute('href'))\n",
    "\n",
    "print(len(links))\n",
    "\n"
   ]
  },
  {
   "cell_type": "code",
   "execution_count": 4,
   "metadata": {},
   "outputs": [
    {
     "name": "stdout",
     "output_type": "stream",
     "text": [
      "20\n"
     ]
    }
   ],
   "source": [
    "Links= [] \n",
    "for val in links: \n",
    "    if val != None : \n",
    "        Links.append(val) \n",
    "print(len(Links))        "
   ]
  },
  {
   "cell_type": "code",
   "execution_count": 5,
   "metadata": {},
   "outputs": [],
   "source": [
    "df_travel = pd.DataFrame(columns = ['video_id', 'title', 'description', 'category'])\n",
    "df_science = pd.DataFrame(columns = ['video_id', 'title', 'description', 'category'])\n",
    "df_food = pd.DataFrame(columns = ['video_id', 'title', 'description', 'category'])\n",
    "df_manufacturing = pd.DataFrame(columns = ['video_id', 'title', 'description', 'category'])\n",
    "df_history = pd.DataFrame(columns = ['video_id', 'title', 'description', 'category'])\n",
    "df_music = pd.DataFrame(columns = ['video_id', 'title', 'description', 'category'])\n",
    "\n",
    "\n"
   ]
  },
  {
   "cell_type": "code",
   "execution_count": 6,
   "metadata": {},
   "outputs": [],
   "source": [
    "wait = WebDriverWait(driver, 1000)\n",
    "v_category = \"travel Blogs\"\n",
    "for x in Links:\n",
    "    driver.get(x)\n",
    "    v_id = x.strip('https://www.youtube.com/watch?v=')\n",
    "    v_title = wait.until(EC.presence_of_element_located((By.CSS_SELECTOR,\"h1.title yt-formatted-string\"))).text\n",
    "    v_description =  wait.until(EC.presence_of_element_located((By.CSS_SELECTOR,\"div#description yt-formatted-string\"))).text\n",
    "    df_travel.loc[len(df_travel)] = [v_id, v_title, v_description, v_category]"
   ]
  },
  {
   "cell_type": "code",
   "execution_count": 7,
   "metadata": {},
   "outputs": [
    {
     "data": {
      "text/html": [
       "<div>\n",
       "<style scoped>\n",
       "    .dataframe tbody tr th:only-of-type {\n",
       "        vertical-align: middle;\n",
       "    }\n",
       "\n",
       "    .dataframe tbody tr th {\n",
       "        vertical-align: top;\n",
       "    }\n",
       "\n",
       "    .dataframe thead th {\n",
       "        text-align: right;\n",
       "    }\n",
       "</style>\n",
       "<table border=\"1\" class=\"dataframe\">\n",
       "  <thead>\n",
       "    <tr style=\"text-align: right;\">\n",
       "      <th></th>\n",
       "      <th>video_id</th>\n",
       "      <th>title</th>\n",
       "      <th>description</th>\n",
       "      <th>category</th>\n",
       "    </tr>\n",
       "  </thead>\n",
       "  <tbody>\n",
       "    <tr>\n",
       "      <th>0</th>\n",
       "      <td>i9E_Blai8vk</td>\n",
       "      <td>Welcome to Bali | Travel Vlog | Priscilla Lee</td>\n",
       "      <td>I had the chance to fly out to Bali with my wh...</td>\n",
       "      <td>travel Blogs</td>\n",
       "    </tr>\n",
       "    <tr>\n",
       "      <th>1</th>\n",
       "      <td>EthqIhPtd2I</td>\n",
       "      <td></td>\n",
       "      <td>Thank you so much for watching! I hope you fou...</td>\n",
       "      <td>travel Blogs</td>\n",
       "    </tr>\n",
       "    <tr>\n",
       "      <th>2</th>\n",
       "      <td>RcmrbNRK-jY</td>\n",
       "      <td></td>\n",
       "      <td>My wife and I traveled to 17 countries in 200 ...</td>\n",
       "      <td>travel Blogs</td>\n",
       "    </tr>\n",
       "    <tr>\n",
       "      <th>3</th>\n",
       "      <td>942sCY6d7kU</td>\n",
       "      <td></td>\n",
       "      <td>Hello, and welcome to TopX, where we count dow...</td>\n",
       "      <td>travel Blogs</td>\n",
       "    </tr>\n",
       "    <tr>\n",
       "      <th>4</th>\n",
       "      <td>kiNyRY5s7n8</td>\n",
       "      <td></td>\n",
       "      <td>Create a Travel Blog Website for Just $3.95 + ...</td>\n",
       "      <td>travel Blogs</td>\n",
       "    </tr>\n",
       "  </tbody>\n",
       "</table>\n",
       "</div>"
      ],
      "text/plain": [
       "      video_id                                          title  \\\n",
       "0  i9E_Blai8vk  Welcome to Bali | Travel Vlog | Priscilla Lee   \n",
       "1  EthqIhPtd2I                                                  \n",
       "2  RcmrbNRK-jY                                                  \n",
       "3  942sCY6d7kU                                                  \n",
       "4  kiNyRY5s7n8                                                  \n",
       "\n",
       "                                         description      category  \n",
       "0  I had the chance to fly out to Bali with my wh...  travel Blogs  \n",
       "1  Thank you so much for watching! I hope you fou...  travel Blogs  \n",
       "2  My wife and I traveled to 17 countries in 200 ...  travel Blogs  \n",
       "3  Hello, and welcome to TopX, where we count dow...  travel Blogs  \n",
       "4  Create a Travel Blog Website for Just $3.95 + ...  travel Blogs  "
      ]
     },
     "execution_count": 7,
     "metadata": {},
     "output_type": "execute_result"
    }
   ],
   "source": [
    "df_travel.head()"
   ]
  },
  {
   "cell_type": "code",
   "execution_count": 8,
   "metadata": {},
   "outputs": [],
   "source": [
    "driver=webdriver.Chrome()\n",
    "driver.get(\"https://www.youtube.com/results?search_query=science+and+technology\")"
   ]
  },
  {
   "cell_type": "code",
   "execution_count": 9,
   "metadata": {},
   "outputs": [
    {
     "name": "stdout",
     "output_type": "stream",
     "text": [
      "17\n"
     ]
    }
   ],
   "source": [
    "user_data1 = driver.find_elements_by_xpath('//*[@id=\"video-title\"]')\n",
    "links1 = []\n",
    "for i in user_data1:\n",
    "    links1.append(i.get_attribute('href'))\n",
    "Links1= [] \n",
    "for val in links1: \n",
    "    if val != None : \n",
    "        Links1.append(val) \n",
    "print(len(Links1))  \n",
    "\n"
   ]
  },
  {
   "cell_type": "code",
   "execution_count": 10,
   "metadata": {},
   "outputs": [],
   "source": [
    "wait = WebDriverWait(driver, 10)\n",
    "v_category = \"science and technology\"\n",
    "for x in Links1:\n",
    "    driver.get(x)\n",
    "    v_id = x.strip('https://www.youtube.com/watch?v=')\n",
    "    v_title = wait.until(EC.presence_of_element_located(\n",
    "                   (By.CSS_SELECTOR,\"h1.title yt-formatted-string\"))).text\n",
    "    v_description =  wait.until(EC.presence_of_element_located(\n",
    "                                 (By.CSS_SELECTOR,\"div#description yt-formatted-string\"))).text\n",
    "    df_science.loc[len(df_science)] = [v_id, v_title, v_description, v_category]"
   ]
  },
  {
   "cell_type": "code",
   "execution_count": 11,
   "metadata": {},
   "outputs": [
    {
     "data": {
      "text/html": [
       "<div>\n",
       "<style scoped>\n",
       "    .dataframe tbody tr th:only-of-type {\n",
       "        vertical-align: middle;\n",
       "    }\n",
       "\n",
       "    .dataframe tbody tr th {\n",
       "        vertical-align: top;\n",
       "    }\n",
       "\n",
       "    .dataframe thead th {\n",
       "        text-align: right;\n",
       "    }\n",
       "</style>\n",
       "<table border=\"1\" class=\"dataframe\">\n",
       "  <thead>\n",
       "    <tr style=\"text-align: right;\">\n",
       "      <th></th>\n",
       "      <th>video_id</th>\n",
       "      <th>title</th>\n",
       "      <th>description</th>\n",
       "      <th>category</th>\n",
       "    </tr>\n",
       "  </thead>\n",
       "  <tbody>\n",
       "    <tr>\n",
       "      <th>0</th>\n",
       "      <td>7wxYwpmCQVU</td>\n",
       "      <td>Benefits of Science and Technology</td>\n",
       "      <td>Science and Technology Form One\\nMalaysia Seco...</td>\n",
       "      <td>science and technology</td>\n",
       "    </tr>\n",
       "    <tr>\n",
       "      <th>1</th>\n",
       "      <td>xPXifzNHyYU</td>\n",
       "      <td></td>\n",
       "      <td>Support the Channel: https://www.patreon.com/z...</td>\n",
       "      <td>science and technology</td>\n",
       "    </tr>\n",
       "    <tr>\n",
       "      <th>2</th>\n",
       "      <td>S26IEkzrfQ</td>\n",
       "      <td>Why children need science and technology. | Ne...</td>\n",
       "      <td>Netra Unni Rajesh built her first real science...</td>\n",
       "      <td>science and technology</td>\n",
       "    </tr>\n",
       "    <tr>\n",
       "      <th>3</th>\n",
       "      <td>3Bhq5c6LoZ</td>\n",
       "      <td></td>\n",
       "      <td>Baking soda volcanoes and potato batteries are...</td>\n",
       "      <td>science and technology</td>\n",
       "    </tr>\n",
       "    <tr>\n",
       "      <th>4</th>\n",
       "      <td>f3NWvUV8MD8</td>\n",
       "      <td></td>\n",
       "      <td>Theories of technology often attempt to predic...</td>\n",
       "      <td>science and technology</td>\n",
       "    </tr>\n",
       "  </tbody>\n",
       "</table>\n",
       "</div>"
      ],
      "text/plain": [
       "      video_id                                              title  \\\n",
       "0  7wxYwpmCQVU                 Benefits of Science and Technology   \n",
       "1  xPXifzNHyYU                                                      \n",
       "2   S26IEkzrfQ  Why children need science and technology. | Ne...   \n",
       "3   3Bhq5c6LoZ                                                      \n",
       "4  f3NWvUV8MD8                                                      \n",
       "\n",
       "                                         description                category  \n",
       "0  Science and Technology Form One\\nMalaysia Seco...  science and technology  \n",
       "1  Support the Channel: https://www.patreon.com/z...  science and technology  \n",
       "2  Netra Unni Rajesh built her first real science...  science and technology  \n",
       "3  Baking soda volcanoes and potato batteries are...  science and technology  \n",
       "4  Theories of technology often attempt to predic...  science and technology  "
      ]
     },
     "execution_count": 11,
     "metadata": {},
     "output_type": "execute_result"
    }
   ],
   "source": [
    "df_science.head()"
   ]
  },
  {
   "cell_type": "code",
   "execution_count": 12,
   "metadata": {},
   "outputs": [],
   "source": [
    "driver=webdriver.Chrome()\n",
    "driver.get(\"https://www.youtube.com/results?search_query=food\")"
   ]
  },
  {
   "cell_type": "code",
   "execution_count": 13,
   "metadata": {},
   "outputs": [
    {
     "name": "stdout",
     "output_type": "stream",
     "text": [
      "10\n"
     ]
    }
   ],
   "source": [
    "user_data2 = driver.find_elements_by_xpath('//*[@id=\"video-title\"]')\n",
    "links2 = []\n",
    "for i in user_data2:\n",
    "    links2.append(i.get_attribute('href'))\n",
    "Links2= [] \n",
    "for val in links2: \n",
    "    if val != None : \n",
    "        Links2.append(val) \n",
    "print(len(Links2))"
   ]
  },
  {
   "cell_type": "code",
   "execution_count": 14,
   "metadata": {},
   "outputs": [],
   "source": [
    "wait = WebDriverWait(driver, 1000)\n",
    "v_category = \"food\"\n",
    "for x in Links2:\n",
    "    driver.get(x)\n",
    "    v_id = x.strip('https://www.youtube.com/watch?v=')\n",
    "    v_title = wait.until(EC.presence_of_element_located(\n",
    "                   (By.CSS_SELECTOR,\"h1.title yt-formatted-string\"))).text\n",
    "    v_description =  wait.until(EC.presence_of_element_located(\n",
    "                                 (By.CSS_SELECTOR,\"div#description yt-formatted-string\"))).text\n",
    "    df_food.loc[len(df_food)] = [v_id, v_title, v_description, v_category]"
   ]
  },
  {
   "cell_type": "code",
   "execution_count": 15,
   "metadata": {},
   "outputs": [
    {
     "data": {
      "text/html": [
       "<div>\n",
       "<style scoped>\n",
       "    .dataframe tbody tr th:only-of-type {\n",
       "        vertical-align: middle;\n",
       "    }\n",
       "\n",
       "    .dataframe tbody tr th {\n",
       "        vertical-align: top;\n",
       "    }\n",
       "\n",
       "    .dataframe thead th {\n",
       "        text-align: right;\n",
       "    }\n",
       "</style>\n",
       "<table border=\"1\" class=\"dataframe\">\n",
       "  <thead>\n",
       "    <tr style=\"text-align: right;\">\n",
       "      <th></th>\n",
       "      <th>video_id</th>\n",
       "      <th>title</th>\n",
       "      <th>description</th>\n",
       "      <th>category</th>\n",
       "    </tr>\n",
       "  </thead>\n",
       "  <tbody>\n",
       "    <tr>\n",
       "      <th>0</th>\n",
       "      <td>dD6RKgYqmO8</td>\n",
       "      <td>Thai Street Food - 🛵 MOTORBIKE DELIVERY at Ho...</td>\n",
       "      <td>COVID-19 is affecting all of us. In this chall...</td>\n",
       "      <td>food</td>\n",
       "    </tr>\n",
       "    <tr>\n",
       "      <th>1</th>\n",
       "      <td>6lCkSKn2SwY</td>\n",
       "      <td>Vietnam's Seafood NIGHTMARE!!! Extreme Food To...</td>\n",
       "      <td>🎥 SECRET DIET OF MYANMAR MONKS!  » https://yo...</td>\n",
       "      <td>food</td>\n",
       "    </tr>\n",
       "    <tr>\n",
       "      <th>2</th>\n",
       "      <td>2FB28M5uUQ4</td>\n",
       "      <td></td>\n",
       "      <td>►Go Subscribe to Mr. Taster on YouTube here: h...</td>\n",
       "      <td>food</td>\n",
       "    </tr>\n",
       "    <tr>\n",
       "      <th>3</th>\n",
       "      <td>xil5oAwPMg</td>\n",
       "      <td>Guy Fieri Tries an \"Out-of-Bounds\" Prosciutto ...</td>\n",
       "      <td>This Italian deli is known for a bread that is...</td>\n",
       "      <td>food</td>\n",
       "    </tr>\n",
       "    <tr>\n",
       "      <th>4</th>\n",
       "      <td>0SPwwpruGIA</td>\n",
       "      <td>42 Foods You Need To Eat Before You Die | The ...</td>\n",
       "      <td>This is the ultimate must-try food bucket list...</td>\n",
       "      <td>food</td>\n",
       "    </tr>\n",
       "  </tbody>\n",
       "</table>\n",
       "</div>"
      ],
      "text/plain": [
       "      video_id                                              title  \\\n",
       "0  dD6RKgYqmO8  Thai Street Food - 🛵 MOTORBIKE DELIVERY at Ho...   \n",
       "1  6lCkSKn2SwY  Vietnam's Seafood NIGHTMARE!!! Extreme Food To...   \n",
       "2  2FB28M5uUQ4                                                      \n",
       "3   xil5oAwPMg  Guy Fieri Tries an \"Out-of-Bounds\" Prosciutto ...   \n",
       "4  0SPwwpruGIA  42 Foods You Need To Eat Before You Die | The ...   \n",
       "\n",
       "                                         description category  \n",
       "0  COVID-19 is affecting all of us. In this chall...     food  \n",
       "1  🎥 SECRET DIET OF MYANMAR MONKS!  » https://yo...     food  \n",
       "2  ►Go Subscribe to Mr. Taster on YouTube here: h...     food  \n",
       "3  This Italian deli is known for a bread that is...     food  \n",
       "4  This is the ultimate must-try food bucket list...     food  "
      ]
     },
     "execution_count": 15,
     "metadata": {},
     "output_type": "execute_result"
    }
   ],
   "source": [
    "df_food.head()"
   ]
  },
  {
   "cell_type": "code",
   "execution_count": 16,
   "metadata": {},
   "outputs": [],
   "source": [
    "driver=webdriver.Chrome()\n",
    "driver.get(\"https://www.youtube.com/results?search_query=manufacturing\")"
   ]
  },
  {
   "cell_type": "code",
   "execution_count": 17,
   "metadata": {},
   "outputs": [],
   "source": [
    "user_data3 = driver.find_elements_by_xpath('//*[@id=\"video-title\"]')\n",
    "links3 = []\n",
    "for i in user_data3:\n",
    "    links3.append(i.get_attribute('href'))\n",
    "Links3= [] \n",
    "for val in links3: \n",
    "    if val != None : \n",
    "        Links3.append(val) \n"
   ]
  },
  {
   "cell_type": "code",
   "execution_count": 18,
   "metadata": {},
   "outputs": [
    {
     "data": {
      "text/plain": [
       "13"
      ]
     },
     "execution_count": 18,
     "metadata": {},
     "output_type": "execute_result"
    }
   ],
   "source": [
    "len(Links3)"
   ]
  },
  {
   "cell_type": "code",
   "execution_count": 19,
   "metadata": {},
   "outputs": [],
   "source": [
    "wait = WebDriverWait(driver, 100)\n",
    "v_category = \"manufacturing\"\n",
    "for x in Links3:\n",
    "    driver.get(x)\n",
    "    v_id = x.strip('https://www.youtube.com/watch?v=')\n",
    "    v_title = wait.until(EC.presence_of_element_located(\n",
    "                   (By.CSS_SELECTOR,\"h1.title yt-formatted-string\"))).text\n",
    "    v_description =  wait.until(EC.presence_of_element_located(\n",
    "                                 (By.CSS_SELECTOR,\"div#description yt-formatted-string\"))).text\n",
    "    df_manufacturing.loc[len(df_manufacturing)] = [v_id, v_title, v_description, v_category]"
   ]
  },
  {
   "cell_type": "code",
   "execution_count": 20,
   "metadata": {},
   "outputs": [],
   "source": [
    "driver=webdriver.Chrome()\n",
    "driver.get(\"https://www.youtube.com/results?search_query=history\")"
   ]
  },
  {
   "cell_type": "code",
   "execution_count": 21,
   "metadata": {},
   "outputs": [
    {
     "name": "stdout",
     "output_type": "stream",
     "text": [
      "13\n"
     ]
    }
   ],
   "source": [
    "user_data4 = driver.find_elements_by_xpath('//*[@id=\"video-title\"]')\n",
    "links4 = []\n",
    "for i in user_data4:\n",
    "    links4.append(i.get_attribute('href'))\n",
    "Links4= [] \n",
    "for val in links4: \n",
    "    if val != None : \n",
    "        Links4.append(val) \n",
    "print(len(Links4))        "
   ]
  },
  {
   "cell_type": "code",
   "execution_count": 22,
   "metadata": {},
   "outputs": [],
   "source": [
    "wait = WebDriverWait(driver, 10)\n",
    "v_category = \"history\"\n",
    "for x in Links4:\n",
    "    driver.get(x)\n",
    "    v_id = x.strip('https://www.youtube.com/watch?v=')\n",
    "    v_title = wait.until(EC.presence_of_element_located(\n",
    "                   (By.CSS_SELECTOR,\"h1.title yt-formatted-string\"))).text\n",
    "    v_description =  wait.until(EC.presence_of_element_located(\n",
    "                                 (By.CSS_SELECTOR,\"div#description yt-formatted-string\"))).text\n",
    "    df_history.loc[len(df_history)] = [v_id, v_title, v_description, v_category]"
   ]
  },
  {
   "cell_type": "code",
   "execution_count": 23,
   "metadata": {},
   "outputs": [],
   "source": [
    "driver=webdriver.Chrome()\n",
    "driver.get(\"https://www.youtube.com/results?search_query=art+music\")"
   ]
  },
  {
   "cell_type": "code",
   "execution_count": 24,
   "metadata": {},
   "outputs": [
    {
     "data": {
      "text/plain": [
       "7"
      ]
     },
     "execution_count": 24,
     "metadata": {},
     "output_type": "execute_result"
    }
   ],
   "source": [
    "user_data5 = driver.find_elements_by_xpath('//*[@id=\"video-title\"]')\n",
    "links5 = []\n",
    "for i in user_data5:\n",
    "    links5.append(i.get_attribute('href'))\n",
    "Links5= [] \n",
    "for val in links5: \n",
    "    if val != None : \n",
    "        Links5.append(val) \n",
    "len(Links5)        "
   ]
  },
  {
   "cell_type": "code",
   "execution_count": 25,
   "metadata": {},
   "outputs": [],
   "source": [
    "wait = WebDriverWait(driver, 10000)\n",
    "v_category = \"art and music\"\n",
    "for x in Links5:\n",
    "    driver.get(x)\n",
    "    v_id = x.strip('https://www.youtube.com/watch?v=')\n",
    "    v_title = wait.until(EC.presence_of_element_located(\n",
    "                   (By.CSS_SELECTOR,\"h1.title yt-formatted-string\"))).text\n",
    "    v_description =  wait.until(EC.presence_of_element_located(\n",
    "                                 (By.CSS_SELECTOR,\"div#description yt-formatted-string\"))).text\n",
    "    df_music.loc[len(df_music)] = [v_id, v_title, v_description, v_category]"
   ]
  },
  {
   "cell_type": "code",
   "execution_count": 26,
   "metadata": {},
   "outputs": [
    {
     "data": {
      "text/html": [
       "<div>\n",
       "<style scoped>\n",
       "    .dataframe tbody tr th:only-of-type {\n",
       "        vertical-align: middle;\n",
       "    }\n",
       "\n",
       "    .dataframe tbody tr th {\n",
       "        vertical-align: top;\n",
       "    }\n",
       "\n",
       "    .dataframe thead th {\n",
       "        text-align: right;\n",
       "    }\n",
       "</style>\n",
       "<table border=\"1\" class=\"dataframe\">\n",
       "  <thead>\n",
       "    <tr style=\"text-align: right;\">\n",
       "      <th></th>\n",
       "      <th>video_id</th>\n",
       "      <th>title</th>\n",
       "      <th>description</th>\n",
       "      <th>category</th>\n",
       "    </tr>\n",
       "  </thead>\n",
       "  <tbody>\n",
       "    <tr>\n",
       "      <th>2</th>\n",
       "      <td>QBYLj-n22xE</td>\n",
       "      <td></td>\n",
       "      <td>enjoy a beautiful chill music...\\nbest mixes —...</td>\n",
       "      <td>art and music</td>\n",
       "    </tr>\n",
       "    <tr>\n",
       "      <th>3</th>\n",
       "      <td>5qap5aO4i9A</td>\n",
       "      <td></td>\n",
       "      <td>Thank you for listening, I hope you will have ...</td>\n",
       "      <td>art and music</td>\n",
       "    </tr>\n",
       "    <tr>\n",
       "      <th>4</th>\n",
       "      <td>-b62qPocU4</td>\n",
       "      <td></td>\n",
       "      <td>Facebook ►https://www.facebook.com/Classical-M...</td>\n",
       "      <td>art and music</td>\n",
       "    </tr>\n",
       "    <tr>\n",
       "      <th>5</th>\n",
       "      <td>XbS3tPO9sU</td>\n",
       "      <td>Fantasy Music - Daydream Mix</td>\n",
       "      <td>This was all composed by Jeremy Soule, one of ...</td>\n",
       "      <td>art and music</td>\n",
       "    </tr>\n",
       "    <tr>\n",
       "      <th>6</th>\n",
       "      <td>1b8xiXKd9Kk</td>\n",
       "      <td></td>\n",
       "      <td>♫ Buy “Van Gogh on on Caggiano, Floridia, Boit...</td>\n",
       "      <td>art and music</td>\n",
       "    </tr>\n",
       "  </tbody>\n",
       "</table>\n",
       "</div>"
      ],
      "text/plain": [
       "      video_id                         title  \\\n",
       "2  QBYLj-n22xE                                 \n",
       "3  5qap5aO4i9A                                 \n",
       "4   -b62qPocU4                                 \n",
       "5   XbS3tPO9sU  Fantasy Music - Daydream Mix   \n",
       "6  1b8xiXKd9Kk                                 \n",
       "\n",
       "                                         description       category  \n",
       "2  enjoy a beautiful chill music...\\nbest mixes —...  art and music  \n",
       "3  Thank you for listening, I hope you will have ...  art and music  \n",
       "4  Facebook ►https://www.facebook.com/Classical-M...  art and music  \n",
       "5  This was all composed by Jeremy Soule, one of ...  art and music  \n",
       "6  ♫ Buy “Van Gogh on on Caggiano, Floridia, Boit...  art and music  "
      ]
     },
     "execution_count": 26,
     "metadata": {},
     "output_type": "execute_result"
    }
   ],
   "source": [
    "df_music.tail()"
   ]
  },
  {
   "cell_type": "code",
   "execution_count": 27,
   "metadata": {},
   "outputs": [],
   "source": [
    "data_list = [df_travel, df_science, df_food, df_manufacturing, df_history, df_music]\n"
   ]
  },
  {
   "cell_type": "code",
   "execution_count": 28,
   "metadata": {},
   "outputs": [],
   "source": [
    "#all the dataframes are concatinated\n",
    "data= pd.concat(data_list, axis=0, join='outer', join_axes=None, ignore_index=True,\n",
    "                            keys=None, levels=None, names=None, verify_integrity=False, copy=True)"
   ]
  },
  {
   "cell_type": "code",
   "execution_count": 29,
   "metadata": {},
   "outputs": [
    {
     "data": {
      "text/html": [
       "<div>\n",
       "<style scoped>\n",
       "    .dataframe tbody tr th:only-of-type {\n",
       "        vertical-align: middle;\n",
       "    }\n",
       "\n",
       "    .dataframe tbody tr th {\n",
       "        vertical-align: top;\n",
       "    }\n",
       "\n",
       "    .dataframe thead th {\n",
       "        text-align: right;\n",
       "    }\n",
       "</style>\n",
       "<table border=\"1\" class=\"dataframe\">\n",
       "  <thead>\n",
       "    <tr style=\"text-align: right;\">\n",
       "      <th></th>\n",
       "      <th>video_id</th>\n",
       "      <th>title</th>\n",
       "      <th>description</th>\n",
       "      <th>category</th>\n",
       "    </tr>\n",
       "  </thead>\n",
       "  <tbody>\n",
       "    <tr>\n",
       "      <th>count</th>\n",
       "      <td>80</td>\n",
       "      <td>80</td>\n",
       "      <td>80</td>\n",
       "      <td>80</td>\n",
       "    </tr>\n",
       "    <tr>\n",
       "      <th>unique</th>\n",
       "      <td>80</td>\n",
       "      <td>37</td>\n",
       "      <td>79</td>\n",
       "      <td>6</td>\n",
       "    </tr>\n",
       "    <tr>\n",
       "      <th>top</th>\n",
       "      <td>BYbxw8f5OI</td>\n",
       "      <td></td>\n",
       "      <td>Support the Channel: https://www.patreon.com/z...</td>\n",
       "      <td>travel Blogs</td>\n",
       "    </tr>\n",
       "    <tr>\n",
       "      <th>freq</th>\n",
       "      <td>1</td>\n",
       "      <td>44</td>\n",
       "      <td>2</td>\n",
       "      <td>20</td>\n",
       "    </tr>\n",
       "  </tbody>\n",
       "</table>\n",
       "</div>"
      ],
      "text/plain": [
       "          video_id title                                        description  \\\n",
       "count           80    80                                                 80   \n",
       "unique          80    37                                                 79   \n",
       "top     BYbxw8f5OI        Support the Channel: https://www.patreon.com/z...   \n",
       "freq             1    44                                                  2   \n",
       "\n",
       "            category  \n",
       "count             80  \n",
       "unique             6  \n",
       "top     travel Blogs  \n",
       "freq              20  "
      ]
     },
     "execution_count": 29,
     "metadata": {},
     "output_type": "execute_result"
    }
   ],
   "source": [
    "data.describe()\n",
    "\n"
   ]
  },
  {
   "cell_type": "code",
   "execution_count": 30,
   "metadata": {},
   "outputs": [],
   "source": [
    "df_title = pd.DataFrame(columns = [\"title\"])  \n",
    "df_video_id = pd.DataFrame(columns = [\"video_id\"])        \n",
    "df_description = pd.DataFrame(columns = [\"description\"])        \n",
    "df_category = pd.DataFrame(columns = [\"category\"])        \n",
    "df_video_id['video_id'] = data['video_id'] \n",
    "df_title ['title']= data['title'] \n",
    "df_description['description'] = data['description'] \n",
    "df_category['category'] = data['category']"
   ]
  },
  {
   "cell_type": "code",
   "execution_count": 31,
   "metadata": {},
   "outputs": [
    {
     "name": "stderr",
     "output_type": "stream",
     "text": [
      "[nltk_data] Downloading package stopwords to\n",
      "[nltk_data]     /Users/ismayiltahmazov/nltk_data...\n",
      "[nltk_data]   Package stopwords is already up-to-date!\n"
     ]
    }
   ],
   "source": [
    "#data pre=processing\n",
    "import re \n",
    "import nltk \n",
    "nltk.download('stopwords') \n",
    "from nltk.corpus import stopwords \n",
    "from nltk.stem.porter import PorterStemmer"
   ]
  },
  {
   "cell_type": "code",
   "execution_count": 32,
   "metadata": {},
   "outputs": [
    {
     "ename": "KeyError",
     "evalue": "80",
     "output_type": "error",
     "traceback": [
      "\u001b[0;31m---------------------------------------------------------------------------\u001b[0m",
      "\u001b[0;31mKeyError\u001b[0m                                  Traceback (most recent call last)",
      "\u001b[0;32m<ipython-input-32-a9a2dd86fb46>\u001b[0m in \u001b[0;36m<module>\u001b[0;34m()\u001b[0m\n\u001b[1;32m      2\u001b[0m \u001b[0mcleaned_title\u001b[0m \u001b[0;34m=\u001b[0m \u001b[0;34m[\u001b[0m\u001b[0;34m]\u001b[0m\u001b[0;34m\u001b[0m\u001b[0m\n\u001b[1;32m      3\u001b[0m \u001b[0;32mfor\u001b[0m \u001b[0mi\u001b[0m \u001b[0;32min\u001b[0m \u001b[0mrange\u001b[0m\u001b[0;34m(\u001b[0m\u001b[0;36m0\u001b[0m\u001b[0;34m,\u001b[0m \u001b[0;36m3329\u001b[0m\u001b[0;34m)\u001b[0m\u001b[0;34m:\u001b[0m\u001b[0;34m\u001b[0m\u001b[0m\n\u001b[0;32m----> 4\u001b[0;31m     \u001b[0mreview\u001b[0m \u001b[0;34m=\u001b[0m \u001b[0mre\u001b[0m\u001b[0;34m.\u001b[0m\u001b[0msub\u001b[0m\u001b[0;34m(\u001b[0m\u001b[0;34m'[^a-zA-Z]'\u001b[0m\u001b[0;34m,\u001b[0m \u001b[0;34m' '\u001b[0m\u001b[0;34m,\u001b[0m \u001b[0mdf_title\u001b[0m\u001b[0;34m[\u001b[0m\u001b[0;34m'title'\u001b[0m\u001b[0;34m]\u001b[0m\u001b[0;34m[\u001b[0m\u001b[0mi\u001b[0m\u001b[0;34m]\u001b[0m\u001b[0;34m)\u001b[0m\u001b[0;34m\u001b[0m\u001b[0m\n\u001b[0m\u001b[1;32m      5\u001b[0m     \u001b[0mreview\u001b[0m \u001b[0;34m=\u001b[0m \u001b[0mreview\u001b[0m\u001b[0;34m.\u001b[0m\u001b[0mlower\u001b[0m\u001b[0;34m(\u001b[0m\u001b[0;34m)\u001b[0m\u001b[0;34m\u001b[0m\u001b[0m\n\u001b[1;32m      6\u001b[0m     \u001b[0mreview\u001b[0m \u001b[0;34m=\u001b[0m \u001b[0mreview\u001b[0m\u001b[0;34m.\u001b[0m\u001b[0msplit\u001b[0m\u001b[0;34m(\u001b[0m\u001b[0;34m)\u001b[0m\u001b[0;34m\u001b[0m\u001b[0m\n",
      "\u001b[0;32m/Users/ismayiltahmazov/opt/anaconda2/lib/python2.7/site-packages/pandas/core/series.pyc\u001b[0m in \u001b[0;36m__getitem__\u001b[0;34m(self, key)\u001b[0m\n\u001b[1;32m    866\u001b[0m         \u001b[0mkey\u001b[0m \u001b[0;34m=\u001b[0m \u001b[0mcom\u001b[0m\u001b[0;34m.\u001b[0m\u001b[0mapply_if_callable\u001b[0m\u001b[0;34m(\u001b[0m\u001b[0mkey\u001b[0m\u001b[0;34m,\u001b[0m \u001b[0mself\u001b[0m\u001b[0;34m)\u001b[0m\u001b[0;34m\u001b[0m\u001b[0m\n\u001b[1;32m    867\u001b[0m         \u001b[0;32mtry\u001b[0m\u001b[0;34m:\u001b[0m\u001b[0;34m\u001b[0m\u001b[0m\n\u001b[0;32m--> 868\u001b[0;31m             \u001b[0mresult\u001b[0m \u001b[0;34m=\u001b[0m \u001b[0mself\u001b[0m\u001b[0;34m.\u001b[0m\u001b[0mindex\u001b[0m\u001b[0;34m.\u001b[0m\u001b[0mget_value\u001b[0m\u001b[0;34m(\u001b[0m\u001b[0mself\u001b[0m\u001b[0;34m,\u001b[0m \u001b[0mkey\u001b[0m\u001b[0;34m)\u001b[0m\u001b[0;34m\u001b[0m\u001b[0m\n\u001b[0m\u001b[1;32m    869\u001b[0m \u001b[0;34m\u001b[0m\u001b[0m\n\u001b[1;32m    870\u001b[0m             \u001b[0;32mif\u001b[0m \u001b[0;32mnot\u001b[0m \u001b[0mis_scalar\u001b[0m\u001b[0;34m(\u001b[0m\u001b[0mresult\u001b[0m\u001b[0;34m)\u001b[0m\u001b[0;34m:\u001b[0m\u001b[0;34m\u001b[0m\u001b[0m\n",
      "\u001b[0;32m/Users/ismayiltahmazov/opt/anaconda2/lib/python2.7/site-packages/pandas/core/indexes/base.pyc\u001b[0m in \u001b[0;36mget_value\u001b[0;34m(self, series, key)\u001b[0m\n\u001b[1;32m   4373\u001b[0m         \u001b[0;32mtry\u001b[0m\u001b[0;34m:\u001b[0m\u001b[0;34m\u001b[0m\u001b[0m\n\u001b[1;32m   4374\u001b[0m             return self._engine.get_value(s, k,\n\u001b[0;32m-> 4375\u001b[0;31m                                           tz=getattr(series.dtype, 'tz', None))\n\u001b[0m\u001b[1;32m   4376\u001b[0m         \u001b[0;32mexcept\u001b[0m \u001b[0mKeyError\u001b[0m \u001b[0;32mas\u001b[0m \u001b[0me1\u001b[0m\u001b[0;34m:\u001b[0m\u001b[0;34m\u001b[0m\u001b[0m\n\u001b[1;32m   4377\u001b[0m             \u001b[0;32mif\u001b[0m \u001b[0mlen\u001b[0m\u001b[0;34m(\u001b[0m\u001b[0mself\u001b[0m\u001b[0;34m)\u001b[0m \u001b[0;34m>\u001b[0m \u001b[0;36m0\u001b[0m \u001b[0;32mand\u001b[0m \u001b[0;34m(\u001b[0m\u001b[0mself\u001b[0m\u001b[0;34m.\u001b[0m\u001b[0mholds_integer\u001b[0m\u001b[0;34m(\u001b[0m\u001b[0;34m)\u001b[0m \u001b[0;32mor\u001b[0m \u001b[0mself\u001b[0m\u001b[0;34m.\u001b[0m\u001b[0mis_boolean\u001b[0m\u001b[0;34m(\u001b[0m\u001b[0;34m)\u001b[0m\u001b[0;34m)\u001b[0m\u001b[0;34m:\u001b[0m\u001b[0;34m\u001b[0m\u001b[0m\n",
      "\u001b[0;32mpandas/_libs/index.pyx\u001b[0m in \u001b[0;36mpandas._libs.index.IndexEngine.get_value\u001b[0;34m()\u001b[0m\n",
      "\u001b[0;32mpandas/_libs/index.pyx\u001b[0m in \u001b[0;36mpandas._libs.index.IndexEngine.get_value\u001b[0;34m()\u001b[0m\n",
      "\u001b[0;32mpandas/_libs/index.pyx\u001b[0m in \u001b[0;36mpandas._libs.index.IndexEngine.get_loc\u001b[0;34m()\u001b[0m\n",
      "\u001b[0;32mpandas/_libs/hashtable_class_helper.pxi\u001b[0m in \u001b[0;36mpandas._libs.hashtable.Int64HashTable.get_item\u001b[0;34m()\u001b[0m\n",
      "\u001b[0;32mpandas/_libs/hashtable_class_helper.pxi\u001b[0m in \u001b[0;36mpandas._libs.hashtable.Int64HashTable.get_item\u001b[0;34m()\u001b[0m\n",
      "\u001b[0;31mKeyError\u001b[0m: 80"
     ]
    }
   ],
   "source": [
    "#title is cleaned and stored in a new list\n",
    "cleaned_title = []        \n",
    "for i in range(0, 3329):  \n",
    "    review = re.sub('[^a-zA-Z]', ' ', df_title['title'][i])            \n",
    "    review = review.lower()            \n",
    "    review = review.split()            \n",
    "    ps = PorterStemmer()            \n",
    "    review = [ps.stem(word) for word in review if not word in set(stopwords.words('english'))]            \n",
    "    review = ' '.join(review)            \n",
    "    cleaned_title.append(review)"
   ]
  },
  {
   "cell_type": "code",
   "execution_count": null,
   "metadata": {},
   "outputs": [],
   "source": [
    "cleaned_desc = [] \n",
    "for i in range(0, 3329): \n",
    "    review = re.sub('[^a-zA-Z]', ' ', df_description['description'][i])            \n",
    "    review = review.lower()            \n",
    "    review = review.split()            \n",
    "    ps = PorterStemmer()            \n",
    "    review = [ps.stem(word) for word in review if not word in set(stopwords.words('english'))]            \n",
    "    review = ' '.join(review)            \n",
    "    cleaned_desc.append(review)\n"
   ]
  },
  {
   "cell_type": "code",
   "execution_count": null,
   "metadata": {},
   "outputs": [],
   "source": [
    "#list is cnverted to dataframes\n",
    "dftitle = pd.DataFrame({'title':cleaned_title})\n",
    "dfdescription = pd.DataFrame({'description':cleaned_desc})"
   ]
  },
  {
   "cell_type": "code",
   "execution_count": null,
   "metadata": {},
   "outputs": [],
   "source": [
    "from sklearn.preprocessing import LabelEncoder\n",
    "dfcategory = df_category.apply(LabelEncoder().fit_transform)"
   ]
  },
  {
   "cell_type": "code",
   "execution_count": null,
   "metadata": {},
   "outputs": [],
   "source": [
    "df_new = pd.concat([df_video_id, dftitle, dfdescription, dfcategory], axis=1, join_axes = [df_video_id.index])\n"
   ]
  },
  {
   "cell_type": "code",
   "execution_count": null,
   "metadata": {},
   "outputs": [],
   "source": [
    "from sklearn.feature_extraction.text import CountVectorizer   \n",
    "cv = CountVectorizer(max_features = 6) \n",
    "X = cv.fit_transform(cleaned_title, cleaned_desc).toarray() \n",
    "y = df_new.iloc[:, 3].values"
   ]
  },
  {
   "cell_type": "code",
   "execution_count": null,
   "metadata": {},
   "outputs": [],
   "source": [
    "y.shape"
   ]
  },
  {
   "cell_type": "code",
   "execution_count": null,
   "metadata": {},
   "outputs": [],
   "source": [
    "#data is split into training(80%) and testing (20%)  sets\n",
    "from sklearn.model_selection import train_test_split\n",
    "X_train, X_test, y_train, y_test = train_test_split(X, y, test_size = 0.20, random_state = 0)"
   ]
  },
  {
   "cell_type": "code",
   "execution_count": null,
   "metadata": {},
   "outputs": [],
   "source": [
    "#category1:Naive bayes classification algorithm\n"
   ]
  },
  {
   "cell_type": "code",
   "execution_count": null,
   "metadata": {},
   "outputs": [],
   "source": [
    "from sklearn.naive_bayes import GaussianNB\n",
    "\n",
    "gnb = GaussianNB()\n",
    "gnb.fit(X_train, y_train)\n",
    "print('Accuracy of GNB classifier on training set: {:.2f}'\n",
    "     .format(gnb.score(X_train, y_train)))\n",
    "print('Accuracy of GNB classifier on test set: {:.2f}'\n",
    "     .format(gnb.score(X_test, y_test)))"
   ]
  },
  {
   "cell_type": "code",
   "execution_count": null,
   "metadata": {},
   "outputs": [],
   "source": [
    "#scores of naive bayes classication algorithm\n",
    "from sklearn.metrics import classification_report\n",
    "from sklearn.metrics import precision_recall_fscore_support\n",
    "\n",
    "y_pred = gnb.predict(X_test)\n",
    "gnb.score(X_test, y_test)\n",
    "\n",
    "print(classification_report(y_test, y_pred))\n"
   ]
  },
  {
   "cell_type": "code",
   "execution_count": null,
   "metadata": {},
   "outputs": [],
   "source": [
    "\n"
   ]
  },
  {
   "cell_type": "code",
   "execution_count": null,
   "metadata": {},
   "outputs": [],
   "source": []
  },
  {
   "cell_type": "code",
   "execution_count": null,
   "metadata": {},
   "outputs": [],
   "source": []
  },
  {
   "cell_type": "code",
   "execution_count": null,
   "metadata": {},
   "outputs": [],
   "source": [
    "#category 2: Gradient Tree Boosting algorithm"
   ]
  },
  {
   "cell_type": "code",
   "execution_count": null,
   "metadata": {},
   "outputs": [],
   "source": [
    "from sklearn.ensemble import GradientBoostingClassifier "
   ]
  },
  {
   "cell_type": "code",
   "execution_count": null,
   "metadata": {},
   "outputs": [],
   "source": [
    "clf = GradientBoostingClassifier(n_estimators=100, learning_rate=1.0, max_depth=1)\n",
    "clf.fit(X_train, y_train)\n",
    "print('Accuracy of GNB classifier on training set: {:.2f}'\n",
    "     .format(clf.score(X_train, y_train)))\n",
    "print('Accuracy of GNB classifier on test set: {:.2f}'\n",
    "     .format(clf.score(X_test, y_test)))"
   ]
  },
  {
   "cell_type": "code",
   "execution_count": null,
   "metadata": {
    "scrolled": true
   },
   "outputs": [],
   "source": [
    "#scores of gradient boosting algorithm\n",
    "from sklearn.metrics import classification_report\n",
    "from sklearn.metrics import precision_recall_fscore_support\n",
    "\n",
    "y_pred = clf.predict(X_test)\n",
    "clf.score(X_test, y_test)\n",
    "print(classification_report(y_test, y_pred))"
   ]
  },
  {
   "cell_type": "code",
   "execution_count": null,
   "metadata": {},
   "outputs": [],
   "source": [
    "#data exported to excel file\n",
    "from pandas import ExcelWriter\n",
    "\n",
    "writer = ExcelWriter('travel_blog.xlsx')\n",
    "df_new.to_excel(writer,'Youtube_video')\n",
    "writer.save()"
   ]
  },
  {
   "cell_type": "code",
   "execution_count": null,
   "metadata": {},
   "outputs": [],
   "source": [
    "#category 3 :Lstm model on next jupyter notebook named Youtube_lstm_code\n"
   ]
  },
  {
   "cell_type": "code",
   "execution_count": null,
   "metadata": {},
   "outputs": [],
   "source": []
  },
  {
   "cell_type": "code",
   "execution_count": null,
   "metadata": {},
   "outputs": [],
   "source": []
  },
  {
   "cell_type": "code",
   "execution_count": null,
   "metadata": {},
   "outputs": [],
   "source": []
  }
 ],
 "metadata": {
  "kernelspec": {
   "display_name": "Python 2",
   "language": "python",
   "name": "python2"
  },
  "language_info": {
   "codemirror_mode": {
    "name": "ipython",
    "version": 2
   },
   "file_extension": ".py",
   "mimetype": "text/x-python",
   "name": "python",
   "nbconvert_exporter": "python",
   "pygments_lexer": "ipython2",
   "version": "2.7.16"
  }
 },
 "nbformat": 4,
 "nbformat_minor": 2
}
