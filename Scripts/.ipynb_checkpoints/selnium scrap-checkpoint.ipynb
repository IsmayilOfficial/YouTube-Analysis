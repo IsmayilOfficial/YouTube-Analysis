{
 "cells": [
  {
   "cell_type": "code",
   "execution_count": null,
   "metadata": {},
   "outputs": [
    {
     "name": "stdout",
     "output_type": "stream",
     "text": [
      "Link to Youtube video: 0PZzqQYvPwI\n"
     ]
    }
   ],
   "source": [
    "from selenium import webdriver\n",
    "import time\n",
    "import re\n",
    "import csv\n",
    "import string\n",
    "\n",
    "def isEnglish(s):\n",
    "    try:\n",
    "        s.encode('ascii')\n",
    "    except UnicodeEncodeError:\n",
    "        return False\n",
    "    else:\n",
    "        return True\n",
    "\n",
    "driver = webdriver.Chrome('C:\\webdrivers\\chromedriver')\n",
    "yt_link = input(\"Link to Youtube video: \")\n",
    "#print(\"-------------------------------------------------------------------------------------------------------------------\")\n",
    "#driver.get(yt_link)\n",
    "driver.get(\"https://www.youtube.com/watch?v=\"+yt_link)\n",
    "driver.maximize_window()\n",
    "time.sleep(5)\n",
    "title = driver.find_element_by_xpath('//*[@id=\"container\"]/h1/yt-formatted-string').text\n",
    "#print(\"Video Title: \" + title)\n",
    "#print(\"-------------------------------------------------------------------------------------------------------------------\")\n",
    "\n",
    "comment_section = driver.find_element_by_xpath('//*[@id=\"comments\"]')\n",
    "driver.execute_script(\"arguments[0].scrollIntoView();\", comment_section)\n",
    "time.sleep(7)\n",
    "\n",
    "last_height = driver.execute_script(\"return document.documentElement.scrollHeight\")\n",
    "while True:\n",
    "    # Scroll down to bottom\n",
    "    driver.execute_script(\"window.scrollTo(0, document.documentElement.scrollHeight);\")\n",
    "\n",
    "    # Wait to load page\n",
    "    time.sleep(2)\n",
    "\n",
    "    # Calculate new scroll height and compare with last scroll height\n",
    "    new_height = driver.execute_script(\"return document.documentElement.scrollHeight\")\n",
    "    if new_height == last_height:\n",
    "        break\n",
    "    last_height = new_height\n",
    "\n",
    "driver.execute_script(\"window.scrollTo(0, document.documentElement.scrollHeight);\")\n",
    "\n",
    "emoji_pattern = re.compile(\"[\"\n",
    "                           u\"\\U0001F600-\\U0001F64F\"  \n",
    "                           u\"\\U0001F300-\\U0001F5FF\"\n",
    "                           u\"\\U0001F680-\\U0001F6FF\"\n",
    "                           u\"\\U0001F1E0-\\U0001F1FF\"\n",
    "                           \"]+\", flags=re.UNICODE)\n",
    "\n",
    "name_elems=driver.find_elements_by_xpath('//*[@id=\"author-text\"]')\n",
    "comment_elems = driver.find_elements_by_xpath('//*[@id=\"content-text\"]')\n",
    "num_of_names = len(name_elems)\n",
    "for i in range(num_of_names):\n",
    "   # username = name_elems[i].text    # .replace(\",\", \"|\")\n",
    "    # username = emoji_pattern.sub(r'', username)\n",
    "    # username = str(username).replace(\"\\n\", \"---\")\n",
    "    comment = comment_elems[i].text    # .replace(\",\", \"|\")\n",
    "    # comment = emoji_pattern.sub(r'', comment)\n",
    "    # comment = str(comment).replace(\"\\n\", \"---\")\n",
    "    \n",
    "    #if isEnglish(comment) == False:\n",
    "     #   comment = \"NOT ENGLISH\"\n",
    "        \n",
    "    print(  comment) # comment.translate({ord(i):None for i in '' if i not in string.printable})\n",
    "driver.close()"
   ]
  },
  {
   "cell_type": "code",
   "execution_count": null,
   "metadata": {},
   "outputs": [],
   "source": []
  }
 ],
 "metadata": {
  "kernelspec": {
   "display_name": "Python 3",
   "language": "python",
   "name": "python3"
  },
  "language_info": {
   "codemirror_mode": {
    "name": "ipython",
    "version": 3
   },
   "file_extension": ".py",
   "mimetype": "text/x-python",
   "name": "python",
   "nbconvert_exporter": "python",
   "pygments_lexer": "ipython3",
   "version": "3.7.4"
  }
 },
 "nbformat": 4,
 "nbformat_minor": 2
}
